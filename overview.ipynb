{
 "cells": [
  {
   "cell_type": "markdown",
   "id": "f90d26d6-9075-4b73-87f5-ec7a366ae246",
   "metadata": {},
   "source": [
    "# Spark Overview"
   ]
  },
  {
   "cell_type": "markdown",
   "id": "95bcc49d-0702-4f9e-b0b7-ff8f9ff92148",
   "metadata": {},
   "source": [
    "## Who, what, when, where, why, how?\n",
    "\n",
    "* framework / platform for dealing with big data\n",
    "* big data - 4 vs\n",
    "    * velocity\n",
    "    * volume\n",
    "    * variety\n",
    "    * veracity\n",
    "* spark streaming -- databricks\n",
    "* when data is too big\n",
    "    * memory vs storage: RAM vs HDD\n",
    "* when would I use spark? When it's already setup\n",
    "* alternatives: hadoop, dask; spark is the most popular\n",
    "* how do we access spark? client libraries"
   ]
  },
  {
   "cell_type": "markdown",
   "id": "312a9626-bf6f-488d-bfcb-c06cc7a145b0",
   "metadata": {},
   "source": [
    "## Spark Architecture (Sparkitecture)\n",
    "\n",
    "* scala on the JVM (Java Virtual Machine)\n",
    "* client libraries that talk to the running spark instance\n",
    "    * pyspark\n",
    "    * sparkR Rspark\n",
    "    * ends up as the same spark code\n",
    "    * Spark SQL\n",
    "* Computers in a Spark Cluster\n",
    "    * **Driver**: your laptop (or a machine that runs a spark *application*)\n",
    "    * **Cluster Manager / Master**: a machine that organizes everything\n",
    "    * **Executors**: computers that \"do the work\" under the direction of the cluster manager\n",
    "* Local Mode: everything on one machine; what we'll use for this course\n",
    "    * less common in practice\n",
    "    * spark code for a full cluster and local mode is exactly the same\n",
    "    * useful for data that fits in storage, but not memory"
   ]
  },
  {
   "cell_type": "code",
   "execution_count": 1,
   "id": "1abd301b-caea-4fab-876d-1e2f842eecea",
   "metadata": {},
   "outputs": [],
   "source": [
    "import numpy as np\n",
    "import pandas as pd"
   ]
  },
  {
   "cell_type": "code",
   "execution_count": 7,
   "id": "c2e4672a-86b0-42fe-bae2-351109f189c6",
   "metadata": {},
   "outputs": [
    {
     "name": "stdout",
     "output_type": "stream",
     "text": [
      "<class 'pandas.core.frame.DataFrame'>\n",
      "RangeIndex: 10000000 entries, 0 to 9999999\n",
      "Data columns (total 6 columns):\n",
      " #   Column  Dtype  \n",
      "---  ------  -----  \n",
      " 0   x1      float64\n",
      " 1   x2      float64\n",
      " 2   x3      float64\n",
      " 3   x4      float64\n",
      " 4   x5      object \n",
      " 5   x6      object \n",
      "dtypes: float64(4), object(2)\n",
      "memory usage: 457.8+ MB\n"
     ]
    }
   ],
   "source": [
    "n = 10_000_000\n",
    "\n",
    "df = pd.DataFrame({\n",
    "    'x1': np.random.randn(n),\n",
    "    'x2': np.random.randn(n),\n",
    "    'x3': np.random.randn(n),\n",
    "    'x4': np.random.randn(n),\n",
    "    'x5': np.random.choice(list('abcdef'), n),\n",
    "    'x6': np.random.choice(list('abcdef'), n),\n",
    "})\n",
    "\n",
    "df.info()\n",
    "df.to_csv('demo.csv')"
   ]
  },
  {
   "cell_type": "code",
   "execution_count": 8,
   "id": "5f28eeae-c2f0-4828-84c3-0d9386a391cc",
   "metadata": {},
   "outputs": [
    {
     "name": "stdout",
     "output_type": "stream",
     "text": [
      "-rw-r--r-- 1 zach staff 863M Aug  3 14:58 demo.csv\n"
     ]
    }
   ],
   "source": [
    "!ls -lh demo.csv"
   ]
  },
  {
   "cell_type": "markdown",
   "id": "c8f0d89b-77ba-48e2-b559-d25aa4b8da83",
   "metadata": {},
   "source": [
    "## Parallel Work + Spark Dataframes\n",
    "\n",
    "* spark does work in *parallel*, meaning multiple things are happening at once\n",
    "* faster at scale, but some upfront overhead\n",
    "* two levels: *executors* and *partitions*\n",
    "* spark dataframes: abstract everything above\n",
    "    * similar to a pandas dataframe, but important differences!\n",
    "    * lazy!\n",
    "        * reorder operations\n",
    "* **transformations** and **actions**\n",
    "    * actions start a job, transformations are lazy"
   ]
  },
  {
   "cell_type": "code",
   "execution_count": 13,
   "id": "f510d034-e05c-45e5-a7fa-6f272a166e37",
   "metadata": {},
   "outputs": [],
   "source": [
    "import itertools as it"
   ]
  },
  {
   "cell_type": "code",
   "execution_count": 15,
   "id": "105bc0ca-6055-4dd9-b397-c92f6e1d7a92",
   "metadata": {},
   "outputs": [
    {
     "data": {
      "text/plain": [
       "[('a', 'b'),\n",
       " ('a', 'c'),\n",
       " ('a', 'd'),\n",
       " ('a', 'e'),\n",
       " ('b', 'c'),\n",
       " ('b', 'd'),\n",
       " ('b', 'e'),\n",
       " ('c', 'd'),\n",
       " ('c', 'e'),\n",
       " ('d', 'e')]"
      ]
     },
     "execution_count": 15,
     "metadata": {},
     "output_type": "execute_result"
    }
   ],
   "source": [
    "list(it.combinations(list('abcde'), 2))"
   ]
  },
  {
   "cell_type": "code",
   "execution_count": 16,
   "id": "9ec1c69a-8d29-4692-8035-7e8d5126adf7",
   "metadata": {},
   "outputs": [
    {
     "data": {
      "text/plain": [
       "<itertools.combinations at 0x7fd8605a1ef0>"
      ]
     },
     "execution_count": 16,
     "metadata": {},
     "output_type": "execute_result"
    }
   ],
   "source": [
    "it.combinations(list('abcdefghijklmnopqrstuvwxyz'), 10)"
   ]
  },
  {
   "cell_type": "markdown",
   "id": "9556cc7f-3892-4d32-9708-030d95f44e59",
   "metadata": {},
   "source": [
    "## Lessons Covered\n",
    "\n",
    "1. Overview\n",
    "2. Env Setup\n",
    "3. Spark API: learning how to use spark dataframes\n",
    "4. Data Wrangling\n",
    "5. Data Exploration"
   ]
  }
 ],
 "metadata": {
  "kernelspec": {
   "display_name": "Python 3",
   "language": "python",
   "name": "python3"
  },
  "language_info": {
   "codemirror_mode": {
    "name": "ipython",
    "version": 3
   },
   "file_extension": ".py",
   "mimetype": "text/x-python",
   "name": "python",
   "nbconvert_exporter": "python",
   "pygments_lexer": "ipython3",
   "version": "3.8.5"
  }
 },
 "nbformat": 4,
 "nbformat_minor": 5
}
