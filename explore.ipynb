{
 "cells": [
  {
   "cell_type": "code",
   "execution_count": 101,
   "metadata": {},
   "outputs": [],
   "source": [
    "import warnings\n",
    "\n",
    "warnings.filterwarnings(\"ignore\")\n",
    "\n",
    "import pyspark.sql\n",
    "from pyspark.sql.functions import *\n",
    "\n",
    "import numpy as np\n",
    "import pandas as pd\n",
    "\n",
    "%matplotlib inline\n",
    "import matplotlib.pyplot as plt\n",
    "import seaborn as sns\n",
    "import matplotlib as mpl\n",
    "\n",
    "#from wrangle import wrangle_311\n",
    "\n",
    "spark = pyspark.sql.SparkSession.builder.getOrCreate()\n",
    "\n"
   ]
  },
  {
   "cell_type": "markdown",
   "metadata": {},
   "source": [
    "## Acquire data"
   ]
  },
  {
   "cell_type": "code",
   "execution_count": 2,
   "metadata": {},
   "outputs": [],
   "source": [
    "# Read case in CSV file \n",
    "case = spark.read.csv(\"case.csv\",sep=\",\",header=True,inferSchema=True)\n",
    "# Read dept in CSV file \n",
    "dept = spark.read.csv(\"dept.csv\",sep=\",\",header=True,inferSchema=True)\n",
    "# Read source in CSV file \n",
    "source = spark.read.csv(\"source.csv\",sep=\",\",header=True,inferSchema=True)\n",
    "          "
   ]
  },
  {
   "cell_type": "code",
   "execution_count": 3,
   "metadata": {},
   "outputs": [],
   "source": [
    "# source_id as an int instead of string\n",
    "source =source.withColumn('source_id', col('source_id').cast('int'))\n",
    "\n",
    "# use .withColumn to change columns from string to boolean values\n",
    "dept = dept.withColumn('dept_subject_to_SLA', expr('dept_subject_to_SLA == \"YES\"'))\n",
    "\n",
    "# use .withColumn to change columns from string to boolean values\n",
    "case = case.withColumn('case_closed', expr('case_closed == \"YES\"'))\\\n",
    ".withColumn('case_late', expr('case_late == \"YES\"'))\n",
    "\n",
    "# council_district as a string instead of int\n",
    "case = case.withColumn('council_district', col('council_district').cast('string'))\n",
    "# use format_string function to pad zeros for council_district\n",
    "case = case.withColumn('council_district', format_string('%03d', col('council_district').cast('int')))\n",
    "\n",
    "# to_timestamp, fmt\n",
    "\n",
    "fmt = \"M/d/yy H:mm\"\n",
    "\n",
    "case = case.withColumn('case_opened_date', to_timestamp('case_opened_date', fmt))\\\n",
    ".withColumn('case_closed_date', to_timestamp('case_closed_date', fmt))\\\n",
    ".withColumn('SLA_due_date', to_timestamp('SLA_due_date', fmt))\n",
    "\n",
    "# Rename 'SLA_due_date' to 'case_due_date' using .withColumnRenamed\n",
    "case = case.withColumnRenamed('SLA_due_date', 'case_due_date')\n",
    "case = case.withColumn('request_address', trim(lower(case.request_address)))\n",
    "\n",
    "# convert the number of days a case is late to a number of weeks\n",
    "case = case.withColumn('num_weeks_late', expr('num_days_late/7'))\n",
    "\n",
    "# create a new column for zipcode:\n",
    "case = case.withColumn('zipcode', regexp_extract('request_address', r\"(\\d+$)\", 1))\n",
    "\n",
    "\n",
    "#create three new columns 'case_age', 'days_to_closed', 'case_lifetime'\n",
    "\n",
    "case = (\n",
    "    case.withColumn(\n",
    "        \"case_age\", datediff(current_timestamp(), \"case_opened_date\")\n",
    "    )\n",
    "    .withColumn(\n",
    "        \"days_to_closed\", datediff(\"case_closed_date\", \"case_opened_date\")\n",
    "    )\n",
    "    .withColumn(\n",
    "        \"case_lifetime\",\n",
    "        when(expr(\"! case_closed\"), col(\"case_age\")).otherwise(\n",
    "            col(\"days_to_closed\")\n",
    "        ),\n",
    "    )\n",
    ")"
   ]
  },
  {
   "cell_type": "code",
   "execution_count": 4,
   "metadata": {},
   "outputs": [],
   "source": [
    "#join case with dept_divisionb\n",
    "df = (\n",
    "    case\n",
    "    # left join on dept_division\n",
    "    .join(dept, \"dept_division\", \"left\")\n",
    "    # drop  the columns : dept_division, dept_name  standardized name, as it has much fewer unique values\n",
    "    .drop(dept.dept_division)\n",
    "    .drop(dept.dept_name)\n",
    "    #rename standardized name,  \n",
    "    .withColumnRenamed(\"standardized_dept_name\", \"department\")\n",
    ")"
   ]
  },
  {
   "cell_type": "code",
   "execution_count": 5,
   "metadata": {},
   "outputs": [
    {
     "name": "stdout",
     "output_type": "stream",
     "text": [
      "-RECORD 0------------------------------------\n",
      " source_id            | jw10936              \n",
      " case_id              | 1013787134           \n",
      " case_opened_date     | 2017-08-11 07:36:00  \n",
      " case_closed_date     | 2017-08-16 17:24:00  \n",
      " case_due_date        | 2017-10-16 08:30:00  \n",
      " case_late            | false                \n",
      " num_days_late        | -60.62914352         \n",
      " case_closed          | true                 \n",
      " dept_division        | Code Enforcement     \n",
      " service_request_type | Overgrown Yard/Trash \n",
      " SLA_days             | 66.03743056          \n",
      " case_status          | Closed               \n",
      " request_address      | 2522  moss bluff,... \n",
      " council_district     | 009                  \n",
      " num_weeks_late       | -8.661306217142856   \n",
      " zipcode              | 78232                \n",
      " case_age             | 1459                 \n",
      " days_to_closed       | 5                    \n",
      " case_lifetime        | 5                    \n",
      " source_username      | null                 \n",
      "-RECORD 1------------------------------------\n",
      " source_id            | ss21394              \n",
      " case_id              | 1013787133           \n",
      " case_opened_date     | 2017-08-11 07:36:00  \n",
      " case_closed_date     | 2017-08-11 15:33:00  \n",
      " case_due_date        | 2017-08-16 08:30:00  \n",
      " case_late            | false                \n",
      " num_days_late        | -4.706215278         \n",
      " case_closed          | true                 \n",
      " dept_division        | Waste Collection     \n",
      " service_request_type | No Pickup            \n",
      " SLA_days             | 5.037430556          \n",
      " case_status          | Closed               \n",
      " request_address      | 1910  morales, sa... \n",
      " council_district     | 001                  \n",
      " num_weeks_late       | -0.6723164682857143  \n",
      " zipcode              | 78207                \n",
      " case_age             | 1459                 \n",
      " days_to_closed       | 0                    \n",
      " case_lifetime        | 0                    \n",
      " source_username      | null                 \n",
      "-RECORD 2------------------------------------\n",
      " source_id            | svcCRMSS             \n",
      " case_id              | 1013787138           \n",
      " case_opened_date     | 2017-08-11 07:39:00  \n",
      " case_closed_date     | 2017-08-16 07:25:00  \n",
      " case_due_date        | 2017-08-31 08:30:00  \n",
      " case_late            | false                \n",
      " num_days_late        | -15.04497685         \n",
      " case_closed          | true                 \n",
      " dept_division        | Storm Water          \n",
      " service_request_type | Drainage Inlet - ... \n",
      " SLA_days             | 20.03534722          \n",
      " case_status          | Closed               \n",
      " request_address      | hausman rd w and ... \n",
      " council_district     | 008                  \n",
      " num_weeks_late       | -2.149282407142857   \n",
      " zipcode              |                      \n",
      " case_age             | 1459                 \n",
      " days_to_closed       | 5                    \n",
      " case_lifetime        | 5                    \n",
      " source_username      | null                 \n",
      "-RECORD 3------------------------------------\n",
      " source_id            | ss21394              \n",
      " case_id              | 1013787140           \n",
      " case_opened_date     | 2017-08-11 07:40:00  \n",
      " case_closed_date     | 2017-08-11 09:38:00  \n",
      " case_due_date        | 2017-08-16 07:40:00  \n",
      " case_late            | false                \n",
      " num_days_late        | -4.9181597219999995  \n",
      " case_closed          | true                 \n",
      " dept_division        | Field Operations     \n",
      " service_request_type | Aggressive Animal... \n",
      " SLA_days             | 5.0                  \n",
      " case_status          | Closed               \n",
      " request_address      | 432  mayfield w, ... \n",
      " council_district     | 004                  \n",
      " num_weeks_late       | -0.702594246         \n",
      " zipcode              | 78211                \n",
      " case_age             | 1459                 \n",
      " days_to_closed       | 0                    \n",
      " case_lifetime        | 0                    \n",
      " source_username      | null                 \n",
      "-RECORD 4------------------------------------\n",
      " source_id            | jw10936              \n",
      " case_id              | 1013787143           \n",
      " case_opened_date     | 2017-08-11 07:42:00  \n",
      " case_closed_date     | 2017-08-14 06:58:00  \n",
      " case_due_date        | 2017-08-16 08:30:00  \n",
      " case_late            | false                \n",
      " num_days_late        | -2.063356481         \n",
      " case_closed          | true                 \n",
      " dept_division        | Waste Collection     \n",
      " service_request_type | No Pickup            \n",
      " SLA_days             | 5.033078703999999    \n",
      " case_status          | Closed               \n",
      " request_address      | 5827  vandewalle,... \n",
      " council_district     | 006                  \n",
      " num_weeks_late       | -0.2947652115714286  \n",
      " zipcode              | 78227                \n",
      " case_age             | 1459                 \n",
      " days_to_closed       | 3                    \n",
      " case_lifetime        | 3                    \n",
      " source_username      | null                 \n",
      "only showing top 5 rows\n",
      "\n"
     ]
    }
   ],
   "source": [
    "#joint df  with source\n",
    "\n",
    "(\n",
    "    case.join(source, \"source_id\", \"left\")\n",
    "    .sort(col(\"source_username\"))\n",
    "    .show(5, vertical=True)\n",
    ")"
   ]
  },
  {
   "cell_type": "code",
   "execution_count": 6,
   "metadata": {},
   "outputs": [
    {
     "name": "stdout",
     "output_type": "stream",
     "text": [
      "-RECORD 0------------------------------------\n",
      " dept_division        | Field Operations     \n",
      " case_id              | 1014127332           \n",
      " case_opened_date     | 2018-01-01 00:42:00  \n",
      " case_closed_date     | 2018-01-01 12:29:00  \n",
      " case_due_date        | 2020-09-26 00:42:00  \n",
      " case_late            | false                \n",
      " num_days_late        | -998.5087616000001   \n",
      " case_closed          | true                 \n",
      " service_request_type | Stray Animal         \n",
      " SLA_days             | 999.0                \n",
      " case_status          | Closed               \n",
      " source_id            | svcCRMLS             \n",
      " request_address      | 2315  el paso st,... \n",
      " council_district     | 005                  \n",
      " num_weeks_late       | -142.6441088         \n",
      " zipcode              | 78207                \n",
      " case_age             | 1316                 \n",
      " days_to_closed       | 0                    \n",
      " case_lifetime        | 0                    \n",
      " department           | Animal Care Services \n",
      " dept_subject_to_SLA  | true                 \n",
      "only showing top 1 row\n",
      "\n"
     ]
    }
   ],
   "source": [
    "df.show(1, vertical= True)"
   ]
  },
  {
   "cell_type": "markdown",
   "metadata": {},
   "source": [
    "# Exercises\n",
    "\n",
    "\n",
    "\n",
    "### Answer the questions below by using a combination of the techniques discussed in the lesson that you think is appropriate."
   ]
  },
  {
   "cell_type": "markdown",
   "metadata": {},
   "source": [
    "### 1. How many different cases are there, by department?"
   ]
  },
  {
   "cell_type": "code",
   "execution_count": 78,
   "metadata": {
    "scrolled": false
   },
   "outputs": [
    {
     "name": "stdout",
     "output_type": "stream",
     "text": [
      "+--------------------+---------------------------+\n",
      "|          department|count(service_request_type)|\n",
      "+--------------------+---------------------------+\n",
      "|         Solid Waste|                     279270|\n",
      "|Animal Care Services|                     116915|\n",
      "|Trans & Cap Impro...|                      96193|\n",
      "|  Parks & Recreation|                      19907|\n",
      "|    Customer Service|                       2849|\n",
      "|        Metro Health|                       5163|\n",
      "|        City Council|                         33|\n",
      "|DSD/Code Enforcement|                     321374|\n",
      "+--------------------+---------------------------+\n",
      "\n"
     ]
    }
   ],
   "source": [
    "#total the cases by department\n",
    "df.groupBy('department').agg(count('service_request_type')).show()\n",
    "#same thing \n",
    "#df.groupBy('department').count().show()"
   ]
  },
  {
   "cell_type": "code",
   "execution_count": 79,
   "metadata": {},
   "outputs": [
    {
     "data": {
      "image/png": "[encoded data removed]",
      "text/plain": [
       "<Figure size 720x504 with 1 Axes>"
      ]
     },
     "metadata": {},
     "output_type": "display_data"
    }
   ],
   "source": [
    "(\n",
    "    df.groupby('department').count()\n",
    "    .toPandas()\n",
    "    .set_index('department')\n",
    "    .sort_values(by = 'count', ascending = True)\n",
    "    .plot.barh(color = 'purple', figsize = (10,7), width = .9)\n",
    ")\n",
    "\n",
    "plt.title('Number of Cases per Department')\n",
    "plt.xlabel('Number of Cases')\n",
    "plt.ylabel('Department Name')\n",
    "plt.show()"
   ]
  },
  {
   "cell_type": "code",
   "execution_count": 80,
   "metadata": {
    "scrolled": true
   },
   "outputs": [
    {
     "name": "stdout",
     "output_type": "stream",
     "text": [
      "+--------------------+--------------------+-----+\n",
      "|          department|service_request_type|count|\n",
      "+--------------------+--------------------+-----+\n",
      "|Animal Care Services|Public Nuisance(O...|10715|\n",
      "|Animal Care Services|     Officer Standby| 3013|\n",
      "|Animal Care Services|Spay/Neuter Reque...|    1|\n",
      "|Animal Care Services|City Council Anim...|  365|\n",
      "|Animal Care Services|Animal Cruelty(Cr...| 3001|\n",
      "|Animal Care Services|      Animal Neglect|13441|\n",
      "|Animal Care Services|Animal Permits Re...| 3026|\n",
      "|Animal Care Services|Aggressive Animal...|24882|\n",
      "|Animal Care Services|Injured Animal(Cr...| 9633|\n",
      "|Animal Care Services|Aggressive Animal...| 5266|\n",
      "|Animal Care Services|Animal Bite(Criti...|  708|\n",
      "|Animal Care Services|Trapped/Confined ...|11354|\n",
      "|Animal Care Services|        Stray Animal|26760|\n",
      "|Animal Care Services|Animal Bite(Non-C...| 4750|\n",
      "|        City Council|CCO_Request for R...|    2|\n",
      "|        City Council|Request for Resea...|   31|\n",
      "|    Customer Service|          Compliment|  461|\n",
      "|    Customer Service|           Complaint| 2388|\n",
      "|DSD/Code Enforcement|Dang Premises/Cut...|  207|\n",
      "|DSD/Code Enforcement|Vacant Lot-County...|    9|\n",
      "+--------------------+--------------------+-----+\n",
      "only showing top 20 rows\n",
      "\n"
     ]
    }
   ],
   "source": [
    "#this gives us the number of cases per service request type per department\n",
    "df.groupBy('department', 'service_request_type').count().orderBy('department').show()"
   ]
  },
  {
   "cell_type": "code",
   "execution_count": 81,
   "metadata": {},
   "outputs": [],
   "source": [
    "#convert to pandas this table\n",
    "df_pandas= df.groupBy('department', 'service_request_type').count().orderBy('department')\\\n",
    ".toPandas()"
   ]
  },
  {
   "cell_type": "code",
   "execution_count": 82,
   "metadata": {},
   "outputs": [
    {
     "data": {
      "text/plain": [
       "(335, 3)"
      ]
     },
     "execution_count": 82,
     "metadata": {},
     "output_type": "execute_result"
    }
   ],
   "source": [
    "df_pandas.shape"
   ]
  },
  {
   "cell_type": "code",
   "execution_count": 83,
   "metadata": {},
   "outputs": [
    {
     "data": {
      "text/html": [
       "<div>\n",
       "<style scoped>\n",
       "    .dataframe tbody tr th:only-of-type {\n",
       "        vertical-align: middle;\n",
       "    }\n",
       "\n",
       "    .dataframe tbody tr th {\n",
       "        vertical-align: top;\n",
       "    }\n",
       "\n",
       "    .dataframe thead th {\n",
       "        text-align: right;\n",
       "    }\n",
       "</style>\n",
       "<table border=\"1\" class=\"dataframe\">\n",
       "  <thead>\n",
       "    <tr style=\"text-align: right;\">\n",
       "      <th></th>\n",
       "      <th>department</th>\n",
       "      <th>service_request_type</th>\n",
       "      <th>count</th>\n",
       "    </tr>\n",
       "  </thead>\n",
       "  <tbody>\n",
       "    <tr>\n",
       "      <th>0</th>\n",
       "      <td>Animal Care Services</td>\n",
       "      <td>Injured Animal(Critical)</td>\n",
       "      <td>9633</td>\n",
       "    </tr>\n",
       "    <tr>\n",
       "      <th>1</th>\n",
       "      <td>Animal Care Services</td>\n",
       "      <td>Aggressive Animal(Critical)</td>\n",
       "      <td>5266</td>\n",
       "    </tr>\n",
       "    <tr>\n",
       "      <th>2</th>\n",
       "      <td>Animal Care Services</td>\n",
       "      <td>Spay/Neuter Request Response</td>\n",
       "      <td>1</td>\n",
       "    </tr>\n",
       "    <tr>\n",
       "      <th>3</th>\n",
       "      <td>Animal Care Services</td>\n",
       "      <td>Animal Bite(Critical)</td>\n",
       "      <td>708</td>\n",
       "    </tr>\n",
       "    <tr>\n",
       "      <th>4</th>\n",
       "      <td>Animal Care Services</td>\n",
       "      <td>Trapped/Confined Animal</td>\n",
       "      <td>11354</td>\n",
       "    </tr>\n",
       "  </tbody>\n",
       "</table>\n",
       "</div>"
      ],
      "text/plain": [
       "             department          service_request_type  count\n",
       "0  Animal Care Services      Injured Animal(Critical)   9633\n",
       "1  Animal Care Services   Aggressive Animal(Critical)   5266\n",
       "2  Animal Care Services  Spay/Neuter Request Response      1\n",
       "3  Animal Care Services         Animal Bite(Critical)    708\n",
       "4  Animal Care Services       Trapped/Confined Animal  11354"
      ]
     },
     "execution_count": 83,
     "metadata": {},
     "output_type": "execute_result"
    }
   ],
   "source": [
    "df_pandas.head()"
   ]
  },
  {
   "cell_type": "code",
   "execution_count": 84,
   "metadata": {
    "scrolled": false
   },
   "outputs": [
    {
     "data": {
      "text/plain": [
       "department\n",
       "Animal Care Services         14\n",
       "City Council                  2\n",
       "Customer Service              2\n",
       "DSD/Code Enforcement        122\n",
       "Metro Health                 14\n",
       "Parks & Recreation           44\n",
       "Solid Waste                  56\n",
       "Trans & Cap Improvements     81\n",
       "Name: count, dtype: int64"
      ]
     },
     "execution_count": 84,
     "metadata": {},
     "output_type": "execute_result"
    }
   ],
   "source": [
    "#we want how many different case there are per department\n",
    "df_pandas.groupby(df_pandas.department).count()['count']"
   ]
  },
  {
   "cell_type": "code",
   "execution_count": 85,
   "metadata": {},
   "outputs": [
    {
     "data": {
      "image/png": "[encoded data removed]",
      "text/plain": [
       "<Figure size 1008x360 with 1 Axes>"
      ]
     },
     "metadata": {},
     "output_type": "display_data"
    }
   ],
   "source": [
    "#plot\n",
    "df_pandas.groupby(df_pandas.department).count()['count'].sort_values(ascending=True)\\\n",
    ".plot.barh(width=1, edgecolor=\"black\", figsize=(14, 5))\n",
    "\n",
    "plt.xlabel('different number of cases')\n",
    "plt.title(\"how many different types of  cases  are  there by department? \")\n",
    "plt.show()"
   ]
  },
  {
   "cell_type": "markdown",
   "metadata": {},
   "source": [
    "### 2. Does the percentage of cases that are late vary by department?"
   ]
  },
  {
   "cell_type": "code",
   "execution_count": 86,
   "metadata": {
    "scrolled": false
   },
   "outputs": [
    {
     "name": "stdout",
     "output_type": "stream",
     "text": [
      "+--------------------+-----+\n",
      "|          department|count|\n",
      "+--------------------+-----+\n",
      "|         Solid Waste|32945|\n",
      "|Animal Care Services|23276|\n",
      "|Trans & Cap Impro...| 5411|\n",
      "|  Parks & Recreation| 3797|\n",
      "|    Customer Service| 2010|\n",
      "|        Metro Health|  829|\n",
      "|DSD/Code Enforcement|26235|\n",
      "+--------------------+-----+\n",
      "\n"
     ]
    }
   ],
   "source": [
    "#count late cases bt deparment\n",
    "df.where(df.case_late).groupBy('department').count().show()"
   ]
  },
  {
   "cell_type": "code",
   "execution_count": 87,
   "metadata": {
    "scrolled": false
   },
   "outputs": [
    {
     "name": "stdout",
     "output_type": "stream",
     "text": [
      "+--------------------+------+-----+\n",
      "|          department| false| true|\n",
      "+--------------------+------+-----+\n",
      "|         Solid Waste|246325|32945|\n",
      "|Animal Care Services| 93639|23276|\n",
      "|Trans & Cap Impro...| 90782| 5411|\n",
      "|    Customer Service|   839| 2010|\n",
      "|  Parks & Recreation| 16110| 3797|\n",
      "|        Metro Health|  4334|  829|\n",
      "|        City Council|    33|    0|\n",
      "|DSD/Code Enforcement|295139|26235|\n",
      "+--------------------+------+-----+\n",
      "\n"
     ]
    }
   ],
   "source": [
    "#we need the late cases and non late cases in order to calculate total by department\n",
    "df.groupby('department').pivot('case_late').count().fillna(0).show()"
   ]
  },
  {
   "cell_type": "code",
   "execution_count": 88,
   "metadata": {},
   "outputs": [],
   "source": [
    "#create a new table\n",
    "late_cases = df.groupby('department').pivot('case_late').count().fillna(0)"
   ]
  },
  {
   "cell_type": "code",
   "execution_count": 89,
   "metadata": {},
   "outputs": [],
   "source": [
    "#add a column with total by department\n",
    "late_cases= late_cases.withColumn('total', ( col('true') + col('false')) )"
   ]
  },
  {
   "cell_type": "code",
   "execution_count": 90,
   "metadata": {
    "scrolled": false
   },
   "outputs": [
    {
     "name": "stdout",
     "output_type": "stream",
     "text": [
      "+--------------------+------+-----+------+\n",
      "|          department| false| true| total|\n",
      "+--------------------+------+-----+------+\n",
      "|         Solid Waste|246325|32945|279270|\n",
      "|Animal Care Services| 93639|23276|116915|\n",
      "|Trans & Cap Impro...| 90782| 5411| 96193|\n",
      "|    Customer Service|   839| 2010|  2849|\n",
      "|  Parks & Recreation| 16110| 3797| 19907|\n",
      "|        Metro Health|  4334|  829|  5163|\n",
      "|        City Council|    33|    0|    33|\n",
      "|DSD/Code Enforcement|295139|26235|321374|\n",
      "+--------------------+------+-----+------+\n",
      "\n"
     ]
    }
   ],
   "source": [
    "late_cases.show()"
   ]
  },
  {
   "cell_type": "code",
   "execution_count": 91,
   "metadata": {},
   "outputs": [],
   "source": [
    "#conver to pandas\n",
    "df_pandas = late_cases.toPandas().set_index('department')"
   ]
  },
  {
   "cell_type": "code",
   "execution_count": 94,
   "metadata": {},
   "outputs": [],
   "source": [
    "df_pandas ['percentage'] =(df_pandas['false'] / df_pandas['total'] *100)"
   ]
  },
  {
   "cell_type": "code",
   "execution_count": 95,
   "metadata": {
    "scrolled": true
   },
   "outputs": [
    {
     "data": {
      "text/html": [
       "<div>\n",
       "<style scoped>\n",
       "    .dataframe tbody tr th:only-of-type {\n",
       "        vertical-align: middle;\n",
       "    }\n",
       "\n",
       "    .dataframe tbody tr th {\n",
       "        vertical-align: top;\n",
       "    }\n",
       "\n",
       "    .dataframe thead th {\n",
       "        text-align: right;\n",
       "    }\n",
       "</style>\n",
       "<table border=\"1\" class=\"dataframe\">\n",
       "  <thead>\n",
       "    <tr style=\"text-align: right;\">\n",
       "      <th></th>\n",
       "      <th>false</th>\n",
       "      <th>true</th>\n",
       "      <th>total</th>\n",
       "      <th>percentage</th>\n",
       "    </tr>\n",
       "    <tr>\n",
       "      <th>department</th>\n",
       "      <th></th>\n",
       "      <th></th>\n",
       "      <th></th>\n",
       "      <th></th>\n",
       "    </tr>\n",
       "  </thead>\n",
       "  <tbody>\n",
       "    <tr>\n",
       "      <th>Solid Waste</th>\n",
       "      <td>246325</td>\n",
       "      <td>32945</td>\n",
       "      <td>279270</td>\n",
       "      <td>88.203173</td>\n",
       "    </tr>\n",
       "    <tr>\n",
       "      <th>Animal Care Services</th>\n",
       "      <td>93639</td>\n",
       "      <td>23276</td>\n",
       "      <td>116915</td>\n",
       "      <td>80.091519</td>\n",
       "    </tr>\n",
       "    <tr>\n",
       "      <th>Trans &amp; Cap Improvements</th>\n",
       "      <td>90782</td>\n",
       "      <td>5411</td>\n",
       "      <td>96193</td>\n",
       "      <td>94.374851</td>\n",
       "    </tr>\n",
       "    <tr>\n",
       "      <th>Customer Service</th>\n",
       "      <td>839</td>\n",
       "      <td>2010</td>\n",
       "      <td>2849</td>\n",
       "      <td>29.448929</td>\n",
       "    </tr>\n",
       "    <tr>\n",
       "      <th>Parks &amp; Recreation</th>\n",
       "      <td>16110</td>\n",
       "      <td>3797</td>\n",
       "      <td>19907</td>\n",
       "      <td>80.926307</td>\n",
       "    </tr>\n",
       "    <tr>\n",
       "      <th>Metro Health</th>\n",
       "      <td>4334</td>\n",
       "      <td>829</td>\n",
       "      <td>5163</td>\n",
       "      <td>83.943444</td>\n",
       "    </tr>\n",
       "    <tr>\n",
       "      <th>City Council</th>\n",
       "      <td>33</td>\n",
       "      <td>0</td>\n",
       "      <td>33</td>\n",
       "      <td>100.000000</td>\n",
       "    </tr>\n",
       "    <tr>\n",
       "      <th>DSD/Code Enforcement</th>\n",
       "      <td>295139</td>\n",
       "      <td>26235</td>\n",
       "      <td>321374</td>\n",
       "      <td>91.836614</td>\n",
       "    </tr>\n",
       "  </tbody>\n",
       "</table>\n",
       "</div>"
      ],
      "text/plain": [
       "                           false   true   total  percentage\n",
       "department                                                 \n",
       "Solid Waste               246325  32945  279270   88.203173\n",
       "Animal Care Services       93639  23276  116915   80.091519\n",
       "Trans & Cap Improvements   90782   5411   96193   94.374851\n",
       "Customer Service             839   2010    2849   29.448929\n",
       "Parks & Recreation         16110   3797   19907   80.926307\n",
       "Metro Health                4334    829    5163   83.943444\n",
       "City Council                  33      0      33  100.000000\n",
       "DSD/Code Enforcement      295139  26235  321374   91.836614"
      ]
     },
     "execution_count": 95,
     "metadata": {},
     "output_type": "execute_result"
    }
   ],
   "source": [
    "df_pandas"
   ]
  },
  {
   "cell_type": "code",
   "execution_count": 97,
   "metadata": {
    "scrolled": true
   },
   "outputs": [
    {
     "data": {
      "image/png": "[encoded data removed]",
      "text/plain": [
       "<Figure size 1008x360 with 1 Axes>"
      ]
     },
     "metadata": {},
     "output_type": "display_data"
    }
   ],
   "source": [
    "df_pandas.percentage.sort_values().plot.barh(width=1, edgecolor=\"black\", figsize=(14, 5))\n",
    "plt.xlabel('percentage')\n",
    "plt.title(\"the percentage of late cases by department \")\n",
    "plt.show()"
   ]
  },
  {
   "cell_type": "code",
   "execution_count": 110,
   "metadata": {},
   "outputs": [
    {
     "data": {
      "image/png": "[encoded data removed]",
      "text/plain": [
       "<Figure size 720x504 with 1 Axes>"
      ]
     },
     "metadata": {
      "needs_background": "light"
     },
     "output_type": "display_data"
    }
   ],
   "source": [
    "#other way to do it\n",
    "(df_pandas.apply(lambda row: row / row['total'], axis = 1)\n",
    "    .drop(columns = ['total', 'percentage'])\n",
    "    .sort_values(by = 'true')\n",
    "    .plot.barh(stacked = True, figsize = (10,7), color = ['lightgrey', 'orangered'])\n",
    ")\n",
    "plt.legend(labels = ['Not Late', 'Late'], bbox_to_anchor = ((1.03, 1)))\n",
    "plt.title('Percentage of Late Cases by Department', fontsize = 16)\n",
    "plt.xlabel('Percentage')\n",
    "plt.ylabel('Department')\n",
    "plt.gca().xaxis.set_major_formatter(mpl.ticker.FuncFormatter('{:.0%}'.format))\n",
    "\n",
    "plt.show()"
   ]
  },
  {
   "cell_type": "markdown",
   "metadata": {},
   "source": [
    "### 3. On average, how late are the late cases by department?"
   ]
  },
  {
   "cell_type": "code",
   "execution_count": 112,
   "metadata": {
    "scrolled": false
   },
   "outputs": [
    {
     "name": "stdout",
     "output_type": "stream",
     "text": [
      "+--------------------+------------------+\n",
      "|          department|avg(num_days_late)|\n",
      "+--------------------+------------------+\n",
      "|    Customer Service| 87.68385942150395|\n",
      "|DSD/Code Enforcement|49.384287053588935|\n",
      "|Animal Care Services|23.458633245820135|\n",
      "|  Parks & Recreation|22.348910457867508|\n",
      "|Trans & Cap Impro...| 10.60306468031694|\n",
      "|         Solid Waste| 7.186821906120906|\n",
      "|        Metro Health| 6.543813315547647|\n",
      "+--------------------+------------------+\n",
      "\n"
     ]
    }
   ],
   "source": [
    "df.where(df.case_late).groupBy('department').mean('num_days_late').sort(desc('avg(num_days_late)')).show()"
   ]
  },
  {
   "cell_type": "code",
   "execution_count": 23,
   "metadata": {},
   "outputs": [],
   "source": [
    "df_pandas =df.where(df.case_late).groupBy('department').mean('num_days_late').toPandas().set_index('department')"
   ]
  },
  {
   "cell_type": "code",
   "execution_count": 24,
   "metadata": {
    "scrolled": true
   },
   "outputs": [
    {
     "data": {
      "text/html": [
       "<div>\n",
       "<style scoped>\n",
       "    .dataframe tbody tr th:only-of-type {\n",
       "        vertical-align: middle;\n",
       "    }\n",
       "\n",
       "    .dataframe tbody tr th {\n",
       "        vertical-align: top;\n",
       "    }\n",
       "\n",
       "    .dataframe thead th {\n",
       "        text-align: right;\n",
       "    }\n",
       "</style>\n",
       "<table border=\"1\" class=\"dataframe\">\n",
       "  <thead>\n",
       "    <tr style=\"text-align: right;\">\n",
       "      <th></th>\n",
       "      <th>avg(num_days_late)</th>\n",
       "    </tr>\n",
       "    <tr>\n",
       "      <th>department</th>\n",
       "      <th></th>\n",
       "    </tr>\n",
       "  </thead>\n",
       "  <tbody>\n",
       "    <tr>\n",
       "      <th>Solid Waste</th>\n",
       "      <td>7.186822</td>\n",
       "    </tr>\n",
       "    <tr>\n",
       "      <th>Animal Care Services</th>\n",
       "      <td>23.458633</td>\n",
       "    </tr>\n",
       "    <tr>\n",
       "      <th>Trans &amp; Cap Improvements</th>\n",
       "      <td>10.603065</td>\n",
       "    </tr>\n",
       "    <tr>\n",
       "      <th>Parks &amp; Recreation</th>\n",
       "      <td>22.348910</td>\n",
       "    </tr>\n",
       "    <tr>\n",
       "      <th>Customer Service</th>\n",
       "      <td>87.683859</td>\n",
       "    </tr>\n",
       "    <tr>\n",
       "      <th>Metro Health</th>\n",
       "      <td>6.543813</td>\n",
       "    </tr>\n",
       "    <tr>\n",
       "      <th>DSD/Code Enforcement</th>\n",
       "      <td>49.384287</td>\n",
       "    </tr>\n",
       "  </tbody>\n",
       "</table>\n",
       "</div>"
      ],
      "text/plain": [
       "                          avg(num_days_late)\n",
       "department                                  \n",
       "Solid Waste                         7.186822\n",
       "Animal Care Services               23.458633\n",
       "Trans & Cap Improvements           10.603065\n",
       "Parks & Recreation                 22.348910\n",
       "Customer Service                   87.683859\n",
       "Metro Health                        6.543813\n",
       "DSD/Code Enforcement               49.384287"
      ]
     },
     "execution_count": 24,
     "metadata": {},
     "output_type": "execute_result"
    }
   ],
   "source": [
    "df_pandas"
   ]
  },
  {
   "cell_type": "code",
   "execution_count": 25,
   "metadata": {},
   "outputs": [
    {
     "data": {
      "text/plain": [
       "Text(0.5, 0, 'Number of days')"
      ]
     },
     "execution_count": 25,
     "metadata": {},
     "output_type": "execute_result"
    },
    {
     "data": {
      "image/png": "[encoded data removed]",
      "text/plain": [
       "<Figure size 1008x360 with 1 Axes>"
      ]
     },
     "metadata": {
      "needs_background": "light"
     },
     "output_type": "display_data"
    }
   ],
   "source": [
    "df_pandas.sort_values(by='avg(num_days_late)',  ascending= False)\\\n",
    ".plot.barh(width=1, edgecolor=\"black\", figsize=(14, 5))\n",
    "\n",
    "plt.title(\"Average of late days  By Department\")\n",
    "plt.ylabel(\"\")\n",
    "plt.xlabel(\"Number of days\")"
   ]
  },
  {
   "cell_type": "markdown",
   "metadata": {},
   "source": [
    "### 4. What is the service type that is the most late? Just for Parks & Rec?"
   ]
  },
  {
   "cell_type": "code",
   "execution_count": 26,
   "metadata": {
    "scrolled": false
   },
   "outputs": [
    {
     "name": "stdout",
     "output_type": "stream",
     "text": [
      "-RECORD 0------------------------------------\n",
      " dept_division        | Tree Crew            \n",
      " case_id              | 1014127895           \n",
      " case_opened_date     | 2018-01-02 07:23:00  \n",
      " case_closed_date     | 2018-01-17 14:35:00  \n",
      " case_due_date        | 2018-01-17 08:30:00  \n",
      " case_late            | true                 \n",
      " num_days_late        | 0.254108796          \n",
      " case_closed          | true                 \n",
      " service_request_type | Tree Removal         \n",
      " SLA_days             | 15.04645833          \n",
      " case_status          | Closed               \n",
      " source_id            | svcCRMSS             \n",
      " request_address      | 1315  san pedro a... \n",
      " council_district     | 001                  \n",
      " num_weeks_late       | 0.036301256571428575 \n",
      " zipcode              | 78212                \n",
      " case_age             | 1315                 \n",
      " days_to_closed       | 15                   \n",
      " case_lifetime        | 15                   \n",
      " department           | Parks & Recreation   \n",
      " dept_subject_to_SLA  | true                 \n",
      "only showing top 1 row\n",
      "\n"
     ]
    }
   ],
   "source": [
    "df.where((df.department == \"Parks & Recreation\") & (df.case_late)).show(1, vertical= True)"
   ]
  },
  {
   "cell_type": "code",
   "execution_count": 27,
   "metadata": {
    "scrolled": true
   },
   "outputs": [
    {
     "name": "stdout",
     "output_type": "stream",
     "text": [
      "+--------------------+------------------+\n",
      "|service_request_type|avg(num_days_late)|\n",
      "+--------------------+------------------+\n",
      "|Amenity Park Impr...|    76.87018194568|\n",
      "|Major Park Improv...| 75.79450367282352|\n",
      "|Reservation Assis...|       66.03116319|\n",
      "|Park Building Mai...| 59.36746980269565|\n",
      "| Sportfield Lighting|51.480049793645534|\n",
      "|          Electrical|  42.9519716583451|\n",
      "|        Tree Removal| 40.28404224560714|\n",
      "|Landscape Mainten...| 38.86797941326316|\n",
      "|     Heavy Equipment| 38.56625730831579|\n",
      "|Miscellaneous Par...| 33.62472491253489|\n",
      "|Tree Trimming/Mai...|30.702768979017538|\n",
      "|General Building ...|28.192905974561906|\n",
      "|             Masonry|27.989420392890622|\n",
      "|            Painting|25.404551756282608|\n",
      "|    Sign Maintenance|22.281778663588234|\n",
      "|   Fence/Gate Repair|20.366796601056606|\n",
      "|Small Equipment R...|      19.644149305|\n",
      "|               Pools|19.489430630709677|\n",
      "|            Plumbing|18.621826175298462|\n",
      "|Plumbing/Drinking...| 18.18076193409091|\n",
      "|          Irrigation| 17.58814428966667|\n",
      "|             Fencing|15.664453468033896|\n",
      "|Heating and Air C...|15.376614913757145|\n",
      "|               Signs| 15.30644440520339|\n",
      "|           Carpentry| 14.14768626942419|\n",
      "|Trail/Greenway Ma...|13.450237682142856|\n",
      "|Outdoor Athletic ...|13.078582820074073|\n",
      "|    Pool Maintenance|     10.8618798225|\n",
      "|  Darner Maintenance|      9.3108240747|\n",
      "|Lake/Pond Mainten...|  8.43491236742857|\n",
      "|Brush/Debris Coll...|6.3609222322553185|\n",
      "|        Parks Mowing|5.8807026145000005|\n",
      "|    Pressure Washing|       5.632320601|\n",
      "|             Welding| 5.261223279370371|\n",
      "|    Portable Toilets| 3.305633417772728|\n",
      "|            Graffiti|3.3019126984761913|\n",
      "|Outdoor Trash/Mut...| 2.579570105857143|\n",
      "|        Graffiti Int|2.5695044026823535|\n",
      "|Indoor Janitorial...|      2.2758472222|\n",
      "|Lake and Ponds Ma...| 1.828557961736842|\n",
      "|Playground Mainte...|1.0692418982500003|\n",
      "|Amenity Park Impr...|       1.060590278|\n",
      "|          Ballfields|  0.90739547153125|\n",
      "|         Playgrounds|0.6938048941428571|\n",
      "+--------------------+------------------+\n",
      "\n"
     ]
    }
   ],
   "source": [
    "df.where((df.department == \"Parks & Recreation\") & (df.case_late))\\\n",
    ".groupBy('service_request_type').mean('num_days_late').orderBy(desc('avg(num_days_late)')).show(50)"
   ]
  },
  {
   "cell_type": "code",
   "execution_count": 28,
   "metadata": {},
   "outputs": [],
   "source": [
    "df_pandas = df.where((df.department == \"Parks & Recreation\") & (df.case_late))\\\n",
    ".groupBy('service_request_type').mean('num_days_late').orderBy(desc('avg(num_days_late)'))\\\n",
    ".toPandas().set_index('service_request_type')"
   ]
  },
  {
   "cell_type": "code",
   "execution_count": 29,
   "metadata": {},
   "outputs": [],
   "source": [
    "plt.style.use(\"ggplot\")"
   ]
  },
  {
   "cell_type": "code",
   "execution_count": 30,
   "metadata": {
    "scrolled": false
   },
   "outputs": [
    {
     "data": {
      "text/plain": [
       "Text(0.5, 0, 'Number of days')"
      ]
     },
     "execution_count": 30,
     "metadata": {},
     "output_type": "execute_result"
    },
    {
     "data": {
      "image/png": "[encoded data removed]",
      "text/plain": [
       "<Figure size 1008x360 with 1 Axes>"
      ]
     },
     "metadata": {},
     "output_type": "display_data"
    }
   ],
   "source": [
    "df_pandas.head(5).plot.barh(width=1, edgecolor=\"black\", figsize=(14, 5))\n",
    "\n",
    "\n",
    "plt.title(\"The top 5  service type that are  most late\")\n",
    "plt.ylabel(\"\")\n",
    "plt.xlabel(\"Number of days\")"
   ]
  },
  {
   "cell_type": "code",
   "execution_count": 31,
   "metadata": {},
   "outputs": [
    {
     "data": {
      "text/plain": [
       "Text(0.5, 0, 'Number of days')"
      ]
     },
     "execution_count": 31,
     "metadata": {},
     "output_type": "execute_result"
    },
    {
     "data": {
      "image/png": "[encoded data removed]",
      "text/plain": [
       "<Figure size 1008x360 with 1 Axes>"
      ]
     },
     "metadata": {},
     "output_type": "display_data"
    }
   ],
   "source": [
    "df_pandas.tail(5).plot.barh(width=1, edgecolor=\"black\", figsize=(14, 5))\n",
    "\n",
    "\n",
    "plt.title(\"The top 5  service type that are  least late\")\n",
    "plt.ylabel(\"\")\n",
    "plt.xlabel(\"Number of days\")"
   ]
  },
  {
   "cell_type": "markdown",
   "metadata": {},
   "source": [
    "### 5. For the DSD/Code Enforcement department, what are the most common service request types? Look at other departments too."
   ]
  },
  {
   "cell_type": "code",
   "execution_count": 114,
   "metadata": {
    "scrolled": false
   },
   "outputs": [
    {
     "name": "stdout",
     "output_type": "stream",
     "text": [
      "+--------------------+-----+\n",
      "|service_request_type|count|\n",
      "+--------------------+-----+\n",
      "|Overgrown Yard/Trash|65895|\n",
      "|        Bandit Signs|32910|\n",
      "|Front Or Side Yar...|28794|\n",
      "|Junk Vehicle On P...|21473|\n",
      "|Alley-Way Mainten...|20214|\n",
      "|Right Of Way/Side...|17699|\n",
      "|Vacant Lot/Overgr...| 9329|\n",
      "|Minimum Housing-O...| 8543|\n",
      "|Graffiti: Private...| 8525|\n",
      "|Dang. Premises/CL...| 8004|\n",
      "|Minimum Housing-T...| 7984|\n",
      "|\"Vacant Lot-Priva...| 7875|\n",
      "|    Brush Violations| 7475|\n",
      "|    Permits Building| 6880|\n",
      "|Vacant House Over...| 6109|\n",
      "|  Graffiti: Building| 4572|\n",
      "|Graffiti Public P...| 4104|\n",
      "|Low Hanging Limbs...| 4052|\n",
      "|CPS Energy Wood P...| 3501|\n",
      "|Zoning Business i...| 2716|\n",
      "+--------------------+-----+\n",
      "only showing top 20 rows\n",
      "\n"
     ]
    }
   ],
   "source": [
    "df.where(df.department == \"DSD/Code Enforcement\").groupBy('service_request_type')\\\n",
    ".count().sort(desc('count')).show(20)"
   ]
  },
  {
   "cell_type": "code",
   "execution_count": 125,
   "metadata": {},
   "outputs": [
    {
     "data": {
      "image/png": "[encoded data removed]",
      "text/plain": [
       "<Figure size 1008x504 with 1 Axes>"
      ]
     },
     "metadata": {
      "needs_background": "light"
     },
     "output_type": "display_data"
    }
   ],
   "source": [
    "(\n",
    "df.where(df.department == \"DSD/Code Enforcement\").groupBy('service_request_type')\n",
    ".count().sort(desc('count')).toPandas()\n",
    ".set_index('service_request_type')\n",
    ".head(10)\n",
    ".sort_values(by = 'count', ascending = True)\n",
    ".plot.barh(figsize = (14,7), color = 'teal', width = 1, ec = 'white', alpha = .9)\n",
    ")\n",
    "plt.title('Top 10 Service Request Types for the Code Enforcement Dept', fontsize = 17)\n",
    "plt.xlabel('Number of Requests', fontsize = 13)\n",
    "plt.ylabel('Service Request Type', fontsize = 13)\n",
    "plt.show()"
   ]
  },
  {
   "cell_type": "code",
   "execution_count": 131,
   "metadata": {
    "scrolled": true
   },
   "outputs": [
    {
     "name": "stdout",
     "output_type": "stream",
     "text": [
      "+--------------------+--------------------+-----+\n",
      "|          department|service_request_type|count|\n",
      "+--------------------+--------------------+-----+\n",
      "|Animal Care Services|        Stray Animal|26760|\n",
      "|Animal Care Services|Aggressive Animal...|24882|\n",
      "|Animal Care Services|      Animal Neglect|13441|\n",
      "|Animal Care Services|Trapped/Confined ...|11354|\n",
      "|Animal Care Services|Public Nuisance(O...|10715|\n",
      "|Animal Care Services|Injured Animal(Cr...| 9633|\n",
      "|Animal Care Services|Aggressive Animal...| 5266|\n",
      "|Animal Care Services|Animal Bite(Non-C...| 4750|\n",
      "|Animal Care Services|Animal Permits Re...| 3026|\n",
      "|Animal Care Services|     Officer Standby| 3013|\n",
      "|Animal Care Services|Animal Cruelty(Cr...| 3001|\n",
      "|Animal Care Services|Animal Bite(Criti...|  708|\n",
      "|Animal Care Services|City Council Anim...|  365|\n",
      "|Animal Care Services|Spay/Neuter Reque...|    1|\n",
      "|        City Council|Request for Resea...|   31|\n",
      "|        City Council|CCO_Request for R...|    2|\n",
      "|    Customer Service|           Complaint| 2388|\n",
      "|    Customer Service|          Compliment|  461|\n",
      "|DSD/Code Enforcement|Overgrown Yard/Trash|65895|\n",
      "|DSD/Code Enforcement|        Bandit Signs|32910|\n",
      "+--------------------+--------------------+-----+\n",
      "only showing top 20 rows\n",
      "\n"
     ]
    }
   ],
   "source": [
    "#this gives us the number of cases per service request type per department\n",
    "df.groupBy('department', 'service_request_type').count().orderBy('department',desc('count')).show()"
   ]
  },
  {
   "cell_type": "code",
   "execution_count": 132,
   "metadata": {},
   "outputs": [],
   "source": [
    "df_pandas = df.groupBy('department', 'service_request_type').count().orderBy('department',desc('count'))\\\n",
    ".toPandas()"
   ]
  },
  {
   "cell_type": "code",
   "execution_count": 133,
   "metadata": {},
   "outputs": [
    {
     "data": {
      "text/html": [
       "<div>\n",
       "<style scoped>\n",
       "    .dataframe tbody tr th:only-of-type {\n",
       "        vertical-align: middle;\n",
       "    }\n",
       "\n",
       "    .dataframe tbody tr th {\n",
       "        vertical-align: top;\n",
       "    }\n",
       "\n",
       "    .dataframe thead th {\n",
       "        text-align: right;\n",
       "    }\n",
       "</style>\n",
       "<table border=\"1\" class=\"dataframe\">\n",
       "  <thead>\n",
       "    <tr style=\"text-align: right;\">\n",
       "      <th></th>\n",
       "      <th>department</th>\n",
       "      <th>service_request_type</th>\n",
       "      <th>count</th>\n",
       "    </tr>\n",
       "  </thead>\n",
       "  <tbody>\n",
       "    <tr>\n",
       "      <th>0</th>\n",
       "      <td>Animal Care Services</td>\n",
       "      <td>Stray Animal</td>\n",
       "      <td>26760</td>\n",
       "    </tr>\n",
       "    <tr>\n",
       "      <th>1</th>\n",
       "      <td>Animal Care Services</td>\n",
       "      <td>Aggressive Animal(Non-Critical)</td>\n",
       "      <td>24882</td>\n",
       "    </tr>\n",
       "    <tr>\n",
       "      <th>2</th>\n",
       "      <td>Animal Care Services</td>\n",
       "      <td>Animal Neglect</td>\n",
       "      <td>13441</td>\n",
       "    </tr>\n",
       "    <tr>\n",
       "      <th>3</th>\n",
       "      <td>Animal Care Services</td>\n",
       "      <td>Trapped/Confined Animal</td>\n",
       "      <td>11354</td>\n",
       "    </tr>\n",
       "    <tr>\n",
       "      <th>4</th>\n",
       "      <td>Animal Care Services</td>\n",
       "      <td>Public Nuisance(Own Animal)</td>\n",
       "      <td>10715</td>\n",
       "    </tr>\n",
       "  </tbody>\n",
       "</table>\n",
       "</div>"
      ],
      "text/plain": [
       "             department             service_request_type  count\n",
       "0  Animal Care Services                     Stray Animal  26760\n",
       "1  Animal Care Services  Aggressive Animal(Non-Critical)  24882\n",
       "2  Animal Care Services                   Animal Neglect  13441\n",
       "3  Animal Care Services          Trapped/Confined Animal  11354\n",
       "4  Animal Care Services      Public Nuisance(Own Animal)  10715"
      ]
     },
     "execution_count": 133,
     "metadata": {},
     "output_type": "execute_result"
    }
   ],
   "source": [
    "df_pandas.head()"
   ]
  },
  {
   "cell_type": "code",
   "execution_count": 134,
   "metadata": {
    "scrolled": true
   },
   "outputs": [
    {
     "data": {
      "text/html": [
       "<div>\n",
       "<style scoped>\n",
       "    .dataframe tbody tr th:only-of-type {\n",
       "        vertical-align: middle;\n",
       "    }\n",
       "\n",
       "    .dataframe tbody tr th {\n",
       "        vertical-align: top;\n",
       "    }\n",
       "\n",
       "    .dataframe thead th {\n",
       "        text-align: right;\n",
       "    }\n",
       "</style>\n",
       "<table border=\"1\" class=\"dataframe\">\n",
       "  <thead>\n",
       "    <tr style=\"text-align: right;\">\n",
       "      <th></th>\n",
       "      <th>department</th>\n",
       "      <th>service_request_type</th>\n",
       "      <th>count</th>\n",
       "    </tr>\n",
       "  </thead>\n",
       "  <tbody>\n",
       "    <tr>\n",
       "      <th>0</th>\n",
       "      <td>Animal Care Services</td>\n",
       "      <td>Stray Animal</td>\n",
       "      <td>26760</td>\n",
       "    </tr>\n",
       "    <tr>\n",
       "      <th>14</th>\n",
       "      <td>City Council</td>\n",
       "      <td>Request for Research/Information</td>\n",
       "      <td>31</td>\n",
       "    </tr>\n",
       "    <tr>\n",
       "      <th>16</th>\n",
       "      <td>Customer Service</td>\n",
       "      <td>Complaint</td>\n",
       "      <td>2388</td>\n",
       "    </tr>\n",
       "    <tr>\n",
       "      <th>18</th>\n",
       "      <td>DSD/Code Enforcement</td>\n",
       "      <td>Overgrown Yard/Trash</td>\n",
       "      <td>65895</td>\n",
       "    </tr>\n",
       "    <tr>\n",
       "      <th>140</th>\n",
       "      <td>Metro Health</td>\n",
       "      <td>License Renewal Invoice</td>\n",
       "      <td>1349</td>\n",
       "    </tr>\n",
       "    <tr>\n",
       "      <th>154</th>\n",
       "      <td>Parks &amp; Recreation</td>\n",
       "      <td>Carpentry</td>\n",
       "      <td>1944</td>\n",
       "    </tr>\n",
       "    <tr>\n",
       "      <th>198</th>\n",
       "      <td>Solid Waste</td>\n",
       "      <td>No Pickup</td>\n",
       "      <td>86855</td>\n",
       "    </tr>\n",
       "    <tr>\n",
       "      <th>254</th>\n",
       "      <td>Trans &amp; Cap Improvements</td>\n",
       "      <td>Pot Hole Repair</td>\n",
       "      <td>20616</td>\n",
       "    </tr>\n",
       "  </tbody>\n",
       "</table>\n",
       "</div>"
      ],
      "text/plain": [
       "                   department              service_request_type  count\n",
       "0        Animal Care Services                      Stray Animal  26760\n",
       "14               City Council  Request for Research/Information     31\n",
       "16           Customer Service                         Complaint   2388\n",
       "18       DSD/Code Enforcement              Overgrown Yard/Trash  65895\n",
       "140              Metro Health           License Renewal Invoice   1349\n",
       "154        Parks & Recreation                         Carpentry   1944\n",
       "198               Solid Waste                         No Pickup  86855\n",
       "254  Trans & Cap Improvements                   Pot Hole Repair  20616"
      ]
     },
     "execution_count": 134,
     "metadata": {},
     "output_type": "execute_result"
    }
   ],
   "source": [
    "df_pandas.groupby(['department']).head(1)"
   ]
  },
  {
   "cell_type": "code",
   "execution_count": 141,
   "metadata": {
    "scrolled": false
   },
   "outputs": [
    {
     "data": {
      "text/plain": [
       "Text(0.5, 0, 'Number of Cases')"
      ]
     },
     "execution_count": 141,
     "metadata": {},
     "output_type": "execute_result"
    },
    {
     "data": {
      "image/png": "[encoded data removed]",
      "text/plain": [
       "<Figure size 1008x504 with 1 Axes>"
      ]
     },
     "metadata": {
      "needs_background": "light"
     },
     "output_type": "display_data"
    }
   ],
   "source": [
    "df_pandas.groupby(['department']).head(1).set_index('department').sort_values(by = 'count')\\\n",
    ".plot.barh(width=1, edgecolor=\"black\", figsize=(14, 7))\n",
    "\n",
    "\n",
    "plt.title(\"the most common service request types by department\")\n",
    "plt.ylabel(\"\")\n",
    "plt.xlabel(\"Number of Cases\")"
   ]
  },
  {
   "cell_type": "code",
   "execution_count": 143,
   "metadata": {
    "scrolled": false
   },
   "outputs": [
    {
     "data": {
      "text/plain": [
       "<AxesSubplot:xlabel='service_request_type'>"
      ]
     },
     "execution_count": 143,
     "metadata": {},
     "output_type": "execute_result"
    },
    {
     "data": {
      "image/png": "[encoded data removed]",
      "text/plain": [
       "<Figure size 1008x504 with 1 Axes>"
      ]
     },
     "metadata": {
      "needs_background": "light"
     },
     "output_type": "display_data"
    }
   ],
   "source": [
    "df_pandas.groupby(['department']).head(1).set_index('department')\\\n",
    ".plot.bar(x= 'service_request_type', y = 'count', figsize = (14,7))"
   ]
  },
  {
   "cell_type": "code",
   "execution_count": 144,
   "metadata": {},
   "outputs": [],
   "source": [
    "import seaborn as sns"
   ]
  },
  {
   "cell_type": "code",
   "execution_count": 151,
   "metadata": {
    "scrolled": false
   },
   "outputs": [
    {
     "data": {
      "image/png": "[encoded data removed]",
      "text/plain": [
       "<Figure size 720x576 with 1 Axes>"
      ]
     },
     "metadata": {
      "needs_background": "light"
     },
     "output_type": "display_data"
    }
   ],
   "source": [
    "plt.figure(figsize=(10,8) )\n",
    "sns.barplot(x= 'count', y = 'service_request_type',\n",
    "            data = df_pandas.groupby(['department']).head(1), hue = 'department',\n",
    "            orient = 'h', ec = 'white', errwidth= 10.0)\n",
    "plt.xticks(rotation=45)\n",
    "#plt.legend(bbox_to_anchor= (1.03,1))\n",
    "\n",
    "plt.show()"
   ]
  },
  {
   "cell_type": "code",
   "execution_count": 41,
   "metadata": {},
   "outputs": [
    {
     "data": {
      "text/html": [
       "<div>\n",
       "<style scoped>\n",
       "    .dataframe tbody tr th:only-of-type {\n",
       "        vertical-align: middle;\n",
       "    }\n",
       "\n",
       "    .dataframe tbody tr th {\n",
       "        vertical-align: top;\n",
       "    }\n",
       "\n",
       "    .dataframe thead th {\n",
       "        text-align: right;\n",
       "    }\n",
       "</style>\n",
       "<table border=\"1\" class=\"dataframe\">\n",
       "  <thead>\n",
       "    <tr style=\"text-align: right;\">\n",
       "      <th></th>\n",
       "      <th>department</th>\n",
       "      <th>service_request_type</th>\n",
       "      <th>count</th>\n",
       "    </tr>\n",
       "  </thead>\n",
       "  <tbody>\n",
       "    <tr>\n",
       "      <th>0</th>\n",
       "      <td>Animal Care Services</td>\n",
       "      <td>Stray Animal</td>\n",
       "      <td>26760</td>\n",
       "    </tr>\n",
       "    <tr>\n",
       "      <th>14</th>\n",
       "      <td>City Council</td>\n",
       "      <td>Request for Research/Information</td>\n",
       "      <td>31</td>\n",
       "    </tr>\n",
       "    <tr>\n",
       "      <th>16</th>\n",
       "      <td>Customer Service</td>\n",
       "      <td>Complaint</td>\n",
       "      <td>2388</td>\n",
       "    </tr>\n",
       "    <tr>\n",
       "      <th>18</th>\n",
       "      <td>DSD/Code Enforcement</td>\n",
       "      <td>Overgrown Yard/Trash</td>\n",
       "      <td>65895</td>\n",
       "    </tr>\n",
       "    <tr>\n",
       "      <th>140</th>\n",
       "      <td>Metro Health</td>\n",
       "      <td>License Renewal Invoice</td>\n",
       "      <td>1349</td>\n",
       "    </tr>\n",
       "    <tr>\n",
       "      <th>154</th>\n",
       "      <td>Parks &amp; Recreation</td>\n",
       "      <td>Carpentry</td>\n",
       "      <td>1944</td>\n",
       "    </tr>\n",
       "    <tr>\n",
       "      <th>198</th>\n",
       "      <td>Solid Waste</td>\n",
       "      <td>No Pickup</td>\n",
       "      <td>86855</td>\n",
       "    </tr>\n",
       "    <tr>\n",
       "      <th>254</th>\n",
       "      <td>Trans &amp; Cap Improvements</td>\n",
       "      <td>Pot Hole Repair</td>\n",
       "      <td>20616</td>\n",
       "    </tr>\n",
       "  </tbody>\n",
       "</table>\n",
       "</div>"
      ],
      "text/plain": [
       "                   department              service_request_type  count\n",
       "0        Animal Care Services                      Stray Animal  26760\n",
       "14               City Council  Request for Research/Information     31\n",
       "16           Customer Service                         Complaint   2388\n",
       "18       DSD/Code Enforcement              Overgrown Yard/Trash  65895\n",
       "140              Metro Health           License Renewal Invoice   1349\n",
       "154        Parks & Recreation                         Carpentry   1944\n",
       "198               Solid Waste                         No Pickup  86855\n",
       "254  Trans & Cap Improvements                   Pot Hole Repair  20616"
      ]
     },
     "execution_count": 41,
     "metadata": {},
     "output_type": "execute_result"
    }
   ],
   "source": [
    "df_pandas.groupby(['department']).head(1)"
   ]
  },
  {
   "cell_type": "markdown",
   "metadata": {},
   "source": []
  },
  {
   "cell_type": "markdown",
   "metadata": {},
   "source": [
    "### 6. Does whether or not its a weekend matter for when a case is opened/closed?"
   ]
  },
  {
   "cell_type": "code",
   "execution_count": 157,
   "metadata": {
    "scrolled": false
   },
   "outputs": [
    {
     "name": "stdout",
     "output_type": "stream",
     "text": [
      "-RECORD 0------------------------------------\n",
      " dept_division        | Field Operations     \n",
      " case_id              | 1014127332           \n",
      " case_opened_date     | 2018-01-01 00:42:00  \n",
      " case_closed_date     | 2018-01-01 12:29:00  \n",
      " case_due_date        | 2020-09-26 00:42:00  \n",
      " case_late            | false                \n",
      " num_days_late        | -998.5087616000001   \n",
      " case_closed          | true                 \n",
      " service_request_type | Stray Animal         \n",
      " SLA_days             | 999.0                \n",
      " case_status          | Closed               \n",
      " source_id            | svcCRMLS             \n",
      " request_address      | 2315  el paso st,... \n",
      " council_district     | 005                  \n",
      " num_weeks_late       | -142.6441088         \n",
      " zipcode              | 78207                \n",
      " case_age             | 1316                 \n",
      " days_to_closed       | 0                    \n",
      " case_lifetime        | 0                    \n",
      " department           | Animal Care Services \n",
      " dept_subject_to_SLA  | true                 \n",
      " case_opened_day      | 2                    \n",
      " case_closed_day      | 2                    \n",
      "only showing top 1 row\n",
      "\n"
     ]
    }
   ],
   "source": [
    "df.show(1,vertical=True)"
   ]
  },
  {
   "cell_type": "markdown",
   "metadata": {},
   "source": [
    "**opened cases**"
   ]
  },
  {
   "cell_type": "code",
   "execution_count": 162,
   "metadata": {
    "scrolled": true
   },
   "outputs": [
    {
     "name": "stdout",
     "output_type": "stream",
     "text": [
      "+-------------------+-----+\n",
      "|   case_opened_date|count|\n",
      "+-------------------+-----+\n",
      "|2017-01-01 03:22:00|    4|\n",
      "|2017-01-01 03:23:00|    2|\n",
      "|2017-01-01 04:11:00|    1|\n",
      "|2017-01-01 04:46:00|    1|\n",
      "|2017-01-01 06:26:00|    1|\n",
      "|2017-01-01 08:02:00|    1|\n",
      "|2017-01-01 08:10:00|    1|\n",
      "|2017-01-01 08:20:00|    1|\n",
      "|2017-01-01 08:24:00|    1|\n",
      "|2017-01-01 08:37:00|    1|\n",
      "|2017-01-01 08:39:00|    1|\n",
      "|2017-01-01 08:56:00|    1|\n",
      "|2017-01-01 09:02:00|    1|\n",
      "|2017-01-01 09:03:00|    1|\n",
      "|2017-01-01 09:16:00|    1|\n",
      "|2017-01-01 09:31:00|    1|\n",
      "|2017-01-01 09:34:00|    1|\n",
      "|2017-01-01 09:55:00|    1|\n",
      "|2017-01-01 10:03:00|    1|\n",
      "|2017-01-01 10:04:00|    1|\n",
      "+-------------------+-----+\n",
      "only showing top 20 rows\n",
      "\n"
     ]
    }
   ],
   "source": [
    "df.groupBy('case_opened_date' ).count().na.drop().sort('case_opened_date').show()"
   ]
  },
  {
   "cell_type": "code",
   "execution_count": 167,
   "metadata": {},
   "outputs": [],
   "source": [
    "#create a pandas dt\n",
    "df_open = df.groupBy('case_opened_date' ).count().na.drop().sort('case_opened_date').toPandas()"
   ]
  },
  {
   "cell_type": "code",
   "execution_count": 168,
   "metadata": {
    "scrolled": false
   },
   "outputs": [
    {
     "data": {
      "text/html": [
       "<div>\n",
       "<style scoped>\n",
       "    .dataframe tbody tr th:only-of-type {\n",
       "        vertical-align: middle;\n",
       "    }\n",
       "\n",
       "    .dataframe tbody tr th {\n",
       "        vertical-align: top;\n",
       "    }\n",
       "\n",
       "    .dataframe thead th {\n",
       "        text-align: right;\n",
       "    }\n",
       "</style>\n",
       "<table border=\"1\" class=\"dataframe\">\n",
       "  <thead>\n",
       "    <tr style=\"text-align: right;\">\n",
       "      <th></th>\n",
       "      <th>case_opened_date</th>\n",
       "      <th>count</th>\n",
       "    </tr>\n",
       "  </thead>\n",
       "  <tbody>\n",
       "    <tr>\n",
       "      <th>0</th>\n",
       "      <td>2017-01-01 03:22:00</td>\n",
       "      <td>4</td>\n",
       "    </tr>\n",
       "    <tr>\n",
       "      <th>1</th>\n",
       "      <td>2017-01-01 03:23:00</td>\n",
       "      <td>2</td>\n",
       "    </tr>\n",
       "    <tr>\n",
       "      <th>2</th>\n",
       "      <td>2017-01-01 04:11:00</td>\n",
       "      <td>1</td>\n",
       "    </tr>\n",
       "    <tr>\n",
       "      <th>3</th>\n",
       "      <td>2017-01-01 04:46:00</td>\n",
       "      <td>1</td>\n",
       "    </tr>\n",
       "    <tr>\n",
       "      <th>4</th>\n",
       "      <td>2017-01-01 06:26:00</td>\n",
       "      <td>1</td>\n",
       "    </tr>\n",
       "  </tbody>\n",
       "</table>\n",
       "</div>"
      ],
      "text/plain": [
       "     case_opened_date  count\n",
       "0 2017-01-01 03:22:00      4\n",
       "1 2017-01-01 03:23:00      2\n",
       "2 2017-01-01 04:11:00      1\n",
       "3 2017-01-01 04:46:00      1\n",
       "4 2017-01-01 06:26:00      1"
      ]
     },
     "execution_count": 168,
     "metadata": {},
     "output_type": "execute_result"
    }
   ],
   "source": [
    "df_open.head()"
   ]
  },
  {
   "cell_type": "code",
   "execution_count": null,
   "metadata": {},
   "outputs": [],
   "source": []
  },
  {
   "cell_type": "code",
   "execution_count": 170,
   "metadata": {},
   "outputs": [],
   "source": [
    "#getting the name of the day\n",
    "df_open['day']= df_open.case_opened_date.dt.day_name()"
   ]
  },
  {
   "cell_type": "code",
   "execution_count": 171,
   "metadata": {
    "scrolled": false
   },
   "outputs": [
    {
     "data": {
      "text/html": [
       "<div>\n",
       "<style scoped>\n",
       "    .dataframe tbody tr th:only-of-type {\n",
       "        vertical-align: middle;\n",
       "    }\n",
       "\n",
       "    .dataframe tbody tr th {\n",
       "        vertical-align: top;\n",
       "    }\n",
       "\n",
       "    .dataframe thead th {\n",
       "        text-align: right;\n",
       "    }\n",
       "</style>\n",
       "<table border=\"1\" class=\"dataframe\">\n",
       "  <thead>\n",
       "    <tr style=\"text-align: right;\">\n",
       "      <th></th>\n",
       "      <th>case_opened_date</th>\n",
       "      <th>count</th>\n",
       "      <th>day</th>\n",
       "    </tr>\n",
       "  </thead>\n",
       "  <tbody>\n",
       "    <tr>\n",
       "      <th>0</th>\n",
       "      <td>2017-01-01 03:22:00</td>\n",
       "      <td>4</td>\n",
       "      <td>Sunday</td>\n",
       "    </tr>\n",
       "    <tr>\n",
       "      <th>1</th>\n",
       "      <td>2017-01-01 03:23:00</td>\n",
       "      <td>2</td>\n",
       "      <td>Sunday</td>\n",
       "    </tr>\n",
       "    <tr>\n",
       "      <th>2</th>\n",
       "      <td>2017-01-01 04:11:00</td>\n",
       "      <td>1</td>\n",
       "      <td>Sunday</td>\n",
       "    </tr>\n",
       "    <tr>\n",
       "      <th>3</th>\n",
       "      <td>2017-01-01 04:46:00</td>\n",
       "      <td>1</td>\n",
       "      <td>Sunday</td>\n",
       "    </tr>\n",
       "    <tr>\n",
       "      <th>4</th>\n",
       "      <td>2017-01-01 06:26:00</td>\n",
       "      <td>1</td>\n",
       "      <td>Sunday</td>\n",
       "    </tr>\n",
       "  </tbody>\n",
       "</table>\n",
       "</div>"
      ],
      "text/plain": [
       "     case_opened_date  count     day\n",
       "0 2017-01-01 03:22:00      4  Sunday\n",
       "1 2017-01-01 03:23:00      2  Sunday\n",
       "2 2017-01-01 04:11:00      1  Sunday\n",
       "3 2017-01-01 04:46:00      1  Sunday\n",
       "4 2017-01-01 06:26:00      1  Sunday"
      ]
     },
     "execution_count": 171,
     "metadata": {},
     "output_type": "execute_result"
    }
   ],
   "source": [
    "df_open.head()"
   ]
  },
  {
   "cell_type": "code",
   "execution_count": 178,
   "metadata": {},
   "outputs": [
    {
     "data": {
      "text/plain": [
       "23129"
      ]
     },
     "execution_count": 178,
     "metadata": {},
     "output_type": "execute_result"
    }
   ],
   "source": [
    "#all the observatiuon for Sunday\n",
    "len(df_open[df_open.day == \"Sunday\"])"
   ]
  },
  {
   "cell_type": "code",
   "execution_count": 182,
   "metadata": {},
   "outputs": [
    {
     "data": {
      "text/plain": [
       "count                                                28765\n",
       "day      SundaySundaySundaySundaySundaySundaySundaySund...\n",
       "dtype: object"
      ]
     },
     "execution_count": 182,
     "metadata": {},
     "output_type": "execute_result"
    }
   ],
   "source": [
    "#all cases on Sunday\n",
    "df_open[df_open.day == \"Sunday\"].sum()"
   ]
  },
  {
   "cell_type": "code",
   "execution_count": 189,
   "metadata": {
    "scrolled": false
   },
   "outputs": [
    {
     "data": {
      "text/html": [
       "<div>\n",
       "<style scoped>\n",
       "    .dataframe tbody tr th:only-of-type {\n",
       "        vertical-align: middle;\n",
       "    }\n",
       "\n",
       "    .dataframe tbody tr th {\n",
       "        vertical-align: top;\n",
       "    }\n",
       "\n",
       "    .dataframe thead th {\n",
       "        text-align: right;\n",
       "    }\n",
       "</style>\n",
       "<table border=\"1\" class=\"dataframe\">\n",
       "  <thead>\n",
       "    <tr style=\"text-align: right;\">\n",
       "      <th></th>\n",
       "      <th>count</th>\n",
       "    </tr>\n",
       "    <tr>\n",
       "      <th>day</th>\n",
       "      <th></th>\n",
       "    </tr>\n",
       "  </thead>\n",
       "  <tbody>\n",
       "    <tr>\n",
       "      <th>Sunday</th>\n",
       "      <td>28765</td>\n",
       "    </tr>\n",
       "    <tr>\n",
       "      <th>Saturday</th>\n",
       "      <td>53678</td>\n",
       "    </tr>\n",
       "    <tr>\n",
       "      <th>Friday</th>\n",
       "      <td>143596</td>\n",
       "    </tr>\n",
       "    <tr>\n",
       "      <th>Wednesday</th>\n",
       "      <td>147213</td>\n",
       "    </tr>\n",
       "    <tr>\n",
       "      <th>Monday</th>\n",
       "      <td>153104</td>\n",
       "    </tr>\n",
       "    <tr>\n",
       "      <th>Thursday</th>\n",
       "      <td>153724</td>\n",
       "    </tr>\n",
       "    <tr>\n",
       "      <th>Tuesday</th>\n",
       "      <td>161624</td>\n",
       "    </tr>\n",
       "  </tbody>\n",
       "</table>\n",
       "</div>"
      ],
      "text/plain": [
       "            count\n",
       "day              \n",
       "Sunday      28765\n",
       "Saturday    53678\n",
       "Friday     143596\n",
       "Wednesday  147213\n",
       "Monday     153104\n",
       "Thursday   153724\n",
       "Tuesday    161624"
      ]
     },
     "execution_count": 189,
     "metadata": {},
     "output_type": "execute_result"
    }
   ],
   "source": [
    "#cases by each day\n",
    "df_open.groupby('day').sum().sort_values(by = 'count')"
   ]
  },
  {
   "cell_type": "code",
   "execution_count": 198,
   "metadata": {},
   "outputs": [
    {
     "data": {
      "image/png": "[encoded data removed]",
      "text/plain": [
       "<Figure size 1152x648 with 1 Axes>"
      ]
     },
     "metadata": {
      "needs_background": "light"
     },
     "output_type": "display_data"
    }
   ],
   "source": [
    "df_open.groupby('day').sum().sort_values(by = 'count')\\\n",
    ".plot.barh(figsize=(16,9), color = \"teal\")\n",
    "plt.title(\"Number of open cases by day\")\n",
    "plt.xlabel(\"Number of Cases\")\n",
    "plt.show()"
   ]
  },
  {
   "cell_type": "code",
   "execution_count": null,
   "metadata": {},
   "outputs": [],
   "source": []
  },
  {
   "cell_type": "code",
   "execution_count": null,
   "metadata": {},
   "outputs": [],
   "source": [
    "#other way to do it"
   ]
  },
  {
   "cell_type": "code",
   "execution_count": 47,
   "metadata": {
    "scrolled": false
   },
   "outputs": [
    {
     "name": "stdout",
     "output_type": "stream",
     "text": [
      "+---------------+------+\n",
      "|case_opened_day| count|\n",
      "+---------------+------+\n",
      "|              3|161624|\n",
      "|              5|153724|\n",
      "|              2|153104|\n",
      "|              4|147213|\n",
      "|              6|143596|\n",
      "|              7| 53678|\n",
      "|              1| 28765|\n",
      "+---------------+------+\n",
      "\n"
     ]
    }
   ],
   "source": [
    "df.groupBy('case_opened_day').count().sort(desc('count')).show()"
   ]
  },
  {
   "cell_type": "code",
   "execution_count": 48,
   "metadata": {},
   "outputs": [],
   "source": [
    "df_open = df.groupBy('case_opened_day').count().sort(desc('count')).toPandas().set_index('case_opened_day')"
   ]
  },
  {
   "cell_type": "code",
   "execution_count": 50,
   "metadata": {
    "scrolled": false
   },
   "outputs": [
    {
     "data": {
      "text/html": [
       "<div>\n",
       "<style scoped>\n",
       "    .dataframe tbody tr th:only-of-type {\n",
       "        vertical-align: middle;\n",
       "    }\n",
       "\n",
       "    .dataframe tbody tr th {\n",
       "        vertical-align: top;\n",
       "    }\n",
       "\n",
       "    .dataframe thead th {\n",
       "        text-align: right;\n",
       "    }\n",
       "</style>\n",
       "<table border=\"1\" class=\"dataframe\">\n",
       "  <thead>\n",
       "    <tr style=\"text-align: right;\">\n",
       "      <th></th>\n",
       "      <th>count</th>\n",
       "    </tr>\n",
       "    <tr>\n",
       "      <th>case_opened_day</th>\n",
       "      <th></th>\n",
       "    </tr>\n",
       "  </thead>\n",
       "  <tbody>\n",
       "    <tr>\n",
       "      <th>3</th>\n",
       "      <td>161624</td>\n",
       "    </tr>\n",
       "    <tr>\n",
       "      <th>5</th>\n",
       "      <td>153724</td>\n",
       "    </tr>\n",
       "    <tr>\n",
       "      <th>2</th>\n",
       "      <td>153104</td>\n",
       "    </tr>\n",
       "    <tr>\n",
       "      <th>4</th>\n",
       "      <td>147213</td>\n",
       "    </tr>\n",
       "    <tr>\n",
       "      <th>6</th>\n",
       "      <td>143596</td>\n",
       "    </tr>\n",
       "    <tr>\n",
       "      <th>7</th>\n",
       "      <td>53678</td>\n",
       "    </tr>\n",
       "    <tr>\n",
       "      <th>1</th>\n",
       "      <td>28765</td>\n",
       "    </tr>\n",
       "  </tbody>\n",
       "</table>\n",
       "</div>"
      ],
      "text/plain": [
       "                  count\n",
       "case_opened_day        \n",
       "3                161624\n",
       "5                153724\n",
       "2                153104\n",
       "4                147213\n",
       "6                143596\n",
       "7                 53678\n",
       "1                 28765"
      ]
     },
     "execution_count": 50,
     "metadata": {},
     "output_type": "execute_result"
    }
   ],
   "source": [
    "df_open"
   ]
  },
  {
   "cell_type": "code",
   "execution_count": 51,
   "metadata": {
    "scrolled": false
   },
   "outputs": [
    {
     "data": {
      "text/plain": [
       "<AxesSubplot:xlabel='case_opened_day'>"
      ]
     },
     "execution_count": 51,
     "metadata": {},
     "output_type": "execute_result"
    },
    {
     "data": {
      "image/png": "[encoded data removed]",
      "text/plain": [
       "<Figure size 432x288 with 1 Axes>"
      ]
     },
     "metadata": {},
     "output_type": "display_data"
    }
   ],
   "source": [
    "df_open.plot.bar()"
   ]
  },
  {
   "cell_type": "markdown",
   "metadata": {},
   "source": [
    "**closed cases**"
   ]
  },
  {
   "cell_type": "code",
   "execution_count": 199,
   "metadata": {},
   "outputs": [],
   "source": [
    "#create a pandas dt\n",
    "df_closed = df.groupBy('case_closed_date' ).count().na.drop().sort('case_closed_date').toPandas()"
   ]
  },
  {
   "cell_type": "code",
   "execution_count": 201,
   "metadata": {},
   "outputs": [
    {
     "data": {
      "text/html": [
       "<div>\n",
       "<style scoped>\n",
       "    .dataframe tbody tr th:only-of-type {\n",
       "        vertical-align: middle;\n",
       "    }\n",
       "\n",
       "    .dataframe tbody tr th {\n",
       "        vertical-align: top;\n",
       "    }\n",
       "\n",
       "    .dataframe thead th {\n",
       "        text-align: right;\n",
       "    }\n",
       "</style>\n",
       "<table border=\"1\" class=\"dataframe\">\n",
       "  <thead>\n",
       "    <tr style=\"text-align: right;\">\n",
       "      <th></th>\n",
       "      <th>case_closed_date</th>\n",
       "      <th>count</th>\n",
       "    </tr>\n",
       "  </thead>\n",
       "  <tbody>\n",
       "    <tr>\n",
       "      <th>0</th>\n",
       "      <td>2017-01-01 06:03:00</td>\n",
       "      <td>1</td>\n",
       "    </tr>\n",
       "    <tr>\n",
       "      <th>1</th>\n",
       "      <td>2017-01-01 06:04:00</td>\n",
       "      <td>2</td>\n",
       "    </tr>\n",
       "    <tr>\n",
       "      <th>2</th>\n",
       "      <td>2017-01-01 09:10:00</td>\n",
       "      <td>1</td>\n",
       "    </tr>\n",
       "    <tr>\n",
       "      <th>3</th>\n",
       "      <td>2017-01-01 09:27:00</td>\n",
       "      <td>1</td>\n",
       "    </tr>\n",
       "    <tr>\n",
       "      <th>4</th>\n",
       "      <td>2017-01-01 09:32:00</td>\n",
       "      <td>1</td>\n",
       "    </tr>\n",
       "  </tbody>\n",
       "</table>\n",
       "</div>"
      ],
      "text/plain": [
       "     case_closed_date  count\n",
       "0 2017-01-01 06:03:00      1\n",
       "1 2017-01-01 06:04:00      2\n",
       "2 2017-01-01 09:10:00      1\n",
       "3 2017-01-01 09:27:00      1\n",
       "4 2017-01-01 09:32:00      1"
      ]
     },
     "execution_count": 201,
     "metadata": {},
     "output_type": "execute_result"
    }
   ],
   "source": [
    "df_closed.head()"
   ]
  },
  {
   "cell_type": "code",
   "execution_count": 203,
   "metadata": {},
   "outputs": [],
   "source": [
    "#getting the name of the day\n",
    "df_closed['day']= df_closed.case_closed_date.dt.day_name()"
   ]
  },
  {
   "cell_type": "code",
   "execution_count": 204,
   "metadata": {
    "scrolled": false
   },
   "outputs": [
    {
     "data": {
      "text/html": [
       "<div>\n",
       "<style scoped>\n",
       "    .dataframe tbody tr th:only-of-type {\n",
       "        vertical-align: middle;\n",
       "    }\n",
       "\n",
       "    .dataframe tbody tr th {\n",
       "        vertical-align: top;\n",
       "    }\n",
       "\n",
       "    .dataframe thead th {\n",
       "        text-align: right;\n",
       "    }\n",
       "</style>\n",
       "<table border=\"1\" class=\"dataframe\">\n",
       "  <thead>\n",
       "    <tr style=\"text-align: right;\">\n",
       "      <th></th>\n",
       "      <th>case_closed_date</th>\n",
       "      <th>count</th>\n",
       "      <th>day</th>\n",
       "    </tr>\n",
       "  </thead>\n",
       "  <tbody>\n",
       "    <tr>\n",
       "      <th>0</th>\n",
       "      <td>2017-01-01 06:03:00</td>\n",
       "      <td>1</td>\n",
       "      <td>Sunday</td>\n",
       "    </tr>\n",
       "    <tr>\n",
       "      <th>1</th>\n",
       "      <td>2017-01-01 06:04:00</td>\n",
       "      <td>2</td>\n",
       "      <td>Sunday</td>\n",
       "    </tr>\n",
       "    <tr>\n",
       "      <th>2</th>\n",
       "      <td>2017-01-01 09:10:00</td>\n",
       "      <td>1</td>\n",
       "      <td>Sunday</td>\n",
       "    </tr>\n",
       "    <tr>\n",
       "      <th>3</th>\n",
       "      <td>2017-01-01 09:27:00</td>\n",
       "      <td>1</td>\n",
       "      <td>Sunday</td>\n",
       "    </tr>\n",
       "    <tr>\n",
       "      <th>4</th>\n",
       "      <td>2017-01-01 09:32:00</td>\n",
       "      <td>1</td>\n",
       "      <td>Sunday</td>\n",
       "    </tr>\n",
       "  </tbody>\n",
       "</table>\n",
       "</div>"
      ],
      "text/plain": [
       "     case_closed_date  count     day\n",
       "0 2017-01-01 06:03:00      1  Sunday\n",
       "1 2017-01-01 06:04:00      2  Sunday\n",
       "2 2017-01-01 09:10:00      1  Sunday\n",
       "3 2017-01-01 09:27:00      1  Sunday\n",
       "4 2017-01-01 09:32:00      1  Sunday"
      ]
     },
     "execution_count": 204,
     "metadata": {},
     "output_type": "execute_result"
    }
   ],
   "source": [
    "df_closed.head()"
   ]
  },
  {
   "cell_type": "code",
   "execution_count": 205,
   "metadata": {},
   "outputs": [
    {
     "data": {
      "text/html": [
       "<div>\n",
       "<style scoped>\n",
       "    .dataframe tbody tr th:only-of-type {\n",
       "        vertical-align: middle;\n",
       "    }\n",
       "\n",
       "    .dataframe tbody tr th {\n",
       "        vertical-align: top;\n",
       "    }\n",
       "\n",
       "    .dataframe thead th {\n",
       "        text-align: right;\n",
       "    }\n",
       "</style>\n",
       "<table border=\"1\" class=\"dataframe\">\n",
       "  <thead>\n",
       "    <tr style=\"text-align: right;\">\n",
       "      <th></th>\n",
       "      <th>count</th>\n",
       "    </tr>\n",
       "    <tr>\n",
       "      <th>day</th>\n",
       "      <th></th>\n",
       "    </tr>\n",
       "  </thead>\n",
       "  <tbody>\n",
       "    <tr>\n",
       "      <th>Sunday</th>\n",
       "      <td>26867</td>\n",
       "    </tr>\n",
       "    <tr>\n",
       "      <th>Saturday</th>\n",
       "      <td>61160</td>\n",
       "    </tr>\n",
       "    <tr>\n",
       "      <th>Friday</th>\n",
       "      <td>129142</td>\n",
       "    </tr>\n",
       "    <tr>\n",
       "      <th>Monday</th>\n",
       "      <td>135069</td>\n",
       "    </tr>\n",
       "    <tr>\n",
       "      <th>Thursday</th>\n",
       "      <td>145725</td>\n",
       "    </tr>\n",
       "    <tr>\n",
       "      <th>Tuesday</th>\n",
       "      <td>154916</td>\n",
       "    </tr>\n",
       "    <tr>\n",
       "      <th>Wednesday</th>\n",
       "      <td>170715</td>\n",
       "    </tr>\n",
       "  </tbody>\n",
       "</table>\n",
       "</div>"
      ],
      "text/plain": [
       "            count\n",
       "day              \n",
       "Sunday      26867\n",
       "Saturday    61160\n",
       "Friday     129142\n",
       "Monday     135069\n",
       "Thursday   145725\n",
       "Tuesday    154916\n",
       "Wednesday  170715"
      ]
     },
     "execution_count": 205,
     "metadata": {},
     "output_type": "execute_result"
    }
   ],
   "source": [
    "df_closed.groupby('day').sum().sort_values(by = 'count')"
   ]
  },
  {
   "cell_type": "code",
   "execution_count": 206,
   "metadata": {},
   "outputs": [
    {
     "data": {
      "image/png": "[encoded data removed]",
      "text/plain": [
       "<Figure size 1152x648 with 1 Axes>"
      ]
     },
     "metadata": {
      "needs_background": "light"
     },
     "output_type": "display_data"
    }
   ],
   "source": [
    "df_closed.groupby('day').sum().sort_values(by = 'count')\\\n",
    ".plot.barh(figsize=(16,9), color = \"teal\")\n",
    "plt.title(\"Number of closed cases by day\")\n",
    "plt.xlabel(\"Number of Cases\")\n",
    "plt.show()"
   ]
  },
  {
   "cell_type": "code",
   "execution_count": null,
   "metadata": {},
   "outputs": [],
   "source": [
    "#other way to do it"
   ]
  },
  {
   "cell_type": "code",
   "execution_count": 52,
   "metadata": {
    "scrolled": true
   },
   "outputs": [
    {
     "name": "stdout",
     "output_type": "stream",
     "text": [
      "+---------------+------+\n",
      "|case_closed_day| count|\n",
      "+---------------+------+\n",
      "|              4|170715|\n",
      "|              3|154916|\n",
      "|              5|145725|\n",
      "|              2|135069|\n",
      "|              6|129142|\n",
      "|              7| 61160|\n",
      "|              1| 26867|\n",
      "+---------------+------+\n",
      "\n"
     ]
    }
   ],
   "source": [
    "df.groupBy('case_closed_day').count().na.drop().sort(desc('count')).show()"
   ]
  },
  {
   "cell_type": "code",
   "execution_count": 53,
   "metadata": {},
   "outputs": [],
   "source": [
    "df_closed = df.groupBy('case_closed_day').count().na.drop().sort(desc('count')).toPandas()\\\n",
    ".set_index('case_closed_day')"
   ]
  },
  {
   "cell_type": "code",
   "execution_count": 54,
   "metadata": {},
   "outputs": [
    {
     "data": {
      "text/plain": [
       "<AxesSubplot:xlabel='case_closed_day'>"
      ]
     },
     "execution_count": 54,
     "metadata": {},
     "output_type": "execute_result"
    },
    {
     "data": {
      "image/png": "[encoded data removed]",
      "text/plain": [
       "<Figure size 432x288 with 1 Axes>"
      ]
     },
     "metadata": {},
     "output_type": "display_data"
    }
   ],
   "source": [
    "df_closed.plot.bar()"
   ]
  },
  {
   "cell_type": "markdown",
   "metadata": {},
   "source": [
    "### 7. On average, how many cases are opened a day for the Customer Service department?"
   ]
  },
  {
   "cell_type": "code",
   "execution_count": 280,
   "metadata": {
    "scrolled": true
   },
   "outputs": [
    {
     "name": "stdout",
     "output_type": "stream",
     "text": [
      "+----------------+-----+\n",
      "|case_opened_date|count|\n",
      "+----------------+-----+\n",
      "|      2017-01-02|    3|\n",
      "|      2017-01-03|    6|\n",
      "|      2017-01-04|    2|\n",
      "|      2017-01-05|    5|\n",
      "|      2017-01-06|    3|\n",
      "|      2017-01-07|    2|\n",
      "|      2017-01-09|    2|\n",
      "|      2017-01-10|    5|\n",
      "|      2017-01-11|    3|\n",
      "|      2017-01-12|    4|\n",
      "|      2017-01-13|    3|\n",
      "|      2017-01-14|    2|\n",
      "|      2017-01-16|    1|\n",
      "|      2017-01-17|    6|\n",
      "|      2017-01-18|    6|\n",
      "|      2017-01-19|    7|\n",
      "|      2017-01-20|    4|\n",
      "|      2017-01-21|    3|\n",
      "|      2017-01-23|    4|\n",
      "|      2017-01-24|    5|\n",
      "+----------------+-----+\n",
      "only showing top 20 rows\n",
      "\n"
     ]
    }
   ],
   "source": [
    "#opened cases for customer service\n",
    "(\n",
    "df.where(df.department == 'Customer Service')\n",
    ".groupBy(date_format(\"case_opened_date\", \"yyyy-MM-dd\").alias(\"case_opened_date\")).count().na.drop().sort('case_opened_date')  \n",
    ".show()\n",
    ")"
   ]
  },
  {
   "cell_type": "code",
   "execution_count": 286,
   "metadata": {},
   "outputs": [],
   "source": [
    "# the table above conver to pandas df\n",
    "cs_df =(df.withColumn(\"case_opened_date\", expr(\"date(case_opened_date)\"))\n",
    "    .filter(df.department == \"Customer Service\")\n",
    "    .groupby(\"case_opened_date\")\n",
    "    .count().na.drop().sort('case_opened_date')\n",
    "    .toPandas())"
   ]
  },
  {
   "cell_type": "code",
   "execution_count": 287,
   "metadata": {},
   "outputs": [
    {
     "data": {
      "text/html": [
       "<div>\n",
       "<style scoped>\n",
       "    .dataframe tbody tr th:only-of-type {\n",
       "        vertical-align: middle;\n",
       "    }\n",
       "\n",
       "    .dataframe tbody tr th {\n",
       "        vertical-align: top;\n",
       "    }\n",
       "\n",
       "    .dataframe thead th {\n",
       "        text-align: right;\n",
       "    }\n",
       "</style>\n",
       "<table border=\"1\" class=\"dataframe\">\n",
       "  <thead>\n",
       "    <tr style=\"text-align: right;\">\n",
       "      <th></th>\n",
       "      <th>case_opened_date</th>\n",
       "      <th>count</th>\n",
       "    </tr>\n",
       "  </thead>\n",
       "  <tbody>\n",
       "    <tr>\n",
       "      <th>0</th>\n",
       "      <td>2017-01-02</td>\n",
       "      <td>3</td>\n",
       "    </tr>\n",
       "    <tr>\n",
       "      <th>1</th>\n",
       "      <td>2017-01-03</td>\n",
       "      <td>6</td>\n",
       "    </tr>\n",
       "    <tr>\n",
       "      <th>2</th>\n",
       "      <td>2017-01-04</td>\n",
       "      <td>2</td>\n",
       "    </tr>\n",
       "    <tr>\n",
       "      <th>3</th>\n",
       "      <td>2017-01-05</td>\n",
       "      <td>5</td>\n",
       "    </tr>\n",
       "    <tr>\n",
       "      <th>4</th>\n",
       "      <td>2017-01-06</td>\n",
       "      <td>3</td>\n",
       "    </tr>\n",
       "  </tbody>\n",
       "</table>\n",
       "</div>"
      ],
      "text/plain": [
       "  case_opened_date  count\n",
       "0       2017-01-02      3\n",
       "1       2017-01-03      6\n",
       "2       2017-01-04      2\n",
       "3       2017-01-05      5\n",
       "4       2017-01-06      3"
      ]
     },
     "execution_count": 287,
     "metadata": {},
     "output_type": "execute_result"
    }
   ],
   "source": [
    "cs_df.head()"
   ]
  },
  {
   "cell_type": "code",
   "execution_count": 289,
   "metadata": {
    "scrolled": false
   },
   "outputs": [
    {
     "name": "stdout",
     "output_type": "stream",
     "text": [
      "<class 'pandas.core.frame.DataFrame'>\n",
      "RangeIndex: 512 entries, 0 to 511\n",
      "Data columns (total 2 columns):\n",
      " #   Column            Non-Null Count  Dtype \n",
      "---  ------            --------------  ----- \n",
      " 0   case_opened_date  512 non-null    object\n",
      " 1   count             512 non-null    int64 \n",
      "dtypes: int64(1), object(1)\n",
      "memory usage: 8.1+ KB\n"
     ]
    }
   ],
   "source": [
    "cs_df.info()"
   ]
  },
  {
   "cell_type": "code",
   "execution_count": 296,
   "metadata": {},
   "outputs": [],
   "source": [
    "# Converting to DateTime Type\n",
    "cs_df['case_opened_date'] = pd.to_datetime(cs_df.case_opened_date)"
   ]
  },
  {
   "cell_type": "code",
   "execution_count": 297,
   "metadata": {},
   "outputs": [],
   "source": [
    "#create a new column for day\n",
    "cs_df['day']= cs_df.case_opened_date.dt.day_name()"
   ]
  },
  {
   "cell_type": "code",
   "execution_count": 298,
   "metadata": {},
   "outputs": [],
   "source": [
    "cs_df['case_opened_date_simple'] = cs_df.case_opened_date.dt.date"
   ]
  },
  {
   "cell_type": "code",
   "execution_count": 299,
   "metadata": {
    "scrolled": true
   },
   "outputs": [
    {
     "data": {
      "text/html": [
       "<div>\n",
       "<style scoped>\n",
       "    .dataframe tbody tr th:only-of-type {\n",
       "        vertical-align: middle;\n",
       "    }\n",
       "\n",
       "    .dataframe tbody tr th {\n",
       "        vertical-align: top;\n",
       "    }\n",
       "\n",
       "    .dataframe thead th {\n",
       "        text-align: right;\n",
       "    }\n",
       "</style>\n",
       "<table border=\"1\" class=\"dataframe\">\n",
       "  <thead>\n",
       "    <tr style=\"text-align: right;\">\n",
       "      <th></th>\n",
       "      <th>case_opened_date</th>\n",
       "      <th>count</th>\n",
       "      <th>day</th>\n",
       "      <th>case_opened_date_simple</th>\n",
       "    </tr>\n",
       "  </thead>\n",
       "  <tbody>\n",
       "    <tr>\n",
       "      <th>0</th>\n",
       "      <td>2017-01-02</td>\n",
       "      <td>3</td>\n",
       "      <td>Monday</td>\n",
       "      <td>2017-01-02</td>\n",
       "    </tr>\n",
       "    <tr>\n",
       "      <th>1</th>\n",
       "      <td>2017-01-03</td>\n",
       "      <td>6</td>\n",
       "      <td>Tuesday</td>\n",
       "      <td>2017-01-03</td>\n",
       "    </tr>\n",
       "    <tr>\n",
       "      <th>2</th>\n",
       "      <td>2017-01-04</td>\n",
       "      <td>2</td>\n",
       "      <td>Wednesday</td>\n",
       "      <td>2017-01-04</td>\n",
       "    </tr>\n",
       "    <tr>\n",
       "      <th>3</th>\n",
       "      <td>2017-01-05</td>\n",
       "      <td>5</td>\n",
       "      <td>Thursday</td>\n",
       "      <td>2017-01-05</td>\n",
       "    </tr>\n",
       "    <tr>\n",
       "      <th>4</th>\n",
       "      <td>2017-01-06</td>\n",
       "      <td>3</td>\n",
       "      <td>Friday</td>\n",
       "      <td>2017-01-06</td>\n",
       "    </tr>\n",
       "  </tbody>\n",
       "</table>\n",
       "</div>"
      ],
      "text/plain": [
       "  case_opened_date  count        day case_opened_date_simple\n",
       "0       2017-01-02      3     Monday              2017-01-02\n",
       "1       2017-01-03      6    Tuesday              2017-01-03\n",
       "2       2017-01-04      2  Wednesday              2017-01-04\n",
       "3       2017-01-05      5   Thursday              2017-01-05\n",
       "4       2017-01-06      3     Friday              2017-01-06"
      ]
     },
     "execution_count": 299,
     "metadata": {},
     "output_type": "execute_result"
    }
   ],
   "source": [
    "cs_df.head()"
   ]
  },
  {
   "cell_type": "code",
   "execution_count": 300,
   "metadata": {
    "scrolled": false
   },
   "outputs": [
    {
     "data": {
      "text/plain": [
       "444"
      ]
     },
     "execution_count": 300,
     "metadata": {},
     "output_type": "execute_result"
    }
   ],
   "source": [
    "#numer of cases monday\n",
    "cs_df[cs_df.day == 'Monday'].sum()[0]"
   ]
  },
  {
   "cell_type": "code",
   "execution_count": 301,
   "metadata": {},
   "outputs": [
    {
     "data": {
      "text/plain": [
       "count    5.481481\n",
       "dtype: float64"
      ]
     },
     "execution_count": 301,
     "metadata": {},
     "output_type": "execute_result"
    }
   ],
   "source": [
    "cs_df[cs_df.day == 'Monday'].mean()"
   ]
  },
  {
   "cell_type": "code",
   "execution_count": 302,
   "metadata": {
    "scrolled": true
   },
   "outputs": [
    {
     "data": {
      "text/html": [
       "<div>\n",
       "<style scoped>\n",
       "    .dataframe tbody tr th:only-of-type {\n",
       "        vertical-align: middle;\n",
       "    }\n",
       "\n",
       "    .dataframe tbody tr th {\n",
       "        vertical-align: top;\n",
       "    }\n",
       "\n",
       "    .dataframe thead th {\n",
       "        text-align: right;\n",
       "    }\n",
       "</style>\n",
       "<table border=\"1\" class=\"dataframe\">\n",
       "  <thead>\n",
       "    <tr style=\"text-align: right;\">\n",
       "      <th></th>\n",
       "      <th>count</th>\n",
       "    </tr>\n",
       "    <tr>\n",
       "      <th>day</th>\n",
       "      <th></th>\n",
       "    </tr>\n",
       "  </thead>\n",
       "  <tbody>\n",
       "    <tr>\n",
       "      <th>Friday</th>\n",
       "      <td>6.578313</td>\n",
       "    </tr>\n",
       "    <tr>\n",
       "      <th>Monday</th>\n",
       "      <td>5.481481</td>\n",
       "    </tr>\n",
       "    <tr>\n",
       "      <th>Saturday</th>\n",
       "      <td>2.400000</td>\n",
       "    </tr>\n",
       "    <tr>\n",
       "      <th>Sunday</th>\n",
       "      <td>1.161290</td>\n",
       "    </tr>\n",
       "    <tr>\n",
       "      <th>Thursday</th>\n",
       "      <td>6.829268</td>\n",
       "    </tr>\n",
       "    <tr>\n",
       "      <th>Tuesday</th>\n",
       "      <td>7.590361</td>\n",
       "    </tr>\n",
       "    <tr>\n",
       "      <th>Wednesday</th>\n",
       "      <td>5.670732</td>\n",
       "    </tr>\n",
       "  </tbody>\n",
       "</table>\n",
       "</div>"
      ],
      "text/plain": [
       "              count\n",
       "day                \n",
       "Friday     6.578313\n",
       "Monday     5.481481\n",
       "Saturday   2.400000\n",
       "Sunday     1.161290\n",
       "Thursday   6.829268\n",
       "Tuesday    7.590361\n",
       "Wednesday  5.670732"
      ]
     },
     "execution_count": 302,
     "metadata": {},
     "output_type": "execute_result"
    }
   ],
   "source": [
    "cs_df.groupby('day').mean()"
   ]
  },
  {
   "cell_type": "code",
   "execution_count": 303,
   "metadata": {},
   "outputs": [
    {
     "data": {
      "image/png": "[encoded data removed]",
      "text/plain": [
       "<Figure size 1152x648 with 1 Axes>"
      ]
     },
     "metadata": {
      "needs_background": "light"
     },
     "output_type": "display_data"
    }
   ],
   "source": [
    "cs_df.groupby('day').mean().plot.bar(figsize=(16,9), color = \"teal\")\n",
    "plt.title(\"Average of Number of open cases by day\")\n",
    "plt.ylabel(\"Number of Cases\")\n",
    "plt.show()"
   ]
  },
  {
   "cell_type": "code",
   "execution_count": 304,
   "metadata": {
    "scrolled": false
   },
   "outputs": [
    {
     "data": {
      "text/html": [
       "<div>\n",
       "<style scoped>\n",
       "    .dataframe tbody tr th:only-of-type {\n",
       "        vertical-align: middle;\n",
       "    }\n",
       "\n",
       "    .dataframe tbody tr th {\n",
       "        vertical-align: top;\n",
       "    }\n",
       "\n",
       "    .dataframe thead th {\n",
       "        text-align: right;\n",
       "    }\n",
       "</style>\n",
       "<table border=\"1\" class=\"dataframe\">\n",
       "  <thead>\n",
       "    <tr style=\"text-align: right;\">\n",
       "      <th></th>\n",
       "      <th>count</th>\n",
       "    </tr>\n",
       "    <tr>\n",
       "      <th>day</th>\n",
       "      <th></th>\n",
       "    </tr>\n",
       "  </thead>\n",
       "  <tbody>\n",
       "    <tr>\n",
       "      <th>Friday</th>\n",
       "      <td>546</td>\n",
       "    </tr>\n",
       "    <tr>\n",
       "      <th>Monday</th>\n",
       "      <td>444</td>\n",
       "    </tr>\n",
       "    <tr>\n",
       "      <th>Saturday</th>\n",
       "      <td>168</td>\n",
       "    </tr>\n",
       "    <tr>\n",
       "      <th>Sunday</th>\n",
       "      <td>36</td>\n",
       "    </tr>\n",
       "    <tr>\n",
       "      <th>Thursday</th>\n",
       "      <td>560</td>\n",
       "    </tr>\n",
       "    <tr>\n",
       "      <th>Tuesday</th>\n",
       "      <td>630</td>\n",
       "    </tr>\n",
       "    <tr>\n",
       "      <th>Wednesday</th>\n",
       "      <td>465</td>\n",
       "    </tr>\n",
       "  </tbody>\n",
       "</table>\n",
       "</div>"
      ],
      "text/plain": [
       "           count\n",
       "day             \n",
       "Friday       546\n",
       "Monday       444\n",
       "Saturday     168\n",
       "Sunday        36\n",
       "Thursday     560\n",
       "Tuesday      630\n",
       "Wednesday    465"
      ]
     },
     "execution_count": 304,
     "metadata": {},
     "output_type": "execute_result"
    }
   ],
   "source": [
    "cs_df.groupby('day').sum()"
   ]
  },
  {
   "cell_type": "code",
   "execution_count": 305,
   "metadata": {
    "scrolled": false
   },
   "outputs": [
    {
     "data": {
      "image/png": "[encoded data removed]",
      "text/plain": [
       "<Figure size 1152x648 with 1 Axes>"
      ]
     },
     "metadata": {
      "needs_background": "light"
     },
     "output_type": "display_data"
    }
   ],
   "source": [
    "cs_df.groupby('day').sum().plot.bar(figsize=(16,9), color = \"teal\")\n",
    "plt.title(\"Number of open cases by day\")\n",
    "plt.ylabel(\"Number of Cases\")\n",
    "plt.show()"
   ]
  },
  {
   "cell_type": "code",
   "execution_count": null,
   "metadata": {},
   "outputs": [],
   "source": [
    "#other solutions\n"
   ]
  },
  {
   "cell_type": "code",
   "execution_count": 274,
   "metadata": {},
   "outputs": [],
   "source": [
    "def plot_cases(df):\n",
    "    s = df[\"count\"]\n",
    "    avg = s.mean()\n",
    "    s.value_counts().sort_index().plot.bar()\n",
    "    plt.text(\n",
    "        8, 50, f\"Average Cases Opened Per Day:\\n{avg:.2f}\", ha=\"left\", size=14\n",
    "    )\n",
    "    plt.xlabel(\"# of cases opened\")\n",
    "    plt.ylabel(\"# of days with that many cases opened\")\n",
    "    plt.xticks(rotation=0)"
   ]
  },
  {
   "cell_type": "code",
   "execution_count": 316,
   "metadata": {},
   "outputs": [
    {
     "data": {
      "image/png": "[encoded data removed]",
      "text/plain": [
       "<Figure size 936x576 with 1 Axes>"
      ]
     },
     "metadata": {
      "needs_background": "light"
     },
     "output_type": "display_data"
    }
   ],
   "source": [
    "plt.figure(figsize=(13,8))\n",
    "cs_df[\"count\"].value_counts().sort_index().plot.bar()\n",
    "plt.text( 8, 50, f\"Average Cases Opened Per Day:\\n{cs_df['count'].mean():.2f}\", ha=\"left\", size=14)\n",
    "plt.xlabel(\"# of cases opened\")\n",
    "plt.ylabel(\"# of days with that many cases opened\")\n",
    "plt.hlines(y =cs_df['count'].mean(), xmin = 0 , xmax= 16, color = 'blue')\n",
    "plt.xticks(rotation=0)\n",
    "plt.show()"
   ]
  },
  {
   "cell_type": "markdown",
   "metadata": {},
   "source": [
    "### 8. Does the number of service requests for the solid waste department vary by day of the week?"
   ]
  },
  {
   "cell_type": "code",
   "execution_count": 242,
   "metadata": {
    "scrolled": true
   },
   "outputs": [
    {
     "name": "stdout",
     "output_type": "stream",
     "text": [
      "-RECORD 0------------------------------------\n",
      " dept_division        | Field Operations     \n",
      " case_id              | 1014127332           \n",
      " case_opened_date     | 2018-01-01 00:42:00  \n",
      " case_closed_date     | 2018-01-01 12:29:00  \n",
      " case_due_date        | 2020-09-26 00:42:00  \n",
      " case_late            | false                \n",
      " num_days_late        | -998.5087616000001   \n",
      " case_closed          | true                 \n",
      " service_request_type | Stray Animal         \n",
      " SLA_days             | 999.0                \n",
      " case_status          | Closed               \n",
      " source_id            | svcCRMLS             \n",
      " request_address      | 2315  el paso st,... \n",
      " council_district     | 005                  \n",
      " num_weeks_late       | -142.6441088         \n",
      " zipcode              | 78207                \n",
      " case_age             | 1316                 \n",
      " days_to_closed       | 0                    \n",
      " case_lifetime        | 0                    \n",
      " department           | Animal Care Services \n",
      " dept_subject_to_SLA  | true                 \n",
      " case_opened_day      | 2                    \n",
      " case_closed_day      | 2                    \n",
      "only showing top 1 row\n",
      "\n"
     ]
    }
   ],
   "source": [
    "df.show(1, vertical=True)"
   ]
  },
  {
   "cell_type": "code",
   "execution_count": 250,
   "metadata": {},
   "outputs": [
    {
     "name": "stdout",
     "output_type": "stream",
     "text": [
      "+----------------+-----+\n",
      "|case_opened_date|count|\n",
      "+----------------+-----+\n",
      "|      2017-12-25|   19|\n",
      "|      2018-01-01|   21|\n",
      "|      2017-11-23|   22|\n",
      "|      2017-04-16|   43|\n",
      "|      2017-01-01|   43|\n",
      "|      2017-12-31|   45|\n",
      "|      2017-12-24|   45|\n",
      "|      2017-12-17|   45|\n",
      "|      2017-08-26|   54|\n",
      "|      2018-04-01|   60|\n",
      "|      2017-07-16|   61|\n",
      "|      2017-11-12|   62|\n",
      "|      2017-05-21|   64|\n",
      "|      2017-01-15|   64|\n",
      "|      2018-02-11|   65|\n",
      "|      2018-01-14|   66|\n",
      "|      2017-08-20|   67|\n",
      "|      2017-10-01|   67|\n",
      "|      2017-10-29|   67|\n",
      "|      2018-06-03|   68|\n",
      "+----------------+-----+\n",
      "only showing top 20 rows\n",
      "\n"
     ]
    }
   ],
   "source": [
    "#group by day in a simple form\n",
    "df.where(df.department == \"Solid Waste\")\\\n",
    ".groupBy(date_format(\"case_opened_date\", \"yyyy-MM-dd\").alias(\"case_opened_date\"))\\\n",
    ".count().sort('count').show()"
   ]
  },
  {
   "cell_type": "code",
   "execution_count": 256,
   "metadata": {},
   "outputs": [],
   "source": [
    "#create. pandas table\n",
    "df_pandas = df.where(df.department == \"Solid Waste\")\\\n",
    ".groupBy(date_format(\"case_opened_date\", \"yyyy-MM-dd\").alias(\"case_opened_date\"))\\\n",
    ".count().sort(\"case_opened_date\").toPandas()"
   ]
  },
  {
   "cell_type": "code",
   "execution_count": 257,
   "metadata": {
    "scrolled": true
   },
   "outputs": [
    {
     "data": {
      "text/html": [
       "<div>\n",
       "<style scoped>\n",
       "    .dataframe tbody tr th:only-of-type {\n",
       "        vertical-align: middle;\n",
       "    }\n",
       "\n",
       "    .dataframe tbody tr th {\n",
       "        vertical-align: top;\n",
       "    }\n",
       "\n",
       "    .dataframe thead th {\n",
       "        text-align: right;\n",
       "    }\n",
       "</style>\n",
       "<table border=\"1\" class=\"dataframe\">\n",
       "  <thead>\n",
       "    <tr style=\"text-align: right;\">\n",
       "      <th></th>\n",
       "      <th>case_opened_date</th>\n",
       "      <th>count</th>\n",
       "    </tr>\n",
       "  </thead>\n",
       "  <tbody>\n",
       "    <tr>\n",
       "      <th>0</th>\n",
       "      <td>2017-01-01</td>\n",
       "      <td>43</td>\n",
       "    </tr>\n",
       "    <tr>\n",
       "      <th>1</th>\n",
       "      <td>2017-01-02</td>\n",
       "      <td>722</td>\n",
       "    </tr>\n",
       "    <tr>\n",
       "      <th>2</th>\n",
       "      <td>2017-01-03</td>\n",
       "      <td>771</td>\n",
       "    </tr>\n",
       "    <tr>\n",
       "      <th>3</th>\n",
       "      <td>2017-01-04</td>\n",
       "      <td>545</td>\n",
       "    </tr>\n",
       "    <tr>\n",
       "      <th>4</th>\n",
       "      <td>2017-01-05</td>\n",
       "      <td>586</td>\n",
       "    </tr>\n",
       "  </tbody>\n",
       "</table>\n",
       "</div>"
      ],
      "text/plain": [
       "  case_opened_date  count\n",
       "0       2017-01-01     43\n",
       "1       2017-01-02    722\n",
       "2       2017-01-03    771\n",
       "3       2017-01-04    545\n",
       "4       2017-01-05    586"
      ]
     },
     "execution_count": 257,
     "metadata": {},
     "output_type": "execute_result"
    }
   ],
   "source": [
    "df_pandas.head()"
   ]
  },
  {
   "cell_type": "code",
   "execution_count": 260,
   "metadata": {
    "scrolled": false
   },
   "outputs": [
    {
     "name": "stdout",
     "output_type": "stream",
     "text": [
      "<class 'pandas.core.frame.DataFrame'>\n",
      "RangeIndex: 585 entries, 0 to 584\n",
      "Data columns (total 2 columns):\n",
      " #   Column            Non-Null Count  Dtype \n",
      "---  ------            --------------  ----- \n",
      " 0   case_opened_date  585 non-null    object\n",
      " 1   count             585 non-null    int64 \n",
      "dtypes: int64(1), object(1)\n",
      "memory usage: 9.3+ KB\n"
     ]
    }
   ],
   "source": [
    "#opened date has not a datetime format\n",
    "df_pandas.info()"
   ]
  },
  {
   "cell_type": "code",
   "execution_count": 262,
   "metadata": {},
   "outputs": [],
   "source": [
    "# Converting to DateTime Type\n",
    "df_pandas['case_opened_date'] = pd.to_datetime(df_pandas.case_opened_date)"
   ]
  },
  {
   "cell_type": "code",
   "execution_count": 263,
   "metadata": {},
   "outputs": [],
   "source": [
    "#create new column \n",
    "df_pandas['day'] = df_pandas.case_opened_date.dt.day_name()"
   ]
  },
  {
   "cell_type": "code",
   "execution_count": 264,
   "metadata": {},
   "outputs": [
    {
     "data": {
      "text/html": [
       "<div>\n",
       "<style scoped>\n",
       "    .dataframe tbody tr th:only-of-type {\n",
       "        vertical-align: middle;\n",
       "    }\n",
       "\n",
       "    .dataframe tbody tr th {\n",
       "        vertical-align: top;\n",
       "    }\n",
       "\n",
       "    .dataframe thead th {\n",
       "        text-align: right;\n",
       "    }\n",
       "</style>\n",
       "<table border=\"1\" class=\"dataframe\">\n",
       "  <thead>\n",
       "    <tr style=\"text-align: right;\">\n",
       "      <th></th>\n",
       "      <th>case_opened_date</th>\n",
       "      <th>count</th>\n",
       "      <th>day</th>\n",
       "    </tr>\n",
       "  </thead>\n",
       "  <tbody>\n",
       "    <tr>\n",
       "      <th>0</th>\n",
       "      <td>2017-01-01</td>\n",
       "      <td>43</td>\n",
       "      <td>Sunday</td>\n",
       "    </tr>\n",
       "    <tr>\n",
       "      <th>1</th>\n",
       "      <td>2017-01-02</td>\n",
       "      <td>722</td>\n",
       "      <td>Monday</td>\n",
       "    </tr>\n",
       "    <tr>\n",
       "      <th>2</th>\n",
       "      <td>2017-01-03</td>\n",
       "      <td>771</td>\n",
       "      <td>Tuesday</td>\n",
       "    </tr>\n",
       "    <tr>\n",
       "      <th>3</th>\n",
       "      <td>2017-01-04</td>\n",
       "      <td>545</td>\n",
       "      <td>Wednesday</td>\n",
       "    </tr>\n",
       "    <tr>\n",
       "      <th>4</th>\n",
       "      <td>2017-01-05</td>\n",
       "      <td>586</td>\n",
       "      <td>Thursday</td>\n",
       "    </tr>\n",
       "  </tbody>\n",
       "</table>\n",
       "</div>"
      ],
      "text/plain": [
       "  case_opened_date  count        day\n",
       "0       2017-01-01     43     Sunday\n",
       "1       2017-01-02    722     Monday\n",
       "2       2017-01-03    771    Tuesday\n",
       "3       2017-01-04    545  Wednesday\n",
       "4       2017-01-05    586   Thursday"
      ]
     },
     "execution_count": 264,
     "metadata": {},
     "output_type": "execute_result"
    }
   ],
   "source": [
    "df_pandas.head()"
   ]
  },
  {
   "cell_type": "code",
   "execution_count": 267,
   "metadata": {},
   "outputs": [
    {
     "data": {
      "text/html": [
       "<div>\n",
       "<style scoped>\n",
       "    .dataframe tbody tr th:only-of-type {\n",
       "        vertical-align: middle;\n",
       "    }\n",
       "\n",
       "    .dataframe tbody tr th {\n",
       "        vertical-align: top;\n",
       "    }\n",
       "\n",
       "    .dataframe thead th {\n",
       "        text-align: right;\n",
       "    }\n",
       "</style>\n",
       "<table border=\"1\" class=\"dataframe\">\n",
       "  <thead>\n",
       "    <tr style=\"text-align: right;\">\n",
       "      <th></th>\n",
       "      <th>count</th>\n",
       "    </tr>\n",
       "    <tr>\n",
       "      <th>day</th>\n",
       "      <th></th>\n",
       "    </tr>\n",
       "  </thead>\n",
       "  <tbody>\n",
       "    <tr>\n",
       "      <th>Friday</th>\n",
       "      <td>51203</td>\n",
       "    </tr>\n",
       "    <tr>\n",
       "      <th>Monday</th>\n",
       "      <td>58085</td>\n",
       "    </tr>\n",
       "    <tr>\n",
       "      <th>Saturday</th>\n",
       "      <td>15312</td>\n",
       "    </tr>\n",
       "    <tr>\n",
       "      <th>Sunday</th>\n",
       "      <td>6885</td>\n",
       "    </tr>\n",
       "    <tr>\n",
       "      <th>Thursday</th>\n",
       "      <td>47718</td>\n",
       "    </tr>\n",
       "    <tr>\n",
       "      <th>Tuesday</th>\n",
       "      <td>58120</td>\n",
       "    </tr>\n",
       "    <tr>\n",
       "      <th>Wednesday</th>\n",
       "      <td>41947</td>\n",
       "    </tr>\n",
       "  </tbody>\n",
       "</table>\n",
       "</div>"
      ],
      "text/plain": [
       "           count\n",
       "day             \n",
       "Friday     51203\n",
       "Monday     58085\n",
       "Saturday   15312\n",
       "Sunday      6885\n",
       "Thursday   47718\n",
       "Tuesday    58120\n",
       "Wednesday  41947"
      ]
     },
     "execution_count": 267,
     "metadata": {},
     "output_type": "execute_result"
    }
   ],
   "source": [
    "df_pandas.groupby('day').sum()"
   ]
  },
  {
   "cell_type": "code",
   "execution_count": 273,
   "metadata": {},
   "outputs": [
    {
     "data": {
      "image/png": "[encoded data removed]",
      "text/plain": [
       "<Figure size 1152x648 with 1 Axes>"
      ]
     },
     "metadata": {
      "needs_background": "light"
     },
     "output_type": "display_data"
    }
   ],
   "source": [
    "df_pandas.groupby('day').sum().sort_values(by = 'count').plot.barh(figsize=(16,9), color = \"teal\")\n",
    "plt.title(\"Number of open cases by day for Solid Waste Department\")\n",
    "plt.xlabel(\"Number of Cases\")\n",
    "plt.show()"
   ]
  },
  {
   "cell_type": "code",
   "execution_count": null,
   "metadata": {},
   "outputs": [],
   "source": []
  }
 ],
 "metadata": {
  "kernelspec": {
   "display_name": "Python 3",
   "language": "python",
   "name": "python3"
  },
  "language_info": {
   "codemirror_mode": {
    "name": "ipython",
    "version": 3
   },
   "file_extension": ".py",
   "mimetype": "text/x-python",
   "name": "python",
   "nbconvert_exporter": "python",
   "pygments_lexer": "ipython3",
   "version": "3.8.5"
  }
 },
 "nbformat": 4,
 "nbformat_minor": 4
}
