{
 "cells": [
  {
   "cell_type": "markdown",
   "metadata": {},
   "source": [
    "# Exercises"
   ]
  },
  {
   "cell_type": "code",
   "execution_count": 1,
   "metadata": {},
   "outputs": [],
   "source": [
    "from pyspark.sql import SparkSession\n",
    "from pyspark.sql.functions import *\n",
    "\n",
    "spark = SparkSession.builder.getOrCreate()"
   ]
  },
  {
   "cell_type": "markdown",
   "metadata": {},
   "source": [
    "### This exercises uses the ```case.csv```, ```dept.csv```, and ```source.csv``` files from the san antonio 311 call dataset."
   ]
  },
  {
   "cell_type": "markdown",
   "metadata": {},
   "source": [
    "### 1. Read the case, department, and source data into their own spark dataframes."
   ]
  },
  {
   "cell_type": "code",
   "execution_count": 2,
   "metadata": {},
   "outputs": [],
   "source": [
    "# Read case in CSV file \n",
    "case = (spark.read.csv(\"case.csv\",\n",
    "                     sep=\",\",\n",
    "                     header=True,\n",
    "                     inferSchema=True)\n",
    "     )"
   ]
  },
  {
   "cell_type": "code",
   "execution_count": 3,
   "metadata": {},
   "outputs": [
    {
     "name": "stdout",
     "output_type": "stream",
     "text": [
      "-RECORD 0-----------------------------------------------------\n",
      " case_id              | 1014127332                            \n",
      " case_opened_date     | 1/1/18 0:42                           \n",
      " case_closed_date     | 1/1/18 12:29                          \n",
      " SLA_due_date         | 9/26/20 0:42                          \n",
      " case_late            | NO                                    \n",
      " num_days_late        | -998.5087616000001                    \n",
      " case_closed          | YES                                   \n",
      " dept_division        | Field Operations                      \n",
      " service_request_type | Stray Animal                          \n",
      " SLA_days             | 999.0                                 \n",
      " case_status          | Closed                                \n",
      " source_id            | svcCRMLS                              \n",
      " request_address      | 2315  EL PASO ST, San Antonio, 78207  \n",
      " council_district     | 5                                     \n",
      "-RECORD 1-----------------------------------------------------\n",
      " case_id              | 1014127333                            \n",
      " case_opened_date     | 1/1/18 0:46                           \n",
      " case_closed_date     | 1/3/18 8:11                           \n",
      " SLA_due_date         | 1/5/18 8:30                           \n",
      " case_late            | NO                                    \n",
      " num_days_late        | -2.0126041669999997                   \n",
      " case_closed          | YES                                   \n",
      " dept_division        | Storm Water                           \n",
      " service_request_type | Removal Of Obstruction                \n",
      " SLA_days             | 4.322222222                           \n",
      " case_status          | Closed                                \n",
      " source_id            | svcCRMSS                              \n",
      " request_address      | 2215  GOLIAD RD, San Antonio, 78223   \n",
      " council_district     | 3                                     \n",
      "-RECORD 2-----------------------------------------------------\n",
      " case_id              | 1014127334                            \n",
      " case_opened_date     | 1/1/18 0:48                           \n",
      " case_closed_date     | 1/2/18 7:57                           \n",
      " SLA_due_date         | 1/5/18 8:30                           \n",
      " case_late            | NO                                    \n",
      " num_days_late        | -3.022337963                          \n",
      " case_closed          | YES                                   \n",
      " dept_division        | Storm Water                           \n",
      " service_request_type | Removal Of Obstruction                \n",
      " SLA_days             | 4.320729167                           \n",
      " case_status          | Closed                                \n",
      " source_id            | svcCRMSS                              \n",
      " request_address      | 102  PALFREY ST W, San Antonio, 78223 \n",
      " council_district     | 3                                     \n",
      "only showing top 3 rows\n",
      "\n"
     ]
    }
   ],
   "source": [
    "case.show(3, False, True)"
   ]
  },
  {
   "cell_type": "code",
   "execution_count": 4,
   "metadata": {},
   "outputs": [],
   "source": [
    "# Read dept in CSV file \n",
    "dept = (spark.read.csv(\"dept.csv\",\n",
    "                     sep=\",\",\n",
    "                     header=True,\n",
    "                     inferSchema=True)\n",
    "     )"
   ]
  },
  {
   "cell_type": "code",
   "execution_count": 5,
   "metadata": {
    "scrolled": true
   },
   "outputs": [
    {
     "name": "stdout",
     "output_type": "stream",
     "text": [
      "-RECORD 0----------------------------------------\n",
      " dept_division          | 311 Call Center        \n",
      " dept_name              | Customer Service       \n",
      " standardized_dept_name | Customer Service       \n",
      " dept_subject_to_SLA    | YES                    \n",
      "-RECORD 1----------------------------------------\n",
      " dept_division          | Brush                  \n",
      " dept_name              | Solid Waste Management \n",
      " standardized_dept_name | Solid Waste            \n",
      " dept_subject_to_SLA    | YES                    \n",
      "-RECORD 2----------------------------------------\n",
      " dept_division          | Clean and Green        \n",
      " dept_name              | Parks and Recreation   \n",
      " standardized_dept_name | Parks & Recreation     \n",
      " dept_subject_to_SLA    | YES                    \n",
      "only showing top 3 rows\n",
      "\n"
     ]
    }
   ],
   "source": [
    "dept.show(3, False, True)"
   ]
  },
  {
   "cell_type": "code",
   "execution_count": 6,
   "metadata": {},
   "outputs": [],
   "source": [
    "# Read source in CSV file \n",
    "source = (spark.read.csv(\"source.csv\",\n",
    "                     sep=\",\",\n",
    "                     header=True,\n",
    "                     inferSchema=True)\n",
    "     )"
   ]
  },
  {
   "cell_type": "code",
   "execution_count": 7,
   "metadata": {},
   "outputs": [
    {
     "name": "stdout",
     "output_type": "stream",
     "text": [
      "-RECORD 0---------------------------\n",
      " source_id       | 100137           \n",
      " source_username | Merlene Blodgett \n",
      "-RECORD 1---------------------------\n",
      " source_id       | 103582           \n",
      " source_username | Carmen Cura      \n",
      "-RECORD 2---------------------------\n",
      " source_id       | 106463           \n",
      " source_username | Richard Sanchez  \n",
      "only showing top 3 rows\n",
      "\n"
     ]
    }
   ],
   "source": [
    "source.show(3, False, True)"
   ]
  },
  {
   "cell_type": "markdown",
   "metadata": {},
   "source": [
    "### 2. Let's see how writing to the local disk works in spark:\n",
    "\n",
    "- Write the code necessary to store the source data in both csv and json format, store these as ```sources_csv```  and  ```sources_json```"
   ]
  },
  {
   "cell_type": "markdown",
   "metadata": {},
   "source": [
    "***- sources_json***"
   ]
  },
  {
   "cell_type": "code",
   "execution_count": 8,
   "metadata": {},
   "outputs": [],
   "source": [
    "# write data to a destination using .write property\n",
    "\n",
    "source.write.json(\"sources_json\", mode=\"overwrite\")"
   ]
  },
  {
   "cell_type": "markdown",
   "metadata": {},
   "source": [
    "***- sources_csv***"
   ]
  },
  {
   "cell_type": "code",
   "execution_count": 9,
   "metadata": {},
   "outputs": [],
   "source": [
    "source.write.csv(\"sources_csv\", mode=\"overwrite\")"
   ]
  },
  {
   "cell_type": "markdown",
   "metadata": {},
   "source": [
    "- Inspect your folder structure. What do you notice?"
   ]
  },
  {
   "cell_type": "markdown",
   "metadata": {},
   "source": [
    "it creates a folder with the giving name but inside the folder have two files  one is partition"
   ]
  },
  {
   "cell_type": "markdown",
   "metadata": {},
   "source": [
    "#### 3. Inspect the data in your dataframes. Are the data types appropriate? Write the code necessary to cast the values to the appropriate types"
   ]
  },
  {
   "cell_type": "code",
   "execution_count": 10,
   "metadata": {
    "scrolled": false
   },
   "outputs": [
    {
     "data": {
      "text/plain": [
       "[('source_id', 'string'), ('source_username', 'string')]"
      ]
     },
     "execution_count": 10,
     "metadata": {},
     "output_type": "execute_result"
    }
   ],
   "source": [
    "#check the data types\n",
    "source.dtypes"
   ]
  },
  {
   "cell_type": "code",
   "execution_count": 11,
   "metadata": {},
   "outputs": [
    {
     "name": "stdout",
     "output_type": "stream",
     "text": [
      "+---------+----------------+\n",
      "|source_id| source_username|\n",
      "+---------+----------------+\n",
      "|   100137|Merlene Blodgett|\n",
      "|   103582|     Carmen Cura|\n",
      "+---------+----------------+\n",
      "only showing top 2 rows\n",
      "\n"
     ]
    }
   ],
   "source": [
    "source.show(2)"
   ]
  },
  {
   "cell_type": "markdown",
   "metadata": {},
   "source": [
    "**note:** soucer_id shold be  numerical"
   ]
  },
  {
   "cell_type": "code",
   "execution_count": 12,
   "metadata": {},
   "outputs": [],
   "source": [
    "# source_id as an int instead of string\n",
    "source =source.withColumn('source_id', col('source_id').cast('int'))"
   ]
  },
  {
   "cell_type": "code",
   "execution_count": 13,
   "metadata": {},
   "outputs": [
    {
     "data": {
      "text/plain": [
       "[('source_id', 'int'), ('source_username', 'string')]"
      ]
     },
     "execution_count": 13,
     "metadata": {},
     "output_type": "execute_result"
    }
   ],
   "source": [
    "#check the type again\n",
    "source.dtypes"
   ]
  },
  {
   "cell_type": "markdown",
   "metadata": {},
   "source": [
    "____________"
   ]
  },
  {
   "cell_type": "code",
   "execution_count": 14,
   "metadata": {
    "scrolled": false
   },
   "outputs": [
    {
     "data": {
      "text/plain": [
       "[('dept_division', 'string'),\n",
       " ('dept_name', 'string'),\n",
       " ('standardized_dept_name', 'string'),\n",
       " ('dept_subject_to_SLA', 'string')]"
      ]
     },
     "execution_count": 14,
     "metadata": {},
     "output_type": "execute_result"
    }
   ],
   "source": [
    "#check the types in dept\n",
    "dept.dtypes"
   ]
  },
  {
   "cell_type": "code",
   "execution_count": 15,
   "metadata": {
    "scrolled": true
   },
   "outputs": [
    {
     "name": "stdout",
     "output_type": "stream",
     "text": [
      "+---------------+--------------------+----------------------+-------------------+\n",
      "|  dept_division|           dept_name|standardized_dept_name|dept_subject_to_SLA|\n",
      "+---------------+--------------------+----------------------+-------------------+\n",
      "|311 Call Center|    Customer Service|      Customer Service|                YES|\n",
      "|          Brush|Solid Waste Manag...|           Solid Waste|                YES|\n",
      "|Clean and Green|Parks and Recreation|    Parks & Recreation|                YES|\n",
      "+---------------+--------------------+----------------------+-------------------+\n",
      "only showing top 3 rows\n",
      "\n"
     ]
    }
   ],
   "source": [
    "dept.show(3)"
   ]
  },
  {
   "cell_type": "markdown",
   "metadata": {},
   "source": [
    "***note:*** dept_subject_to_SLA can be changed to boolean value"
   ]
  },
  {
   "cell_type": "code",
   "execution_count": 16,
   "metadata": {},
   "outputs": [],
   "source": [
    "# use .withColumn to change columns from string to boolean values\n",
    "\n",
    "dept = dept.withColumn('dept_subject_to_SLA', expr('dept_subject_to_SLA == \"YES\"'))"
   ]
  },
  {
   "cell_type": "code",
   "execution_count": 17,
   "metadata": {},
   "outputs": [
    {
     "name": "stdout",
     "output_type": "stream",
     "text": [
      "+---------------+--------------------+----------------------+-------------------+\n",
      "|  dept_division|           dept_name|standardized_dept_name|dept_subject_to_SLA|\n",
      "+---------------+--------------------+----------------------+-------------------+\n",
      "|311 Call Center|    Customer Service|      Customer Service|               true|\n",
      "|          Brush|Solid Waste Manag...|           Solid Waste|               true|\n",
      "+---------------+--------------------+----------------------+-------------------+\n",
      "only showing top 2 rows\n",
      "\n"
     ]
    }
   ],
   "source": [
    "dept.show(2)"
   ]
  },
  {
   "cell_type": "code",
   "execution_count": 18,
   "metadata": {
    "scrolled": false
   },
   "outputs": [
    {
     "data": {
      "text/plain": [
       "[('case_id', 'int'),\n",
       " ('case_opened_date', 'string'),\n",
       " ('case_closed_date', 'string'),\n",
       " ('SLA_due_date', 'string'),\n",
       " ('case_late', 'string'),\n",
       " ('num_days_late', 'double'),\n",
       " ('case_closed', 'string'),\n",
       " ('dept_division', 'string'),\n",
       " ('service_request_type', 'string'),\n",
       " ('SLA_days', 'double'),\n",
       " ('case_status', 'string'),\n",
       " ('source_id', 'string'),\n",
       " ('request_address', 'string'),\n",
       " ('council_district', 'int')]"
      ]
     },
     "execution_count": 18,
     "metadata": {},
     "output_type": "execute_result"
    }
   ],
   "source": [
    "#check the type in case\n",
    "case.dtypes"
   ]
  },
  {
   "cell_type": "code",
   "execution_count": 19,
   "metadata": {},
   "outputs": [
    {
     "name": "stdout",
     "output_type": "stream",
     "text": [
      "-RECORD 0-----------------------------------------------------\n",
      " case_id              | 1014127332                            \n",
      " case_opened_date     | 1/1/18 0:42                           \n",
      " case_closed_date     | 1/1/18 12:29                          \n",
      " SLA_due_date         | 9/26/20 0:42                          \n",
      " case_late            | NO                                    \n",
      " num_days_late        | -998.5087616000001                    \n",
      " case_closed          | YES                                   \n",
      " dept_division        | Field Operations                      \n",
      " service_request_type | Stray Animal                          \n",
      " SLA_days             | 999.0                                 \n",
      " case_status          | Closed                                \n",
      " source_id            | svcCRMLS                              \n",
      " request_address      | 2315  EL PASO ST, San Antonio, 78207  \n",
      " council_district     | 5                                     \n",
      "-RECORD 1-----------------------------------------------------\n",
      " case_id              | 1014127333                            \n",
      " case_opened_date     | 1/1/18 0:46                           \n",
      " case_closed_date     | 1/3/18 8:11                           \n",
      " SLA_due_date         | 1/5/18 8:30                           \n",
      " case_late            | NO                                    \n",
      " num_days_late        | -2.0126041669999997                   \n",
      " case_closed          | YES                                   \n",
      " dept_division        | Storm Water                           \n",
      " service_request_type | Removal Of Obstruction                \n",
      " SLA_days             | 4.322222222                           \n",
      " case_status          | Closed                                \n",
      " source_id            | svcCRMSS                              \n",
      " request_address      | 2215  GOLIAD RD, San Antonio, 78223   \n",
      " council_district     | 3                                     \n",
      "-RECORD 2-----------------------------------------------------\n",
      " case_id              | 1014127334                            \n",
      " case_opened_date     | 1/1/18 0:48                           \n",
      " case_closed_date     | 1/2/18 7:57                           \n",
      " SLA_due_date         | 1/5/18 8:30                           \n",
      " case_late            | NO                                    \n",
      " num_days_late        | -3.022337963                          \n",
      " case_closed          | YES                                   \n",
      " dept_division        | Storm Water                           \n",
      " service_request_type | Removal Of Obstruction                \n",
      " SLA_days             | 4.320729167                           \n",
      " case_status          | Closed                                \n",
      " source_id            | svcCRMSS                              \n",
      " request_address      | 102  PALFREY ST W, San Antonio, 78223 \n",
      " council_district     | 3                                     \n",
      "only showing top 3 rows\n",
      "\n"
     ]
    }
   ],
   "source": [
    "case.show(3, False, True)"
   ]
  },
  {
   "cell_type": "markdown",
   "metadata": {},
   "source": [
    "**note** all the dates are in string type should be datetime format, case_closed and case_late to boolean, council_district as a string"
   ]
  },
  {
   "cell_type": "code",
   "execution_count": 20,
   "metadata": {},
   "outputs": [],
   "source": [
    "# use .withColumn to change columns from string to boolean values\n",
    "\n",
    "case = case.withColumn('case_closed', expr('case_closed == \"YES\"'))\\\n",
    ".withColumn('case_late', expr('case_late == \"YES\"'))"
   ]
  },
  {
   "cell_type": "code",
   "execution_count": 21,
   "metadata": {
    "scrolled": true
   },
   "outputs": [
    {
     "name": "stdout",
     "output_type": "stream",
     "text": [
      "+-----------+---------+\n",
      "|case_closed|case_late|\n",
      "+-----------+---------+\n",
      "|       true|    false|\n",
      "|       true|    false|\n",
      "+-----------+---------+\n",
      "only showing top 2 rows\n",
      "\n"
     ]
    }
   ],
   "source": [
    "case.select(\"case_closed\", \"case_late\").show(2)"
   ]
  },
  {
   "cell_type": "code",
   "execution_count": 22,
   "metadata": {},
   "outputs": [],
   "source": [
    "# council_district as a string instead of int\n",
    "case = case.withColumn('council_district', col('council_district').cast('string'))"
   ]
  },
  {
   "cell_type": "code",
   "execution_count": 23,
   "metadata": {},
   "outputs": [],
   "source": [
    "# to_timestamp, fmt\n",
    "\n",
    "fmt = \"M/d/yy H:mm\"\n",
    "\n",
    "case = case.withColumn('case_opened_date', to_timestamp('case_opened_date', fmt))\\\n",
    ".withColumn('case_closed_date', to_timestamp('case_closed_date', fmt))\\\n",
    ".withColumn('SLA_due_date', to_timestamp('SLA_due_date', fmt))"
   ]
  },
  {
   "cell_type": "code",
   "execution_count": 24,
   "metadata": {
    "scrolled": true
   },
   "outputs": [
    {
     "data": {
      "text/plain": [
       "[('case_id', 'int'),\n",
       " ('case_opened_date', 'timestamp'),\n",
       " ('case_closed_date', 'timestamp'),\n",
       " ('SLA_due_date', 'timestamp'),\n",
       " ('case_late', 'boolean'),\n",
       " ('num_days_late', 'double'),\n",
       " ('case_closed', 'boolean'),\n",
       " ('dept_division', 'string'),\n",
       " ('service_request_type', 'string'),\n",
       " ('SLA_days', 'double'),\n",
       " ('case_status', 'string'),\n",
       " ('source_id', 'string'),\n",
       " ('request_address', 'string'),\n",
       " ('council_district', 'string')]"
      ]
     },
     "execution_count": 24,
     "metadata": {},
     "output_type": "execute_result"
    }
   ],
   "source": [
    "#check all the changes\n",
    "case.dtypes"
   ]
  },
  {
   "cell_type": "code",
   "execution_count": 25,
   "metadata": {},
   "outputs": [
    {
     "name": "stdout",
     "output_type": "stream",
     "text": [
      "-RECORD 0-----------------------------------------------------\n",
      " case_id              | 1014127332                            \n",
      " case_opened_date     | 2018-01-01 00:42:00                   \n",
      " case_closed_date     | 2018-01-01 12:29:00                   \n",
      " SLA_due_date         | 2020-09-26 00:42:00                   \n",
      " case_late            | false                                 \n",
      " num_days_late        | -998.5087616000001                    \n",
      " case_closed          | true                                  \n",
      " dept_division        | Field Operations                      \n",
      " service_request_type | Stray Animal                          \n",
      " SLA_days             | 999.0                                 \n",
      " case_status          | Closed                                \n",
      " source_id            | svcCRMLS                              \n",
      " request_address      | 2315  EL PASO ST, San Antonio, 78207  \n",
      " council_district     | 5                                     \n",
      "-RECORD 1-----------------------------------------------------\n",
      " case_id              | 1014127333                            \n",
      " case_opened_date     | 2018-01-01 00:46:00                   \n",
      " case_closed_date     | 2018-01-03 08:11:00                   \n",
      " SLA_due_date         | 2018-01-05 08:30:00                   \n",
      " case_late            | false                                 \n",
      " num_days_late        | -2.0126041669999997                   \n",
      " case_closed          | true                                  \n",
      " dept_division        | Storm Water                           \n",
      " service_request_type | Removal Of Obstruction                \n",
      " SLA_days             | 4.322222222                           \n",
      " case_status          | Closed                                \n",
      " source_id            | svcCRMSS                              \n",
      " request_address      | 2215  GOLIAD RD, San Antonio, 78223   \n",
      " council_district     | 3                                     \n",
      "-RECORD 2-----------------------------------------------------\n",
      " case_id              | 1014127334                            \n",
      " case_opened_date     | 2018-01-01 00:48:00                   \n",
      " case_closed_date     | 2018-01-02 07:57:00                   \n",
      " SLA_due_date         | 2018-01-05 08:30:00                   \n",
      " case_late            | false                                 \n",
      " num_days_late        | -3.022337963                          \n",
      " case_closed          | true                                  \n",
      " dept_division        | Storm Water                           \n",
      " service_request_type | Removal Of Obstruction                \n",
      " SLA_days             | 4.320729167                           \n",
      " case_status          | Closed                                \n",
      " source_id            | svcCRMSS                              \n",
      " request_address      | 102  PALFREY ST W, San Antonio, 78223 \n",
      " council_district     | 3                                     \n",
      "only showing top 3 rows\n",
      "\n"
     ]
    }
   ],
   "source": [
    "case.show(3, False, True)"
   ]
  },
  {
   "cell_type": "markdown",
   "metadata": {},
   "source": [
    "_________________"
   ]
  },
  {
   "cell_type": "markdown",
   "metadata": {},
   "source": [
    "###  new features"
   ]
  },
  {
   "cell_type": "code",
   "execution_count": 26,
   "metadata": {},
   "outputs": [],
   "source": [
    "# Rename 'SLA_due_date' to 'case_due_date' using .withColumnRenamed\n",
    "\n",
    "case = case.withColumnRenamed('SLA_due_date', 'case_due_date')"
   ]
  },
  {
   "cell_type": "code",
   "execution_count": 27,
   "metadata": {},
   "outputs": [],
   "source": [
    "case = case.withColumn('request_address', trim(lower(case.request_address)))"
   ]
  },
  {
   "cell_type": "code",
   "execution_count": 28,
   "metadata": {
    "scrolled": true
   },
   "outputs": [
    {
     "name": "stdout",
     "output_type": "stream",
     "text": [
      "+-------------------+--------------------+\n",
      "|      num_days_late|      num_weeks_late|\n",
      "+-------------------+--------------------+\n",
      "| -998.5087616000001|        -142.6441088|\n",
      "|-2.0126041669999997|-0.28751488099999994|\n",
      "|       -3.022337963|-0.43176256614285713|\n",
      "|       -15.01148148| -2.1444973542857144|\n",
      "|0.37216435200000003|         0.053166336|\n",
      "+-------------------+--------------------+\n",
      "only showing top 5 rows\n",
      "\n"
     ]
    }
   ],
   "source": [
    "# convert the number of days a case is late to a number of weeks\n",
    "x\n",
    "case = case.withColumn('num_weeks_late', expr('num_days_late/7'))\n",
    "\n",
    "case.select(\"num_days_late\", \"num_weeks_late\").show(5)"
   ]
  },
  {
   "cell_type": "code",
   "execution_count": 29,
   "metadata": {},
   "outputs": [],
   "source": [
    "# use format_string function to pad zeros for council_district\n",
    "\n",
    "case = case.withColumn('council_district', format_string('%03d', col('council_district').cast('int')))"
   ]
  },
  {
   "cell_type": "code",
   "execution_count": 30,
   "metadata": {
    "scrolled": true
   },
   "outputs": [
    {
     "name": "stdout",
     "output_type": "stream",
     "text": [
      "+-------+\n",
      "|zipcode|\n",
      "+-------+\n",
      "|  78207|\n",
      "|  78223|\n",
      "|  78223|\n",
      "|  78223|\n",
      "|  78228|\n",
      "+-------+\n",
      "only showing top 5 rows\n",
      "\n"
     ]
    }
   ],
   "source": [
    "# create a new column for zipcode:\n",
    "\n",
    "case = case.withColumn('zipcode', regexp_extract('request_address', r\"(\\d+$)\", 1))\n",
    "\n",
    "case.select('zipcode').show(5)"
   ]
  },
  {
   "cell_type": "code",
   "execution_count": 31,
   "metadata": {
    "scrolled": false
   },
   "outputs": [
    {
     "name": "stdout",
     "output_type": "stream",
     "text": [
      "-RECORD 0----------------------------------------------------\n",
      " case_id              | 1014127332                           \n",
      " case_opened_date     | 2018-01-01 00:42:00                  \n",
      " case_closed_date     | 2018-01-01 12:29:00                  \n",
      " case_due_date        | 2020-09-26 00:42:00                  \n",
      " case_late            | false                                \n",
      " num_days_late        | -998.5087616000001                   \n",
      " case_closed          | true                                 \n",
      " dept_division        | Field Operations                     \n",
      " service_request_type | Stray Animal                         \n",
      " SLA_days             | 999.0                                \n",
      " case_status          | Closed                               \n",
      " source_id            | svcCRMLS                             \n",
      " request_address      | 2315  el paso st, san antonio, 78207 \n",
      " council_district     | 005                                  \n",
      " num_weeks_late       | -142.6441088                         \n",
      " zipcode              | 78207                                \n",
      "only showing top 1 row\n",
      "\n"
     ]
    }
   ],
   "source": [
    "case.show(1, False, True)"
   ]
  },
  {
   "cell_type": "code",
   "execution_count": 32,
   "metadata": {},
   "outputs": [],
   "source": [
    "#create three new columns 'case_age', 'days_to_closed', 'case_lifetime'\n",
    "\n",
    "case = (\n",
    "    case.withColumn(\n",
    "        \"case_age\", datediff(current_timestamp(), \"case_opened_date\")\n",
    "    )\n",
    "    .withColumn(\n",
    "        \"days_to_closed\", datediff(\"case_closed_date\", \"case_opened_date\")\n",
    "    )\n",
    "    .withColumn(\n",
    "        \"case_lifetime\",\n",
    "        when(expr(\"! case_closed\"), col(\"case_age\")).otherwise(\n",
    "            col(\"days_to_closed\")\n",
    "        ),\n",
    "    )\n",
    ")"
   ]
  },
  {
   "cell_type": "markdown",
   "metadata": {},
   "source": [
    "### 1. How old is the latest (in terms of days past SLA) currently open issue? How long has the oldest (in terms of days since opened) currently opened issue been open?"
   ]
  },
  {
   "cell_type": "code",
   "execution_count": 137,
   "metadata": {
    "scrolled": true
   },
   "outputs": [
    {
     "name": "stdout",
     "output_type": "stream",
     "text": [
      "-RECORD 0----------------------------------------------------\n",
      " case_id              | 1014127332                           \n",
      " case_opened_date     | 2018-01-01 00:42:00                  \n",
      " case_closed_date     | 2018-01-01 12:29:00                  \n",
      " case_due_date        | 2020-09-26 00:42:00                  \n",
      " case_late            | false                                \n",
      " num_days_late        | -998.5087616000001                   \n",
      " case_closed          | true                                 \n",
      " dept_division        | Field Operations                     \n",
      " service_request_type | Stray Animal                         \n",
      " SLA_days             | 999.0                                \n",
      " case_status          | Closed                               \n",
      " source_id            | svcCRMLS                             \n",
      " request_address      | 2315  el paso st, san antonio, 78207 \n",
      " council_district     | 005                                  \n",
      " num_weeks_late       | -142.6441088                         \n",
      " zipcode              | 78207                                \n",
      " case_age             | 1313                                 \n",
      " days_to_closed       | 0                                    \n",
      " case_lifetime        | 0                                    \n",
      " case_closed_year     | 2018                                 \n",
      " num_hours_late       | -23964.2102784                       \n",
      "only showing top 1 row\n",
      "\n"
     ]
    }
   ],
   "source": [
    "#check the data\n",
    "case.show(1, False, True)"
   ]
  },
  {
   "cell_type": "code",
   "execution_count": 164,
   "metadata": {
    "scrolled": true
   },
   "outputs": [
    {
     "name": "stdout",
     "output_type": "stream",
     "text": [
      "+-------------+\n",
      "|days_past_due|\n",
      "+-------------+\n",
      "|         1662|\n",
      "|         1662|\n",
      "|         1662|\n",
      "|         1661|\n",
      "|         1659|\n",
      "+-------------+\n",
      "only showing top 5 rows\n",
      "\n"
     ]
    }
   ],
   "source": [
    "# we need to calculate the days currentday - case due date\n",
    "case.select( datediff(current_timestamp(), 'case_due_date').alias( \"days_past_due\" ))\\\n",
    ".filter(case.case_status == 'Open').sort(col('days_past_due').desc()).show(5)"
   ]
  },
  {
   "cell_type": "code",
   "execution_count": 169,
   "metadata": {},
   "outputs": [
    {
     "name": "stdout",
     "output_type": "stream",
     "text": [
      "-RECORD 0------------------------------------------------------\n",
      " case_id              | 1013225651                             \n",
      " case_opened_date     | 2017-01-01 13:57:00                    \n",
      " case_closed_date     | null                                   \n",
      " case_due_date        | 2017-01-17 08:30:00                    \n",
      " case_late            | true                                   \n",
      " num_days_late        | 348.6458333                            \n",
      " case_closed          | false                                  \n",
      " dept_division        | Code Enforcement                       \n",
      " service_request_type | No Address Posted                      \n",
      " SLA_days             | 15.77247685                            \n",
      " case_status          | Open                                   \n",
      " source_id            | svcCRMSS                               \n",
      " request_address      | 7295  shadow ridge, san antonio, 78250 \n",
      " council_district     | 006                                    \n",
      " num_weeks_late       | 49.80654761428571                      \n",
      " zipcode              | 78250                                  \n",
      " case_age             | 1678                                   \n",
      " days_to_closed       | null                                   \n",
      " case_lifetime        | 1678                                   \n",
      " case_closed_year     | null                                   \n",
      " num_hours_late       | 8367.4999992                           \n",
      " days_past_due        | 1662                                   \n",
      "-RECORD 1------------------------------------------------------\n",
      " case_id              | 1013225646                             \n",
      " case_opened_date     | 2017-01-01 13:48:00                    \n",
      " case_closed_date     | null                                   \n",
      " case_due_date        | 2017-01-17 08:30:00                    \n",
      " case_late            | true                                   \n",
      " num_days_late        | 348.6458333                            \n",
      " case_closed          | false                                  \n",
      " dept_division        | Code Enforcement                       \n",
      " service_request_type | No Address Posted                      \n",
      " SLA_days             | 15.77859954                            \n",
      " case_status          | Open                                   \n",
      " source_id            | svcCRMSS                               \n",
      " request_address      | 7299  shadow ridge, san antonio, 78250 \n",
      " council_district     | 006                                    \n",
      " num_weeks_late       | 49.80654761428571                      \n",
      " zipcode              | 78250                                  \n",
      " case_age             | 1678                                   \n",
      " days_to_closed       | null                                   \n",
      " case_lifetime        | 1678                                   \n",
      " case_closed_year     | null                                   \n",
      " num_hours_late       | 8367.4999992                           \n",
      " days_past_due        | 1662                                   \n",
      "-RECORD 2------------------------------------------------------\n",
      " case_id              | 1013226813                             \n",
      " case_opened_date     | 2017-01-02 11:26:00                    \n",
      " case_closed_date     | null                                   \n",
      " case_due_date        | 2017-01-17 11:26:00                    \n",
      " case_late            | true                                   \n",
      " num_days_late        | 348.52356480000003                     \n",
      " case_closed          | false                                  \n",
      " dept_division        | Code Enforcement                       \n",
      " service_request_type | No Address Posted                      \n",
      " SLA_days             | 15.0                                   \n",
      " case_status          | Open                                   \n",
      " source_id            | svcCRMSS                               \n",
      " request_address      | highfield and millbank                 \n",
      " council_district     | 006                                    \n",
      " num_weeks_late       | 49.78908068571429                      \n",
      " zipcode              |                                        \n",
      " case_age             | 1677                                   \n",
      " days_to_closed       | null                                   \n",
      " case_lifetime        | 1677                                   \n",
      " case_closed_year     | null                                   \n",
      " num_hours_late       | 8364.5655552                           \n",
      " days_past_due        | 1662                                   \n",
      "-RECORD 3------------------------------------------------------\n",
      " case_id              | 1013229328                             \n",
      " case_opened_date     | 2017-01-03 10:01:00                    \n",
      " case_closed_date     | null                                   \n",
      " case_due_date        | 2017-01-18 10:01:00                    \n",
      " case_late            | true                                   \n",
      " num_days_late        | 347.58256939999995                     \n",
      " case_closed          | false                                  \n",
      " dept_division        | Code Enforcement                       \n",
      " service_request_type | Bandit Signs                           \n",
      " SLA_days             | 15.0                                   \n",
      " case_status          | Open                                   \n",
      " source_id            | CRM_Listener                           \n",
      " request_address      | 203  coleman, san antonio, 78208       \n",
      " council_district     | 002                                    \n",
      " num_weeks_late       | 49.654652771428566                     \n",
      " zipcode              | 78208                                  \n",
      " case_age             | 1676                                   \n",
      " days_to_closed       | null                                   \n",
      " case_lifetime        | 1676                                   \n",
      " case_closed_year     | null                                   \n",
      " num_hours_late       | 8341.981665599998                      \n",
      " days_past_due        | 1661                                   \n",
      "-RECORD 4------------------------------------------------------\n",
      " case_id              | 1013236238                             \n",
      " case_opened_date     | 2017-01-05 14:39:00                    \n",
      " case_closed_date     | null                                   \n",
      " case_due_date        | 2017-01-20 14:39:00                    \n",
      " case_late            | true                                   \n",
      " num_days_late        | 345.3894213                            \n",
      " case_closed          | false                                  \n",
      " dept_division        | Code Enforcement                       \n",
      " service_request_type | Bandit Signs                           \n",
      " SLA_days             | 15.0                                   \n",
      " case_status          | Open                                   \n",
      " source_id            | 135723                                 \n",
      " request_address      | lockhill selma and military hy nw      \n",
      " council_district     | 009                                    \n",
      " num_weeks_late       | 49.3413459                             \n",
      " zipcode              |                                        \n",
      " case_age             | 1674                                   \n",
      " days_to_closed       | null                                   \n",
      " case_lifetime        | 1674                                   \n",
      " case_closed_year     | null                                   \n",
      " num_hours_late       | 8289.3461112                           \n",
      " days_past_due        | 1659                                   \n",
      "only showing top 5 rows\n",
      "\n"
     ]
    }
   ],
   "source": [
    "case.select('*', datediff(current_timestamp(), 'case_due_date').alias( \"days_past_due\" ))\\\n",
    ".filter(case.case_status == 'Open').orderBy(desc(\"days_past_due\")).show(5, False, True)"
   ]
  },
  {
   "cell_type": "markdown",
   "metadata": {},
   "source": [
    "### 2. How many Stray Animal cases are there?"
   ]
  },
  {
   "cell_type": "code",
   "execution_count": 36,
   "metadata": {},
   "outputs": [
    {
     "data": {
      "text/plain": [
       "26760"
      ]
     },
     "execution_count": 36,
     "metadata": {},
     "output_type": "execute_result"
    }
   ],
   "source": [
    "#total cases of Stray Animal\n",
    "case.filter(case.service_request_type == 'Stray Animal').count()"
   ]
  },
  {
   "cell_type": "code",
   "execution_count": 37,
   "metadata": {},
   "outputs": [
    {
     "data": {
      "text/plain": [
       "26745"
      ]
     },
     "execution_count": 37,
     "metadata": {},
     "output_type": "execute_result"
    }
   ],
   "source": [
    "# open cases of Stray Animal\n",
    "case.filter(case.service_request_type == 'Stray Animal').where(case.case_closed).count()"
   ]
  },
  {
   "cell_type": "code",
   "execution_count": 38,
   "metadata": {},
   "outputs": [
    {
     "data": {
      "text/plain": [
       "15"
      ]
     },
     "execution_count": 38,
     "metadata": {},
     "output_type": "execute_result"
    }
   ],
   "source": [
    "# closed cases of Stray Animal\n",
    "case.filter(case.service_request_type == 'Stray Animal').where( case.case_closed == False).count()"
   ]
  },
  {
   "cell_type": "markdown",
   "metadata": {},
   "source": [
    "### 3. How many service requests that are assigned to the Field Operations department (dept_division) are not classified as \"Officer Standby\" request type (service_request_type)?"
   ]
  },
  {
   "cell_type": "code",
   "execution_count": 54,
   "metadata": {},
   "outputs": [
    {
     "data": {
      "text/plain": [
       "113902"
      ]
     },
     "execution_count": 54,
     "metadata": {},
     "output_type": "execute_result"
    }
   ],
   "source": [
    "case.filter(case.dept_division == \"Field Operations\")\\\n",
    ".where(case.service_request_type != 'Officer Standby').count()"
   ]
  },
  {
   "cell_type": "code",
   "execution_count": 170,
   "metadata": {},
   "outputs": [
    {
     "data": {
      "text/plain": [
       "113902"
      ]
     },
     "execution_count": 170,
     "metadata": {},
     "output_type": "execute_result"
    }
   ],
   "source": [
    "\n",
    "# Another way to do it\n",
    "(\n",
    "    case.filter(expr(\"dept_division == 'Field Operations'\"))\n",
    "    .filter(expr('service_request_type != \"Officer Standby\"'))\n",
    "    .count()\n",
    ")"
   ]
  },
  {
   "cell_type": "markdown",
   "metadata": {},
   "source": [
    "### 4. Convert the council_district column to a string column."
   ]
  },
  {
   "cell_type": "code",
   "execution_count": 40,
   "metadata": {},
   "outputs": [],
   "source": [
    "# council_district as a string instead of int\n",
    "case = case.withColumn('council_district', col('council_district').cast('string'))"
   ]
  },
  {
   "cell_type": "markdown",
   "metadata": {},
   "source": [
    "### 5. Extract the year from the case_closed_date column."
   ]
  },
  {
   "cell_type": "code",
   "execution_count": 41,
   "metadata": {
    "scrolled": true
   },
   "outputs": [],
   "source": [
    "case = case.withColumn(\"case_closed_year\", year(\"case_closed_date\"))"
   ]
  },
  {
   "cell_type": "code",
   "execution_count": 42,
   "metadata": {},
   "outputs": [
    {
     "name": "stdout",
     "output_type": "stream",
     "text": [
      "-RECORD 0----------------------------------------------------\n",
      " case_id              | 1014127332                           \n",
      " case_opened_date     | 2018-01-01 00:42:00                  \n",
      " case_closed_date     | 2018-01-01 12:29:00                  \n",
      " case_due_date        | 2020-09-26 00:42:00                  \n",
      " case_late            | false                                \n",
      " num_days_late        | -998.5087616000001                   \n",
      " case_closed          | true                                 \n",
      " dept_division        | Field Operations                     \n",
      " service_request_type | Stray Animal                         \n",
      " SLA_days             | 999.0                                \n",
      " case_status          | Closed                               \n",
      " source_id            | svcCRMLS                             \n",
      " request_address      | 2315  el paso st, san antonio, 78207 \n",
      " council_district     | 005                                  \n",
      " num_weeks_late       | -142.6441088                         \n",
      " zipcode              | 78207                                \n",
      " case_age             | 1313                                 \n",
      " days_to_closed       | 0                                    \n",
      " case_lifetime        | 0                                    \n",
      " case_closed_year     | 2018                                 \n",
      "-RECORD 1----------------------------------------------------\n",
      " case_id              | 1014127333                           \n",
      " case_opened_date     | 2018-01-01 00:46:00                  \n",
      " case_closed_date     | 2018-01-03 08:11:00                  \n",
      " case_due_date        | 2018-01-05 08:30:00                  \n",
      " case_late            | false                                \n",
      " num_days_late        | -2.0126041669999997                  \n",
      " case_closed          | true                                 \n",
      " dept_division        | Storm Water                          \n",
      " service_request_type | Removal Of Obstruction               \n",
      " SLA_days             | 4.322222222                          \n",
      " case_status          | Closed                               \n",
      " source_id            | svcCRMSS                             \n",
      " request_address      | 2215  goliad rd, san antonio, 78223  \n",
      " council_district     | 003                                  \n",
      " num_weeks_late       | -0.28751488099999994                 \n",
      " zipcode              | 78223                                \n",
      " case_age             | 1313                                 \n",
      " days_to_closed       | 2                                    \n",
      " case_lifetime        | 2                                    \n",
      " case_closed_year     | 2018                                 \n",
      "only showing top 2 rows\n",
      "\n"
     ]
    }
   ],
   "source": [
    "case.show(2, False, True)"
   ]
  },
  {
   "cell_type": "markdown",
   "metadata": {},
   "source": [
    "### 6. Convert num_days_late from days to hours in new columns num_hours_late."
   ]
  },
  {
   "cell_type": "code",
   "execution_count": 46,
   "metadata": {
    "scrolled": true
   },
   "outputs": [
    {
     "name": "stdout",
     "output_type": "stream",
     "text": [
      "-RECORD 0----------------------------------------------------\n",
      " case_id              | 1014127332                           \n",
      " case_opened_date     | 2018-01-01 00:42:00                  \n",
      " case_closed_date     | 2018-01-01 12:29:00                  \n",
      " case_due_date        | 2020-09-26 00:42:00                  \n",
      " case_late            | false                                \n",
      " num_days_late        | -998.5087616000001                   \n",
      " case_closed          | true                                 \n",
      " dept_division        | Field Operations                     \n",
      " service_request_type | Stray Animal                         \n",
      " SLA_days             | 999.0                                \n",
      " case_status          | Closed                               \n",
      " source_id            | svcCRMLS                             \n",
      " request_address      | 2315  el paso st, san antonio, 78207 \n",
      " council_district     | 005                                  \n",
      " num_weeks_late       | -142.6441088                         \n",
      " zipcode              | 78207                                \n",
      " case_age             | 1313                                 \n",
      " days_to_closed       | 0                                    \n",
      " case_lifetime        | 0                                    \n",
      " case_closed_year     | 2018                                 \n",
      " num_hours_late       | -23964.2102784                       \n",
      "only showing top 1 row\n",
      "\n"
     ]
    }
   ],
   "source": [
    "case.withColumn('num_hours_late', case.num_days_late * 24).show(1, False, True)"
   ]
  },
  {
   "cell_type": "code",
   "execution_count": 47,
   "metadata": {},
   "outputs": [],
   "source": [
    "case = case.withColumn('num_hours_late', case.num_days_late * 24)"
   ]
  },
  {
   "cell_type": "markdown",
   "metadata": {},
   "source": [
    "### 7. Join the case data with the source and department data."
   ]
  },
  {
   "cell_type": "code",
   "execution_count": 136,
   "metadata": {
    "scrolled": true
   },
   "outputs": [
    {
     "name": "stdout",
     "output_type": "stream",
     "text": [
      "+-----------------------------+-------------------------+------------------------+-------------------+\n",
      "|dept_division                |dept_name                |standardized_dept_name  |dept_subject_to_SLA|\n",
      "+-----------------------------+-------------------------+------------------------+-------------------+\n",
      "|311 Call Center              |Customer Service         |Customer Service        |true               |\n",
      "|Brush                        |Solid Waste Management   |Solid Waste             |true               |\n",
      "|Clean and Green              |Parks and Recreation     |Parks & Recreation      |true               |\n",
      "|Clean and Green Natural Areas|Parks and Recreation     |Parks & Recreation      |true               |\n",
      "|Code Enforcement             |Code Enforcement Services|DSD/Code Enforcement    |true               |\n",
      "|Code Enforcement (IntExp)    |Code Enforcement Services|DSD/Code Enforcement    |true               |\n",
      "|Code Enforcement (Internal)  |null                     |DSD/Code Enforcement    |true               |\n",
      "|Dangerous Premise            |Code Enforcement Services|DSD/Code Enforcement    |true               |\n",
      "|Dangerous Premise (IntExp)   |Code Enforcement Services|DSD/Code Enforcement    |true               |\n",
      "|Director's Office Horizontal |Trans & Cap Improvements |Trans & Cap Improvements|true               |\n",
      "+-----------------------------+-------------------------+------------------------+-------------------+\n",
      "only showing top 10 rows\n",
      "\n"
     ]
    }
   ],
   "source": [
    "dept.show(10, truncate= False)"
   ]
  },
  {
   "cell_type": "code",
   "execution_count": 55,
   "metadata": {},
   "outputs": [
    {
     "name": "stdout",
     "output_type": "stream",
     "text": [
      "-RECORD 0----------------------------------------------------\n",
      " case_id              | 1014127332                           \n",
      " case_opened_date     | 2018-01-01 00:42:00                  \n",
      " case_closed_date     | 2018-01-01 12:29:00                  \n",
      " case_due_date        | 2020-09-26 00:42:00                  \n",
      " case_late            | false                                \n",
      " num_days_late        | -998.5087616000001                   \n",
      " case_closed          | true                                 \n",
      " dept_division        | Field Operations                     \n",
      " service_request_type | Stray Animal                         \n",
      " SLA_days             | 999.0                                \n",
      " case_status          | Closed                               \n",
      " source_id            | svcCRMLS                             \n",
      " request_address      | 2315  el paso st, san antonio, 78207 \n",
      " council_district     | 005                                  \n",
      " num_weeks_late       | -142.6441088                         \n",
      " zipcode              | 78207                                \n",
      " case_age             | 1313                                 \n",
      " days_to_closed       | 0                                    \n",
      " case_lifetime        | 0                                    \n",
      " case_closed_year     | 2018                                 \n",
      " num_hours_late       | -23964.2102784                       \n",
      "only showing top 1 row\n",
      "\n"
     ]
    }
   ],
   "source": [
    "case.show(1, False, True)"
   ]
  },
  {
   "cell_type": "code",
   "execution_count": 57,
   "metadata": {},
   "outputs": [],
   "source": [
    "#join case with dept_division\n",
    "df = (\n",
    "    case\n",
    "    # left join on dept_division\n",
    "    .join(dept, \"dept_division\", \"left\")\n",
    "    # drop  the columns : dept_division, dept_name  standardized name, as it has much fewer unique values\n",
    "    .drop(dept.dept_division)\n",
    "    .drop(dept.dept_name)\n",
    "    #rename standardized name,  \n",
    "    .withColumnRenamed(\"standardized_dept_name\", \"department\")\n",
    ")\n",
    "\n"
   ]
  },
  {
   "cell_type": "code",
   "execution_count": 171,
   "metadata": {
    "scrolled": true
   },
   "outputs": [
    {
     "name": "stdout",
     "output_type": "stream",
     "text": [
      "-RECORD 0----------------------------------------------------\n",
      " dept_division        | Field Operations                     \n",
      " case_id              | 1014127332                           \n",
      " case_opened_date     | 2018-01-01 00:42:00                  \n",
      " case_closed_date     | 2018-01-01 12:29:00                  \n",
      " case_due_date        | 2020-09-26 00:42:00                  \n",
      " case_late            | false                                \n",
      " num_days_late        | -998.5087616000001                   \n",
      " case_closed          | true                                 \n",
      " service_request_type | Stray Animal                         \n",
      " SLA_days             | 999.0                                \n",
      " case_status          | Closed                               \n",
      " source_id            | svcCRMLS                             \n",
      " request_address      | 2315  el paso st, san antonio, 78207 \n",
      " council_district     | 005                                  \n",
      " num_weeks_late       | -142.6441088                         \n",
      " zipcode              | 78207                                \n",
      " case_age             | 1313                                 \n",
      " days_to_closed       | 0                                    \n",
      " case_lifetime        | 0                                    \n",
      " case_closed_year     | 2018                                 \n",
      " num_hours_late       | -23964.2102784                       \n",
      " department           | Animal Care Services                 \n",
      " dept_subject_to_SLA  | true                                 \n",
      "only showing top 1 row\n",
      "\n"
     ]
    }
   ],
   "source": [
    "df.show(1, False, True)"
   ]
  },
  {
   "cell_type": "code",
   "execution_count": 178,
   "metadata": {},
   "outputs": [
    {
     "name": "stdout",
     "output_type": "stream",
     "text": [
      "+---------+--------------------+\n",
      "|source_id|     source_username|\n",
      "+---------+--------------------+\n",
      "|   100137|    Merlene Blodgett|\n",
      "|   103582|         Carmen Cura|\n",
      "|   106463|     Richard Sanchez|\n",
      "|   119403|      Betty De Hoyos|\n",
      "|   119555|      Socorro Quiara|\n",
      "|   119868| Michelle San Miguel|\n",
      "|   120752|      Eva T. Kleiber|\n",
      "|   124405|           Lori Lara|\n",
      "|   132408|       Leonard Silva|\n",
      "|   135723|        Amy Cardenas|\n",
      "|   136202|    Michelle Urrutia|\n",
      "|   136979|      Leticia Garcia|\n",
      "|   137943|    Pamela K. Baccus|\n",
      "|   138605|        Marisa Ozuna|\n",
      "|   138650|      Kimberly Green|\n",
      "|   138650|Kimberly Green-Woods|\n",
      "|   138793| Guadalupe Rodriguez|\n",
      "|   138810|       Tawona Martin|\n",
      "|   139342|     Jessica Mendoza|\n",
      "|   139344|        Isis Mendoza|\n",
      "+---------+--------------------+\n",
      "only showing top 20 rows\n",
      "\n"
     ]
    }
   ],
   "source": [
    "source.show()"
   ]
  },
  {
   "cell_type": "code",
   "execution_count": 179,
   "metadata": {},
   "outputs": [
    {
     "name": "stdout",
     "output_type": "stream",
     "text": [
      "-RECORD 0------------------------------------\n",
      " source_id            | jw10936              \n",
      " case_id              | 1013787134           \n",
      " case_opened_date     | 2017-08-11 07:36:00  \n",
      " case_closed_date     | 2017-08-16 17:24:00  \n",
      " case_due_date        | 2017-10-16 08:30:00  \n",
      " case_late            | false                \n",
      " num_days_late        | -60.62914352         \n",
      " case_closed          | true                 \n",
      " dept_division        | Code Enforcement     \n",
      " service_request_type | Overgrown Yard/Trash \n",
      " SLA_days             | 66.03743056          \n",
      " case_status          | Closed               \n",
      " request_address      | 2522  moss bluff,... \n",
      " council_district     | 009                  \n",
      " num_weeks_late       | -8.661306217142856   \n",
      " zipcode              | 78232                \n",
      " case_age             | 1456                 \n",
      " days_to_closed       | 5                    \n",
      " case_lifetime        | 5                    \n",
      " case_closed_year     | 2017                 \n",
      " num_hours_late       | -1455.0994444799999  \n",
      " source_username      | null                 \n",
      "-RECORD 1------------------------------------\n",
      " source_id            | ss21394              \n",
      " case_id              | 1013787133           \n",
      " case_opened_date     | 2017-08-11 07:36:00  \n",
      " case_closed_date     | 2017-08-11 15:33:00  \n",
      " case_due_date        | 2017-08-16 08:30:00  \n",
      " case_late            | false                \n",
      " num_days_late        | -4.706215278         \n",
      " case_closed          | true                 \n",
      " dept_division        | Waste Collection     \n",
      " service_request_type | No Pickup            \n",
      " SLA_days             | 5.037430556          \n",
      " case_status          | Closed               \n",
      " request_address      | 1910  morales, sa... \n",
      " council_district     | 001                  \n",
      " num_weeks_late       | -0.6723164682857143  \n",
      " zipcode              | 78207                \n",
      " case_age             | 1456                 \n",
      " days_to_closed       | 0                    \n",
      " case_lifetime        | 0                    \n",
      " case_closed_year     | 2017                 \n",
      " num_hours_late       | -112.949166672       \n",
      " source_username      | null                 \n",
      "-RECORD 2------------------------------------\n",
      " source_id            | svcCRMSS             \n",
      " case_id              | 1013787138           \n",
      " case_opened_date     | 2017-08-11 07:39:00  \n",
      " case_closed_date     | 2017-08-16 07:25:00  \n",
      " case_due_date        | 2017-08-31 08:30:00  \n",
      " case_late            | false                \n",
      " num_days_late        | -15.04497685         \n",
      " case_closed          | true                 \n",
      " dept_division        | Storm Water          \n",
      " service_request_type | Drainage Inlet - ... \n",
      " SLA_days             | 20.03534722          \n",
      " case_status          | Closed               \n",
      " request_address      | hausman rd w and ... \n",
      " council_district     | 008                  \n",
      " num_weeks_late       | -2.149282407142857   \n",
      " zipcode              |                      \n",
      " case_age             | 1456                 \n",
      " days_to_closed       | 5                    \n",
      " case_lifetime        | 5                    \n",
      " case_closed_year     | 2017                 \n",
      " num_hours_late       | -361.0794444         \n",
      " source_username      | null                 \n",
      "-RECORD 3------------------------------------\n",
      " source_id            | ss21394              \n",
      " case_id              | 1013787140           \n",
      " case_opened_date     | 2017-08-11 07:40:00  \n",
      " case_closed_date     | 2017-08-11 09:38:00  \n",
      " case_due_date        | 2017-08-16 07:40:00  \n",
      " case_late            | false                \n",
      " num_days_late        | -4.9181597219999995  \n",
      " case_closed          | true                 \n",
      " dept_division        | Field Operations     \n",
      " service_request_type | Aggressive Animal... \n",
      " SLA_days             | 5.0                  \n",
      " case_status          | Closed               \n",
      " request_address      | 432  mayfield w, ... \n",
      " council_district     | 004                  \n",
      " num_weeks_late       | -0.702594246         \n",
      " zipcode              | 78211                \n",
      " case_age             | 1456                 \n",
      " days_to_closed       | 0                    \n",
      " case_lifetime        | 0                    \n",
      " case_closed_year     | 2017                 \n",
      " num_hours_late       | -118.035833328       \n",
      " source_username      | null                 \n",
      "-RECORD 4------------------------------------\n",
      " source_id            | jw10936              \n",
      " case_id              | 1013787143           \n",
      " case_opened_date     | 2017-08-11 07:42:00  \n",
      " case_closed_date     | 2017-08-14 06:58:00  \n",
      " case_due_date        | 2017-08-16 08:30:00  \n",
      " case_late            | false                \n",
      " num_days_late        | -2.063356481         \n",
      " case_closed          | true                 \n",
      " dept_division        | Waste Collection     \n",
      " service_request_type | No Pickup            \n",
      " SLA_days             | 5.033078703999999    \n",
      " case_status          | Closed               \n",
      " request_address      | 5827  vandewalle,... \n",
      " council_district     | 006                  \n",
      " num_weeks_late       | -0.2947652115714286  \n",
      " zipcode              | 78227                \n",
      " case_age             | 1456                 \n",
      " days_to_closed       | 3                    \n",
      " case_lifetime        | 3                    \n",
      " case_closed_year     | 2017                 \n",
      " num_hours_late       | -49.520555544000004  \n",
      " source_username      | null                 \n",
      "only showing top 5 rows\n",
      "\n"
     ]
    }
   ],
   "source": [
    "#joint df  with source\n",
    "\n",
    "(\n",
    "    case.join(source, \"source_id\", \"left\")\n",
    "    .sort(col(\"source_username\"))\n",
    "    .show(5, vertical=True)\n",
    ")"
   ]
  },
  {
   "cell_type": "markdown",
   "metadata": {},
   "source": [
    "### 8. Are there any cases that do not have a request source?"
   ]
  },
  {
   "cell_type": "code",
   "execution_count": 124,
   "metadata": {
    "scrolled": false
   },
   "outputs": [
    {
     "name": "stdout",
     "output_type": "stream",
     "text": [
      "(0 rows)\n",
      "\n"
     ]
    }
   ],
   "source": [
    "# missing values \n",
    "df.filter(\"source_id is null\").show(5,False, True)"
   ]
  },
  {
   "cell_type": "code",
   "execution_count": 122,
   "metadata": {},
   "outputs": [
    {
     "name": "stdout",
     "output_type": "stream",
     "text": [
      "(0 rows)\n",
      "\n"
     ]
    }
   ],
   "source": [
    "#other way\n",
    "df.where(df.source_id.isNull()).show(3, False, True)"
   ]
  },
  {
   "cell_type": "code",
   "execution_count": 180,
   "metadata": {},
   "outputs": [
    {
     "name": "stdout",
     "output_type": "stream",
     "text": [
      "+------------+\n",
      "|sum(is_null)|\n",
      "+------------+\n",
      "|           0|\n",
      "+------------+\n",
      "\n"
     ]
    }
   ],
   "source": [
    "#other way\n",
    "(\n",
    "    df.select(df.source_id.isNull().cast('int').alias('is_null'))\n",
    "    .agg(sum('is_null'))\n",
    "    .show()\n",
    ")"
   ]
  },
  {
   "cell_type": "code",
   "execution_count": 181,
   "metadata": {},
   "outputs": [
    {
     "name": "stdout",
     "output_type": "stream",
     "text": [
      "(0 rows)\n",
      "\n"
     ]
    }
   ],
   "source": [
    "df.filter(col('source_id').isNull()).show(vertical=True)"
   ]
  },
  {
   "cell_type": "markdown",
   "metadata": {},
   "source": [
    "### 9. What are the top 10 service request types in terms of number of requests?"
   ]
  },
  {
   "cell_type": "code",
   "execution_count": 61,
   "metadata": {
    "scrolled": true
   },
   "outputs": [
    {
     "name": "stdout",
     "output_type": "stream",
     "text": [
      "+--------------------------------------+-----+\n",
      "|service_request_type                  |count|\n",
      "+--------------------------------------+-----+\n",
      "|Minimum Housing-Owner Occupied        |8543 |\n",
      "|Tree Removal                          |298  |\n",
      "|Service Information                   |160  |\n",
      "|Sign Maintenance                      |82   |\n",
      "|Park Building Maint Invest            |48   |\n",
      "|Brush Property Damage                 |184  |\n",
      "|Graffiti: Private Property (Corridors)|8525 |\n",
      "|Traffic Sign Graffiti                 |2123 |\n",
      "|License Renewal Invoice               |1349 |\n",
      "|Used/Scrap Tire Facility Registration |19   |\n",
      "|Guardrail- New Request                |100  |\n",
      "|Markings Installation SMO (NEW)       |8    |\n",
      "|CCO_Request for Research/Information_1|2    |\n",
      "|Sewer Line Broken                     |1107 |\n",
      "|Zoning: Multi-Family In Single        |735  |\n",
      "|Engineering Investigation             |489  |\n",
      "|Zoning: Setbacks                      |809  |\n",
      "|Traffic Sign Faded                    |2122 |\n",
      "|Permits, Fences                       |1137 |\n",
      "|Certificates of Occupancy             |1571 |\n",
      "+--------------------------------------+-----+\n",
      "only showing top 20 rows\n",
      "\n"
     ]
    }
   ],
   "source": [
    "df.groupBy(\"service_request_type\").count().show(truncate= False)"
   ]
  },
  {
   "cell_type": "code",
   "execution_count": 65,
   "metadata": {
    "scrolled": true
   },
   "outputs": [
    {
     "name": "stdout",
     "output_type": "stream",
     "text": [
      "+--------------------------------+-----+\n",
      "|service_request_type            |count|\n",
      "+--------------------------------+-----+\n",
      "|No Pickup                       |86855|\n",
      "|Overgrown Yard/Trash            |65895|\n",
      "|Bandit Signs                    |32910|\n",
      "|Damaged Cart                    |30338|\n",
      "|Front Or Side Yard Parking      |28794|\n",
      "|Stray Animal                    |26760|\n",
      "|Aggressive Animal(Non-Critical) |24882|\n",
      "|Cart Exchange Request           |22024|\n",
      "|Junk Vehicle On Private Property|21473|\n",
      "|Pot Hole Repair                 |20616|\n",
      "+--------------------------------+-----+\n",
      "only showing top 10 rows\n",
      "\n"
     ]
    }
   ],
   "source": [
    "df.groupBy(\"service_request_type\").count().orderBy(desc(\"count\")).show(10, truncate= False)"
   ]
  },
  {
   "cell_type": "code",
   "execution_count": null,
   "metadata": {},
   "outputs": [],
   "source": [
    "#other way to do it\n",
    "(\n",
    "    df.groupby('service_request_type')\n",
    "    .count()\n",
    "    .sort(col('count').desc())\n",
    "    .show(10, truncate=False)\n",
    ")"
   ]
  },
  {
   "cell_type": "markdown",
   "metadata": {},
   "source": [
    "### 10. What are the top 10 service request types in terms of average days late?"
   ]
  },
  {
   "cell_type": "code",
   "execution_count": 183,
   "metadata": {
    "scrolled": true
   },
   "outputs": [
    {
     "name": "stdout",
     "output_type": "stream",
     "text": [
      "+--------------------------------------+------------------+\n",
      "|service_request_type                  |avg(num_days_late)|\n",
      "+--------------------------------------+------------------+\n",
      "|Zoning: Recycle Yard                  |210.89201994318182|\n",
      "|Zoning: Junk Yards                    |200.20517608494276|\n",
      "|Structure/Housing Maintenance         |190.20707698509804|\n",
      "|Donation Container Enforcement        |171.09115313942618|\n",
      "|Storage of Used Mattress              |163.96812829714287|\n",
      "|Labeling for Used Mattress            |162.43032902285717|\n",
      "|Record Keeping of Used Mattresses     |153.99724039428568|\n",
      "|Signage Requied for Sale of Used Mattr|151.63868055333333|\n",
      "|Traffic Signal Graffiti               |137.64583330000002|\n",
      "|License Requied Used Mattress Sales   |128.79828704142858|\n",
      "+--------------------------------------+------------------+\n",
      "only showing top 10 rows\n",
      "\n"
     ]
    }
   ],
   "source": [
    "(\n",
    "df.where('case_late')# just the rows where case_late == true\n",
    ".groupBy(\"service_request_type\").mean(\"num_days_late\").orderBy(desc('avg(num_days_late)')).show(10, truncate= False)\n",
    ")"
   ]
  },
  {
   "cell_type": "code",
   "execution_count": 185,
   "metadata": {},
   "outputs": [
    {
     "name": "stdout",
     "output_type": "stream",
     "text": [
      "+--------------------------------------+------------------+-------+\n",
      "|service_request_type                  |n_days_late       |n_cases|\n",
      "+--------------------------------------+------------------+-------+\n",
      "|Zoning: Recycle Yard                  |210.89201994318182|132    |\n",
      "|Zoning: Junk Yards                    |200.20517608494276|262    |\n",
      "|Structure/Housing Maintenance         |190.20707698509804|51     |\n",
      "|Donation Container Enforcement        |171.09115313942618|122    |\n",
      "|Storage of Used Mattress              |163.96812829714287|7      |\n",
      "|Labeling for Used Mattress            |162.43032902285717|7      |\n",
      "|Record Keeping of Used Mattresses     |153.99724039428568|7      |\n",
      "|Signage Requied for Sale of Used Mattr|151.63868055333333|12     |\n",
      "|Traffic Signal Graffiti               |137.64583330000002|2      |\n",
      "|License Requied Used Mattress Sales   |128.79828704142858|7      |\n",
      "+--------------------------------------+------------------+-------+\n",
      "only showing top 10 rows\n",
      "\n"
     ]
    }
   ],
   "source": [
    "#if you want to know the number of cases \n",
    "(\n",
    "    df.where('case_late') # just the rows where case_late == true\n",
    "    .groupBy('service_request_type')\n",
    "    .agg(mean('num_days_late').alias('n_days_late'), count('*').alias('n_cases'))\n",
    "    .sort(desc('n_days_late'))\n",
    "    .show(10, truncate=False)\n",
    ")"
   ]
  },
  {
   "cell_type": "markdown",
   "metadata": {},
   "source": [
    "### 11. Does number of days late depend on department?"
   ]
  },
  {
   "cell_type": "code",
   "execution_count": 193,
   "metadata": {
    "scrolled": true
   },
   "outputs": [
    {
     "name": "stdout",
     "output_type": "stream",
     "text": [
      "+------------------------+------------------+\n",
      "|department              |avg(num_days_late)|\n",
      "+------------------------+------------------+\n",
      "|Metro Health            |6.543813315547647 |\n",
      "|Solid Waste             |7.186821906120906 |\n",
      "|Trans & Cap Improvements|10.60306468031694 |\n",
      "|Parks & Recreation      |22.348910457867508|\n",
      "|Animal Care Services    |23.458633245820135|\n",
      "|DSD/Code Enforcement    |49.384287053588935|\n",
      "|Customer Service        |87.68385942150395 |\n",
      "+------------------------+------------------+\n",
      "\n"
     ]
    }
   ],
   "source": [
    "df.where('case_late').groupBy(\"department\").agg(mean(\"num_days_late\")).sort('avg(num_days_late)').show(truncate=False)"
   ]
  },
  {
   "cell_type": "code",
   "execution_count": 194,
   "metadata": {
    "scrolled": false
   },
   "outputs": [
    {
     "name": "stdout",
     "output_type": "stream",
     "text": [
      "+--------------------+-----+\n",
      "|          department|count|\n",
      "+--------------------+-----+\n",
      "|         Solid Waste|32945|\n",
      "|Animal Care Services|23276|\n",
      "|Trans & Cap Impro...| 5411|\n",
      "|  Parks & Recreation| 3797|\n",
      "|    Customer Service| 2010|\n",
      "|        Metro Health|  829|\n",
      "|DSD/Code Enforcement|26235|\n",
      "+--------------------+-----+\n",
      "\n"
     ]
    }
   ],
   "source": [
    "df.where('case_late').groupBy(\"department\").count().show(20)"
   ]
  },
  {
   "cell_type": "code",
   "execution_count": 196,
   "metadata": {
    "scrolled": true
   },
   "outputs": [
    {
     "name": "stdout",
     "output_type": "stream",
     "text": [
      "-RECORD 0----------------------------------------------------\n",
      " dept_division        | Field Operations                     \n",
      " case_id              | 1014127332                           \n",
      " case_opened_date     | 2018-01-01 00:42:00                  \n",
      " case_closed_date     | 2018-01-01 12:29:00                  \n",
      " case_due_date        | 2020-09-26 00:42:00                  \n",
      " case_late            | false                                \n",
      " num_days_late        | -998.5087616000001                   \n",
      " case_closed          | true                                 \n",
      " service_request_type | Stray Animal                         \n",
      " SLA_days             | 999.0                                \n",
      " case_status          | Closed                               \n",
      " source_id            | svcCRMLS                             \n",
      " request_address      | 2315  el paso st, san antonio, 78207 \n",
      " council_district     | 005                                  \n",
      " num_weeks_late       | -142.6441088                         \n",
      " zipcode              | 78207                                \n",
      " case_age             | 1313                                 \n",
      " days_to_closed       | 0                                    \n",
      " case_lifetime        | 0                                    \n",
      " case_closed_year     | 2018                                 \n",
      " num_hours_late       | -23964.2102784                       \n",
      " department           | Animal Care Services                 \n",
      " dept_subject_to_SLA  | true                                 \n",
      "only showing top 1 row\n",
      "\n"
     ]
    }
   ],
   "source": [
    "df.show(1, False, True)"
   ]
  },
  {
   "cell_type": "code",
   "execution_count": 198,
   "metadata": {},
   "outputs": [
    {
     "name": "stdout",
     "output_type": "stream",
     "text": [
      "+------------------------+---------+------------+\n",
      "|department              |days_late|n_cases_late|\n",
      "+------------------------+---------+------------+\n",
      "|Metro Health            |6.5      |829         |\n",
      "|Solid Waste             |7.2      |32945       |\n",
      "|Trans & Cap Improvements|10.6     |5411        |\n",
      "|Parks & Recreation      |22.3     |3797        |\n",
      "|Animal Care Services    |23.5     |23276       |\n",
      "|DSD/Code Enforcement    |49.4     |26235       |\n",
      "|Customer Service        |87.7     |2010        |\n",
      "+------------------------+---------+------------+\n",
      "\n"
     ]
    }
   ],
   "source": [
    "(\n",
    "    df.filter('case_late')\n",
    "    .groupby('department')\n",
    "    .agg(mean('num_days_late').alias('days_late'), count('num_days_late').alias('n_cases_late'))\n",
    "    .sort('days_late')\n",
    "    .withColumn('days_late', round(col('days_late'), 1))\n",
    "    .show(truncate=False)\n",
    ")"
   ]
  },
  {
   "cell_type": "markdown",
   "metadata": {},
   "source": [
    "### 12. How do number of days late depend on department and request type?"
   ]
  },
  {
   "cell_type": "code",
   "execution_count": 202,
   "metadata": {},
   "outputs": [
    {
     "name": "stdout",
     "output_type": "stream",
     "text": [
      "+------------------------+----------------------------------------+------------------+\n",
      "|department              |service_request_type                    |avg(num_days_late)|\n",
      "+------------------------+----------------------------------------+------------------+\n",
      "|DSD/Code Enforcement    |Zoning: Junk Yards                      |209.3967511428104 |\n",
      "|DSD/Code Enforcement    |Labeling for Used Mattress              |162.43032902285717|\n",
      "|DSD/Code Enforcement    |Record Keeping of Used Mattresses       |153.99724039428568|\n",
      "|DSD/Code Enforcement    |Signage Requied for Sale of Used Mattr  |151.63868055333333|\n",
      "|DSD/Code Enforcement    |Storage of Used Mattress                |142.112556415     |\n",
      "|DSD/Code Enforcement    |Donation Container Enforcement          |141.27462658777188|\n",
      "|DSD/Code Enforcement    |Zoning: Recycle Yard                    |138.9798982976596 |\n",
      "|DSD/Code Enforcement    |License Requied Used Mattress Sales     |128.79828704142858|\n",
      "|DSD/Code Enforcement    |Vendors                                 |64.75045393423626 |\n",
      "|Customer Service        |Complaint                               |59.08863360820214 |\n",
      "|Solid Waste             |Contracted Service Issues               |56.72045236025    |\n",
      "|DSD/Code Enforcement    |Curbstoning                             |55.65842639155558 |\n",
      "|DSD/Code Enforcement    |No Address Posted                       |51.368887549792284|\n",
      "|DSD/Code Enforcement    |Street Light New Development            |30.898656124037036|\n",
      "|DSD/Code Enforcement    |Used Mattress Inspection                |30.168053900795922|\n",
      "|Solid Waste             |Service Information                     |26.43590262243919 |\n",
      "|Animal Care Services    |Animal Permits Request                  |21.959024389948382|\n",
      "|Solid Waste             |Solid Waste Fees and Charges            |21.501249168849252|\n",
      "|Animal Care Services    |Aggressive Animal(Critical)             |16.75615736532842 |\n",
      "|DSD/Code Enforcement    |Emergency: Main and Accessory Structures|16.436323896807693|\n",
      "|Parks & Recreation      |Sportfield Lighting                     |15.165030132098675|\n",
      "|DSD/Code Enforcement    |Historical Building (No Permits)        |15.016725821555553|\n",
      "|DSD/Code Enforcement    |Street Light Existing Res Sub Div       |14.813073303366235|\n",
      "|Solid Waste             |Organics Info / Literature Request      |14.559108010412693|\n",
      "|Parks & Recreation      |Park Building Maint Invest              |13.850866709372097|\n",
      "|Trans & Cap Improvements|Speed Hump Repairs - Emergency          |10.619367246277669|\n",
      "|Solid Waste             |Cart Placement                          |10.231222782262435|\n",
      "|Solid Waste             |Disability Service Requested            |9.149706090156787 |\n",
      "|DSD/Code Enforcement    |Emergency: Accessory Structure Only     |8.8055057874      |\n",
      "|Parks & Recreation      |Electrical                              |8.246191846614845 |\n",
      "|Animal Care Services    |Animal Neglect                          |7.332912699528619 |\n",
      "|Trans & Cap Improvements|Status: On-Going CIMS Projects          |6.410687722946174 |\n",
      "|Parks & Recreation      |Tree Removal                            |6.180858884491347 |\n",
      "|DSD/Code Enforcement    |Emergency: Main Structure Only          |5.321343399883719 |\n",
      "|Solid Waste             |Alley Problems                          |4.622079819892856 |\n",
      "|Parks & Recreation      |Painting                                |4.392657283371428 |\n",
      "|Parks & Recreation      |Tree Trimming/Maintenance               |4.334965299910645 |\n",
      "|Parks & Recreation      |Masonry                                 |4.30262972956689  |\n",
      "|Parks & Recreation      |Fence/Gate Repair                       |4.274257181529914 |\n",
      "|Parks & Recreation      |Sign Maintenance                        |4.141523684634147 |\n",
      "|Solid Waste             |Request for Commercial Service          |4.085507135584098 |\n",
      "|Solid Waste             |Solid Waste - Miscellaneous             |3.569185509331651 |\n",
      "|Solid Waste             |Automation Property Damage              |3.4230838425240004|\n",
      "|Parks & Recreation      |Amenity Park Improvement                |3.136801659367346 |\n",
      "|Animal Care Services    |Aggressive Animal(Non-Critical)         |2.630802602978622 |\n",
      "|Parks & Recreation      |General Building Maintenance            |2.1498612474470598|\n",
      "|Solid Waste             |Scattered Material                      |2.124617407489063 |\n",
      "|Parks & Recreation      |Miscellaneous Park Equipment            |2.049699683026315 |\n",
      "|Trans & Cap Improvements|Initiating Unknown Project Investigation|1.9789886652265838|\n",
      "|DSD/Code Enforcement    |Boarding Home Inspection                |1.8136948354545435|\n",
      "+------------------------+----------------------------------------+------------------+\n",
      "only showing top 50 rows\n",
      "\n"
     ]
    }
   ],
   "source": [
    "df.filter(\"case_closed\").groupBy(\"department\", \"service_request_type\").mean(\"num_days_late\")\\\n",
    ".orderBy(desc('avg(num_days_late)')).show(50, truncate= False)"
   ]
  },
  {
   "cell_type": "code",
   "execution_count": 201,
   "metadata": {},
   "outputs": [
    {
     "name": "stdout",
     "output_type": "stream",
     "text": [
      "+------------------------+----------------------------------------+---------+-------+\n",
      "|department              |service_request_type                    |days_late|n_cases|\n",
      "+------------------------+----------------------------------------+---------+-------+\n",
      "|DSD/Code Enforcement    |Zoning: Junk Yards                      |209.4    |174    |\n",
      "|DSD/Code Enforcement    |Labeling for Used Mattress              |162.4    |7      |\n",
      "|DSD/Code Enforcement    |Record Keeping of Used Mattresses       |154.0    |7      |\n",
      "|DSD/Code Enforcement    |Signage Requied for Sale of Used Mattr  |151.6    |12     |\n",
      "|DSD/Code Enforcement    |Storage of Used Mattress                |142.1    |8      |\n",
      "|DSD/Code Enforcement    |Donation Container Enforcement          |141.3    |114    |\n",
      "|DSD/Code Enforcement    |Zoning: Recycle Yard                    |139.0    |141    |\n",
      "|DSD/Code Enforcement    |License Requied Used Mattress Sales     |128.8    |7      |\n",
      "|DSD/Code Enforcement    |Vendors                                 |64.8     |182    |\n",
      "|Customer Service        |Complaint                               |59.1     |1227   |\n",
      "|Solid Waste             |Contracted Service Issues               |56.7     |12     |\n",
      "|DSD/Code Enforcement    |Curbstoning                             |55.7     |198    |\n",
      "|DSD/Code Enforcement    |No Address Posted                       |51.4     |1011   |\n",
      "|DSD/Code Enforcement    |Street Light New Development            |30.9     |27     |\n",
      "|DSD/Code Enforcement    |Used Mattress Inspection                |30.2     |49     |\n",
      "|Solid Waste             |Service Information                     |26.4     |148    |\n",
      "|Animal Care Services    |Animal Permits Request                  |22.0     |2945   |\n",
      "|Solid Waste             |Solid Waste Fees and Charges            |21.5     |4637   |\n",
      "|Animal Care Services    |Aggressive Animal(Critical)             |16.8     |5216   |\n",
      "|DSD/Code Enforcement    |Emergency: Main and Accessory Structures|16.4     |26     |\n",
      "|Parks & Recreation      |Sportfield Lighting                     |15.2     |527    |\n",
      "|DSD/Code Enforcement    |Historical Building (No Permits)        |15.0     |9      |\n",
      "|DSD/Code Enforcement    |Street Light Existing Res Sub Div       |14.8     |628    |\n",
      "|Solid Waste             |Organics Info / Literature Request      |14.6     |1134   |\n",
      "|Parks & Recreation      |Park Building Maint Invest              |13.9     |43     |\n",
      "|Trans & Cap Improvements|Speed Hump Repairs - Emergency          |10.6     |515    |\n",
      "|Solid Waste             |Cart Placement                          |10.2     |1166   |\n",
      "|Solid Waste             |Disability Service Requested            |9.1      |810    |\n",
      "|DSD/Code Enforcement    |Emergency: Accessory Structure Only     |8.8      |10     |\n",
      "|Parks & Recreation      |Electrical                              |8.2      |1145   |\n",
      "|Animal Care Services    |Animal Neglect                          |7.3      |13333  |\n",
      "|Trans & Cap Improvements|Status: On-Going CIMS Projects          |6.4      |353    |\n",
      "|Parks & Recreation      |Tree Removal                            |6.2      |289    |\n",
      "|DSD/Code Enforcement    |Emergency: Main Structure Only          |5.3      |43     |\n",
      "|Solid Waste             |Alley Problems                          |4.6      |56     |\n",
      "|Parks & Recreation      |Painting                                |4.4      |280    |\n",
      "|Parks & Recreation      |Tree Trimming/Maintenance               |4.3      |526    |\n",
      "|Parks & Recreation      |Masonry                                 |4.3      |441    |\n",
      "|Parks & Recreation      |Fence/Gate Repair                       |4.3      |117    |\n",
      "|Solid Waste             |Request for Commercial Service          |4.1      |327    |\n",
      "+------------------------+----------------------------------------+---------+-------+\n",
      "only showing top 40 rows\n",
      "\n"
     ]
    }
   ],
   "source": [
    "#other way\n",
    "(\n",
    "    df.filter(\"case_closed\")\n",
    "#     .filter(\"case_late\")\n",
    "    .groupby(\"department\", \"service_request_type\")\n",
    "    .agg(avg(\"num_days_late\").alias(\"days_late\"), count(\"*\").alias(\"n_cases\"))\n",
    "    .withColumn(\"days_late\", round(col(\"days_late\"), 1))\n",
    "    .where(col('days_late') > 0)\n",
    "    .sort(desc(\"days_late\"))\n",
    "    .show(40, truncate=False)\n",
    ")"
   ]
  },
  {
   "cell_type": "code",
   "execution_count": null,
   "metadata": {},
   "outputs": [],
   "source": []
  }
 ],
 "metadata": {
  "kernelspec": {
   "display_name": "Python 3",
   "language": "python",
   "name": "python3"
  },
  "language_info": {
   "codemirror_mode": {
    "name": "ipython",
    "version": 3
   },
   "file_extension": ".py",
   "mimetype": "text/x-python",
   "name": "python",
   "nbconvert_exporter": "python",
   "pygments_lexer": "ipython3",
   "version": "3.8.5"
  }
 },
 "nbformat": 4,
 "nbformat_minor": 4
}
