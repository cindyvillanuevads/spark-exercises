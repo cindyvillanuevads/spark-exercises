{
 "cells": [
  {
   "cell_type": "markdown",
   "metadata": {},
   "source": [
    "# Exercises"
   ]
  },
  {
   "cell_type": "code",
   "execution_count": 1,
   "metadata": {},
   "outputs": [],
   "source": [
    "from pyspark.sql import SparkSession\n",
    "from pyspark.sql.functions import *\n",
    "\n",
    "spark = SparkSession.builder.getOrCreate()"
   ]
  },
  {
   "cell_type": "markdown",
   "metadata": {},
   "source": [
    "### This exercises uses the ```case.csv```, ```dept.csv```, and ```source.csv``` files from the san antonio 311 call dataset."
   ]
  },
  {
   "cell_type": "markdown",
   "metadata": {},
   "source": [
    "### 1. Read the case, department, and source data into their own spark dataframes."
   ]
  },
  {
   "cell_type": "code",
   "execution_count": 2,
   "metadata": {},
   "outputs": [],
   "source": [
    "# Read case in CSV file \n",
    "case = (spark.read.csv(\"case.csv\",\n",
    "                     sep=\",\",\n",
    "                     header=True,\n",
    "                     inferSchema=True)\n",
    "     )"
   ]
  },
  {
   "cell_type": "code",
   "execution_count": 3,
   "metadata": {},
   "outputs": [
    {
     "name": "stdout",
     "output_type": "stream",
     "text": [
      "-RECORD 0-----------------------------------------------------\n",
      " case_id              | 1014127332                            \n",
      " case_opened_date     | 1/1/18 0:42                           \n",
      " case_closed_date     | 1/1/18 12:29                          \n",
      " SLA_due_date         | 9/26/20 0:42                          \n",
      " case_late            | NO                                    \n",
      " num_days_late        | -998.5087616000001                    \n",
      " case_closed          | YES                                   \n",
      " dept_division        | Field Operations                      \n",
      " service_request_type | Stray Animal                          \n",
      " SLA_days             | 999.0                                 \n",
      " case_status          | Closed                                \n",
      " source_id            | svcCRMLS                              \n",
      " request_address      | 2315  EL PASO ST, San Antonio, 78207  \n",
      " council_district     | 5                                     \n",
      "-RECORD 1-----------------------------------------------------\n",
      " case_id              | 1014127333                            \n",
      " case_opened_date     | 1/1/18 0:46                           \n",
      " case_closed_date     | 1/3/18 8:11                           \n",
      " SLA_due_date         | 1/5/18 8:30                           \n",
      " case_late            | NO                                    \n",
      " num_days_late        | -2.0126041669999997                   \n",
      " case_closed          | YES                                   \n",
      " dept_division        | Storm Water                           \n",
      " service_request_type | Removal Of Obstruction                \n",
      " SLA_days             | 4.322222222                           \n",
      " case_status          | Closed                                \n",
      " source_id            | svcCRMSS                              \n",
      " request_address      | 2215  GOLIAD RD, San Antonio, 78223   \n",
      " council_district     | 3                                     \n",
      "-RECORD 2-----------------------------------------------------\n",
      " case_id              | 1014127334                            \n",
      " case_opened_date     | 1/1/18 0:48                           \n",
      " case_closed_date     | 1/2/18 7:57                           \n",
      " SLA_due_date         | 1/5/18 8:30                           \n",
      " case_late            | NO                                    \n",
      " num_days_late        | -3.022337963                          \n",
      " case_closed          | YES                                   \n",
      " dept_division        | Storm Water                           \n",
      " service_request_type | Removal Of Obstruction                \n",
      " SLA_days             | 4.320729167                           \n",
      " case_status          | Closed                                \n",
      " source_id            | svcCRMSS                              \n",
      " request_address      | 102  PALFREY ST W, San Antonio, 78223 \n",
      " council_district     | 3                                     \n",
      "only showing top 3 rows\n",
      "\n"
     ]
    }
   ],
   "source": [
    "case.show(3, False, True)"
   ]
  },
  {
   "cell_type": "code",
   "execution_count": 4,
   "metadata": {},
   "outputs": [],
   "source": [
    "# Read dept in CSV file \n",
    "dept = (spark.read.csv(\"dept.csv\",\n",
    "                     sep=\",\",\n",
    "                     header=True,\n",
    "                     inferSchema=True)\n",
    "     )"
   ]
  },
  {
   "cell_type": "code",
   "execution_count": 5,
   "metadata": {
    "scrolled": true
   },
   "outputs": [
    {
     "name": "stdout",
     "output_type": "stream",
     "text": [
      "-RECORD 0----------------------------------------\n",
      " dept_division          | 311 Call Center        \n",
      " dept_name              | Customer Service       \n",
      " standardized_dept_name | Customer Service       \n",
      " dept_subject_to_SLA    | YES                    \n",
      "-RECORD 1----------------------------------------\n",
      " dept_division          | Brush                  \n",
      " dept_name              | Solid Waste Management \n",
      " standardized_dept_name | Solid Waste            \n",
      " dept_subject_to_SLA    | YES                    \n",
      "-RECORD 2----------------------------------------\n",
      " dept_division          | Clean and Green        \n",
      " dept_name              | Parks and Recreation   \n",
      " standardized_dept_name | Parks & Recreation     \n",
      " dept_subject_to_SLA    | YES                    \n",
      "only showing top 3 rows\n",
      "\n"
     ]
    }
   ],
   "source": [
    "dept.show(3, False, True)"
   ]
  },
  {
   "cell_type": "code",
   "execution_count": 6,
   "metadata": {},
   "outputs": [],
   "source": [
    "# Read source in CSV file \n",
    "source = (spark.read.csv(\"source.csv\",\n",
    "                     sep=\",\",\n",
    "                     header=True,\n",
    "                     inferSchema=True)\n",
    "     )"
   ]
  },
  {
   "cell_type": "code",
   "execution_count": 7,
   "metadata": {},
   "outputs": [
    {
     "name": "stdout",
     "output_type": "stream",
     "text": [
      "-RECORD 0---------------------------\n",
      " source_id       | 100137           \n",
      " source_username | Merlene Blodgett \n",
      "-RECORD 1---------------------------\n",
      " source_id       | 103582           \n",
      " source_username | Carmen Cura      \n",
      "-RECORD 2---------------------------\n",
      " source_id       | 106463           \n",
      " source_username | Richard Sanchez  \n",
      "only showing top 3 rows\n",
      "\n"
     ]
    }
   ],
   "source": [
    "source.show(3, False, True)"
   ]
  },
  {
   "cell_type": "markdown",
   "metadata": {},
   "source": [
    "### 2. Let's see how writing to the local disk works in spark:\n",
    "\n",
    "- Write the code necessary to store the source data in both csv and json format, store these as ```sources_csv```  and  ```sources_json```"
   ]
  },
  {
   "cell_type": "markdown",
   "metadata": {},
   "source": [
    "***- sources_json***"
   ]
  },
  {
   "cell_type": "code",
   "execution_count": 8,
   "metadata": {},
   "outputs": [],
   "source": [
    "# write data to a destination using .write property\n",
    "\n",
    "source.write.json(\"sources_json\", mode=\"overwrite\")"
   ]
  },
  {
   "cell_type": "markdown",
   "metadata": {},
   "source": [
    "***- sources_csv***"
   ]
  },
  {
   "cell_type": "code",
   "execution_count": 9,
   "metadata": {},
   "outputs": [],
   "source": [
    "source.write.csv(\"sources_csv\", mode=\"overwrite\")"
   ]
  },
  {
   "cell_type": "markdown",
   "metadata": {},
   "source": [
    "- Inspect your folder structure. What do you notice?"
   ]
  },
  {
   "cell_type": "markdown",
   "metadata": {},
   "source": [
    "it creates a folder with the giving name but inside the folder have two files  one is partition"
   ]
  },
  {
   "cell_type": "markdown",
   "metadata": {},
   "source": [
    "#### 3. Inspect the data in your dataframes. Are the data types appropriate? Write the code necessary to cast the values to the appropriate types"
   ]
  },
  {
   "cell_type": "code",
   "execution_count": 10,
   "metadata": {
    "scrolled": false
   },
   "outputs": [
    {
     "data": {
      "text/plain": [
       "[('source_id', 'string'), ('source_username', 'string')]"
      ]
     },
     "execution_count": 10,
     "metadata": {},
     "output_type": "execute_result"
    }
   ],
   "source": [
    "#check the data types\n",
    "source.dtypes"
   ]
  },
  {
   "cell_type": "code",
   "execution_count": 11,
   "metadata": {},
   "outputs": [
    {
     "name": "stdout",
     "output_type": "stream",
     "text": [
      "+---------+----------------+\n",
      "|source_id| source_username|\n",
      "+---------+----------------+\n",
      "|   100137|Merlene Blodgett|\n",
      "|   103582|     Carmen Cura|\n",
      "+---------+----------------+\n",
      "only showing top 2 rows\n",
      "\n"
     ]
    }
   ],
   "source": [
    "source.show(2)"
   ]
  },
  {
   "cell_type": "markdown",
   "metadata": {},
   "source": [
    "**note:** soucer_id shold be  numerical"
   ]
  },
  {
   "cell_type": "code",
   "execution_count": 12,
   "metadata": {},
   "outputs": [],
   "source": [
    "# source_id as an int instead of string\n",
    "source =source.withColumn('source_id', col('source_id').cast('int'))"
   ]
  },
  {
   "cell_type": "code",
   "execution_count": 13,
   "metadata": {},
   "outputs": [
    {
     "data": {
      "text/plain": [
       "[('source_id', 'int'), ('source_username', 'string')]"
      ]
     },
     "execution_count": 13,
     "metadata": {},
     "output_type": "execute_result"
    }
   ],
   "source": [
    "#check the type again\n",
    "source.dtypes"
   ]
  },
  {
   "cell_type": "markdown",
   "metadata": {},
   "source": [
    "____________"
   ]
  },
  {
   "cell_type": "code",
   "execution_count": 14,
   "metadata": {
    "scrolled": false
   },
   "outputs": [
    {
     "data": {
      "text/plain": [
       "[('dept_division', 'string'),\n",
       " ('dept_name', 'string'),\n",
       " ('standardized_dept_name', 'string'),\n",
       " ('dept_subject_to_SLA', 'string')]"
      ]
     },
     "execution_count": 14,
     "metadata": {},
     "output_type": "execute_result"
    }
   ],
   "source": [
    "#check the types in dept\n",
    "dept.dtypes"
   ]
  },
  {
   "cell_type": "code",
   "execution_count": 15,
   "metadata": {
    "scrolled": true
   },
   "outputs": [
    {
     "name": "stdout",
     "output_type": "stream",
     "text": [
      "+---------------+--------------------+----------------------+-------------------+\n",
      "|  dept_division|           dept_name|standardized_dept_name|dept_subject_to_SLA|\n",
      "+---------------+--------------------+----------------------+-------------------+\n",
      "|311 Call Center|    Customer Service|      Customer Service|                YES|\n",
      "|          Brush|Solid Waste Manag...|           Solid Waste|                YES|\n",
      "|Clean and Green|Parks and Recreation|    Parks & Recreation|                YES|\n",
      "+---------------+--------------------+----------------------+-------------------+\n",
      "only showing top 3 rows\n",
      "\n"
     ]
    }
   ],
   "source": [
    "dept.show(3)"
   ]
  },
  {
   "cell_type": "markdown",
   "metadata": {},
   "source": [
    "***note:*** dept_subject_to_SLA can be changed to boolean value"
   ]
  },
  {
   "cell_type": "code",
   "execution_count": 16,
   "metadata": {},
   "outputs": [],
   "source": [
    "# use .withColumn to change columns from string to boolean values\n",
    "\n",
    "dept = dept.withColumn('dept_subject_to_SLA', expr('dept_subject_to_SLA == \"YES\"'))"
   ]
  },
  {
   "cell_type": "code",
   "execution_count": 17,
   "metadata": {},
   "outputs": [
    {
     "name": "stdout",
     "output_type": "stream",
     "text": [
      "+---------------+--------------------+----------------------+-------------------+\n",
      "|  dept_division|           dept_name|standardized_dept_name|dept_subject_to_SLA|\n",
      "+---------------+--------------------+----------------------+-------------------+\n",
      "|311 Call Center|    Customer Service|      Customer Service|               true|\n",
      "|          Brush|Solid Waste Manag...|           Solid Waste|               true|\n",
      "+---------------+--------------------+----------------------+-------------------+\n",
      "only showing top 2 rows\n",
      "\n"
     ]
    }
   ],
   "source": [
    "dept.show(2)"
   ]
  },
  {
   "cell_type": "code",
   "execution_count": 18,
   "metadata": {
    "scrolled": false
   },
   "outputs": [
    {
     "data": {
      "text/plain": [
       "[('case_id', 'int'),\n",
       " ('case_opened_date', 'string'),\n",
       " ('case_closed_date', 'string'),\n",
       " ('SLA_due_date', 'string'),\n",
       " ('case_late', 'string'),\n",
       " ('num_days_late', 'double'),\n",
       " ('case_closed', 'string'),\n",
       " ('dept_division', 'string'),\n",
       " ('service_request_type', 'string'),\n",
       " ('SLA_days', 'double'),\n",
       " ('case_status', 'string'),\n",
       " ('source_id', 'string'),\n",
       " ('request_address', 'string'),\n",
       " ('council_district', 'int')]"
      ]
     },
     "execution_count": 18,
     "metadata": {},
     "output_type": "execute_result"
    }
   ],
   "source": [
    "#check the type in case\n",
    "case.dtypes"
   ]
  },
  {
   "cell_type": "code",
   "execution_count": 19,
   "metadata": {},
   "outputs": [
    {
     "name": "stdout",
     "output_type": "stream",
     "text": [
      "-RECORD 0-----------------------------------------------------\n",
      " case_id              | 1014127332                            \n",
      " case_opened_date     | 1/1/18 0:42                           \n",
      " case_closed_date     | 1/1/18 12:29                          \n",
      " SLA_due_date         | 9/26/20 0:42                          \n",
      " case_late            | NO                                    \n",
      " num_days_late        | -998.5087616000001                    \n",
      " case_closed          | YES                                   \n",
      " dept_division        | Field Operations                      \n",
      " service_request_type | Stray Animal                          \n",
      " SLA_days             | 999.0                                 \n",
      " case_status          | Closed                                \n",
      " source_id            | svcCRMLS                              \n",
      " request_address      | 2315  EL PASO ST, San Antonio, 78207  \n",
      " council_district     | 5                                     \n",
      "-RECORD 1-----------------------------------------------------\n",
      " case_id              | 1014127333                            \n",
      " case_opened_date     | 1/1/18 0:46                           \n",
      " case_closed_date     | 1/3/18 8:11                           \n",
      " SLA_due_date         | 1/5/18 8:30                           \n",
      " case_late            | NO                                    \n",
      " num_days_late        | -2.0126041669999997                   \n",
      " case_closed          | YES                                   \n",
      " dept_division        | Storm Water                           \n",
      " service_request_type | Removal Of Obstruction                \n",
      " SLA_days             | 4.322222222                           \n",
      " case_status          | Closed                                \n",
      " source_id            | svcCRMSS                              \n",
      " request_address      | 2215  GOLIAD RD, San Antonio, 78223   \n",
      " council_district     | 3                                     \n",
      "-RECORD 2-----------------------------------------------------\n",
      " case_id              | 1014127334                            \n",
      " case_opened_date     | 1/1/18 0:48                           \n",
      " case_closed_date     | 1/2/18 7:57                           \n",
      " SLA_due_date         | 1/5/18 8:30                           \n",
      " case_late            | NO                                    \n",
      " num_days_late        | -3.022337963                          \n",
      " case_closed          | YES                                   \n",
      " dept_division        | Storm Water                           \n",
      " service_request_type | Removal Of Obstruction                \n",
      " SLA_days             | 4.320729167                           \n",
      " case_status          | Closed                                \n",
      " source_id            | svcCRMSS                              \n",
      " request_address      | 102  PALFREY ST W, San Antonio, 78223 \n",
      " council_district     | 3                                     \n",
      "only showing top 3 rows\n",
      "\n"
     ]
    }
   ],
   "source": [
    "case.show(3, False, True)"
   ]
  },
  {
   "cell_type": "markdown",
   "metadata": {},
   "source": [
    "**note** all the dates are in string type should be datetime format, case_closed and case_late to boolean, council_district as a string"
   ]
  },
  {
   "cell_type": "code",
   "execution_count": 20,
   "metadata": {},
   "outputs": [],
   "source": [
    "# use .withColumn to change columns from string to boolean values\n",
    "\n",
    "case = case.withColumn('case_closed', expr('case_closed == \"YES\"'))\\\n",
    ".withColumn('case_late', expr('case_late == \"YES\"'))"
   ]
  },
  {
   "cell_type": "code",
   "execution_count": 21,
   "metadata": {
    "scrolled": true
   },
   "outputs": [
    {
     "name": "stdout",
     "output_type": "stream",
     "text": [
      "+-----------+---------+\n",
      "|case_closed|case_late|\n",
      "+-----------+---------+\n",
      "|       true|    false|\n",
      "|       true|    false|\n",
      "+-----------+---------+\n",
      "only showing top 2 rows\n",
      "\n"
     ]
    }
   ],
   "source": [
    "case.select(\"case_closed\", \"case_late\").show(2)"
   ]
  },
  {
   "cell_type": "code",
   "execution_count": 22,
   "metadata": {},
   "outputs": [],
   "source": [
    "# council_district as a string instead of int\n",
    "case = case.withColumn('council_district', col('council_district').cast('string'))"
   ]
  },
  {
   "cell_type": "code",
   "execution_count": 23,
   "metadata": {},
   "outputs": [],
   "source": [
    "# to_timestamp, fmt\n",
    "\n",
    "fmt = \"M/d/yy H:mm\"\n",
    "\n",
    "case = case.withColumn('case_opened_date', to_timestamp('case_opened_date', fmt))\\\n",
    ".withColumn('case_closed_date', to_timestamp('case_closed_date', fmt))\\\n",
    ".withColumn('SLA_due_date', to_timestamp('SLA_due_date', fmt))"
   ]
  },
  {
   "cell_type": "code",
   "execution_count": 24,
   "metadata": {
    "scrolled": true
   },
   "outputs": [
    {
     "data": {
      "text/plain": [
       "[('case_id', 'int'),\n",
       " ('case_opened_date', 'timestamp'),\n",
       " ('case_closed_date', 'timestamp'),\n",
       " ('SLA_due_date', 'timestamp'),\n",
       " ('case_late', 'boolean'),\n",
       " ('num_days_late', 'double'),\n",
       " ('case_closed', 'boolean'),\n",
       " ('dept_division', 'string'),\n",
       " ('service_request_type', 'string'),\n",
       " ('SLA_days', 'double'),\n",
       " ('case_status', 'string'),\n",
       " ('source_id', 'string'),\n",
       " ('request_address', 'string'),\n",
       " ('council_district', 'string')]"
      ]
     },
     "execution_count": 24,
     "metadata": {},
     "output_type": "execute_result"
    }
   ],
   "source": [
    "#check all the changes\n",
    "case.dtypes"
   ]
  },
  {
   "cell_type": "code",
   "execution_count": 25,
   "metadata": {},
   "outputs": [
    {
     "name": "stdout",
     "output_type": "stream",
     "text": [
      "-RECORD 0-----------------------------------------------------\n",
      " case_id              | 1014127332                            \n",
      " case_opened_date     | 2018-01-01 00:42:00                   \n",
      " case_closed_date     | 2018-01-01 12:29:00                   \n",
      " SLA_due_date         | 2020-09-26 00:42:00                   \n",
      " case_late            | false                                 \n",
      " num_days_late        | -998.5087616000001                    \n",
      " case_closed          | true                                  \n",
      " dept_division        | Field Operations                      \n",
      " service_request_type | Stray Animal                          \n",
      " SLA_days             | 999.0                                 \n",
      " case_status          | Closed                                \n",
      " source_id            | svcCRMLS                              \n",
      " request_address      | 2315  EL PASO ST, San Antonio, 78207  \n",
      " council_district     | 5                                     \n",
      "-RECORD 1-----------------------------------------------------\n",
      " case_id              | 1014127333                            \n",
      " case_opened_date     | 2018-01-01 00:46:00                   \n",
      " case_closed_date     | 2018-01-03 08:11:00                   \n",
      " SLA_due_date         | 2018-01-05 08:30:00                   \n",
      " case_late            | false                                 \n",
      " num_days_late        | -2.0126041669999997                   \n",
      " case_closed          | true                                  \n",
      " dept_division        | Storm Water                           \n",
      " service_request_type | Removal Of Obstruction                \n",
      " SLA_days             | 4.322222222                           \n",
      " case_status          | Closed                                \n",
      " source_id            | svcCRMSS                              \n",
      " request_address      | 2215  GOLIAD RD, San Antonio, 78223   \n",
      " council_district     | 3                                     \n",
      "-RECORD 2-----------------------------------------------------\n",
      " case_id              | 1014127334                            \n",
      " case_opened_date     | 2018-01-01 00:48:00                   \n",
      " case_closed_date     | 2018-01-02 07:57:00                   \n",
      " SLA_due_date         | 2018-01-05 08:30:00                   \n",
      " case_late            | false                                 \n",
      " num_days_late        | -3.022337963                          \n",
      " case_closed          | true                                  \n",
      " dept_division        | Storm Water                           \n",
      " service_request_type | Removal Of Obstruction                \n",
      " SLA_days             | 4.320729167                           \n",
      " case_status          | Closed                                \n",
      " source_id            | svcCRMSS                              \n",
      " request_address      | 102  PALFREY ST W, San Antonio, 78223 \n",
      " council_district     | 3                                     \n",
      "only showing top 3 rows\n",
      "\n"
     ]
    }
   ],
   "source": [
    "case.show(3, False, True)"
   ]
  },
  {
   "cell_type": "markdown",
   "metadata": {},
   "source": [
    "_________________"
   ]
  },
  {
   "cell_type": "markdown",
   "metadata": {},
   "source": [
    "###  new features"
   ]
  },
  {
   "cell_type": "code",
   "execution_count": 26,
   "metadata": {},
   "outputs": [],
   "source": [
    "# Rename 'SLA_due_date' to 'case_due_date' using .withColumnRenamed\n",
    "\n",
    "case = case.withColumnRenamed('SLA_due_date', 'case_due_date')"
   ]
  },
  {
   "cell_type": "code",
   "execution_count": 27,
   "metadata": {},
   "outputs": [],
   "source": [
    "case = case.withColumn('request_address', trim(lower(case.request_address)))"
   ]
  },
  {
   "cell_type": "code",
   "execution_count": 28,
   "metadata": {
    "scrolled": true
   },
   "outputs": [
    {
     "name": "stdout",
     "output_type": "stream",
     "text": [
      "+-------------------+--------------------+\n",
      "|      num_days_late|      num_weeks_late|\n",
      "+-------------------+--------------------+\n",
      "| -998.5087616000001|        -142.6441088|\n",
      "|-2.0126041669999997|-0.28751488099999994|\n",
      "|       -3.022337963|-0.43176256614285713|\n",
      "|       -15.01148148| -2.1444973542857144|\n",
      "|0.37216435200000003|         0.053166336|\n",
      "+-------------------+--------------------+\n",
      "only showing top 5 rows\n",
      "\n"
     ]
    }
   ],
   "source": [
    "# convert the number of days a case is late to a number of weeks\n",
    "\n",
    "case = case.withColumn('num_weeks_late', expr('num_days_late/7'))\n",
    "\n",
    "case.select(\"num_days_late\", \"num_weeks_late\").show(5)"
   ]
  },
  {
   "cell_type": "code",
   "execution_count": 29,
   "metadata": {},
   "outputs": [],
   "source": [
    "# use format_string function to pad zeros for council_district\n",
    "\n",
    "case = case.withColumn('council_district', format_string('%03d', col('council_district').cast('int')))"
   ]
  },
  {
   "cell_type": "code",
   "execution_count": 30,
   "metadata": {
    "scrolled": true
   },
   "outputs": [
    {
     "name": "stdout",
     "output_type": "stream",
     "text": [
      "+-------+\n",
      "|zipcode|\n",
      "+-------+\n",
      "|  78207|\n",
      "|  78223|\n",
      "|  78223|\n",
      "|  78223|\n",
      "|  78228|\n",
      "+-------+\n",
      "only showing top 5 rows\n",
      "\n"
     ]
    }
   ],
   "source": [
    "# create a new column for zipcode:\n",
    "\n",
    "case = case.withColumn('zipcode', regexp_extract('request_address', r\"(\\d+$)\", 1))\n",
    "\n",
    "case.select('zipcode').show(5)"
   ]
  },
  {
   "cell_type": "code",
   "execution_count": 31,
   "metadata": {
    "scrolled": false
   },
   "outputs": [
    {
     "name": "stdout",
     "output_type": "stream",
     "text": [
      "-RECORD 0----------------------------------------------------\n",
      " case_id              | 1014127332                           \n",
      " case_opened_date     | 2018-01-01 00:42:00                  \n",
      " case_closed_date     | 2018-01-01 12:29:00                  \n",
      " case_due_date        | 2020-09-26 00:42:00                  \n",
      " case_late            | false                                \n",
      " num_days_late        | -998.5087616000001                   \n",
      " case_closed          | true                                 \n",
      " dept_division        | Field Operations                     \n",
      " service_request_type | Stray Animal                         \n",
      " SLA_days             | 999.0                                \n",
      " case_status          | Closed                               \n",
      " source_id            | svcCRMLS                             \n",
      " request_address      | 2315  el paso st, san antonio, 78207 \n",
      " council_district     | 005                                  \n",
      " num_weeks_late       | -142.6441088                         \n",
      " zipcode              | 78207                                \n",
      "only showing top 1 row\n",
      "\n"
     ]
    }
   ],
   "source": [
    "case.show(1, False, True)"
   ]
  },
  {
   "cell_type": "code",
   "execution_count": 32,
   "metadata": {},
   "outputs": [],
   "source": [
    "#create three new columns 'case_age', 'days_to_closed', 'case_lifetime'\n",
    "\n",
    "case = (\n",
    "    case.withColumn(\n",
    "        \"case_age\", datediff(current_timestamp(), \"case_opened_date\")\n",
    "    )\n",
    "    .withColumn(\n",
    "        \"days_to_closed\", datediff(\"case_closed_date\", \"case_opened_date\")\n",
    "    )\n",
    "    .withColumn(\n",
    "        \"case_lifetime\",\n",
    "        when(expr(\"! case_closed\"), col(\"case_age\")).otherwise(\n",
    "            col(\"days_to_closed\")\n",
    "        ),\n",
    "    )\n",
    ")"
   ]
  },
  {
   "cell_type": "markdown",
   "metadata": {},
   "source": [
    "### 1. How old is the latest (in terms of days past SLA) currently open issue? How long has the oldest (in terms of days since opened) currently opened issue been open?"
   ]
  },
  {
   "cell_type": "code",
   "execution_count": 33,
   "metadata": {
    "scrolled": true
   },
   "outputs": [
    {
     "name": "stdout",
     "output_type": "stream",
     "text": [
      "-RECORD 0----------------------------------------------------\n",
      " case_id              | 1014127332                           \n",
      " case_opened_date     | 2018-01-01 00:42:00                  \n",
      " case_closed_date     | 2018-01-01 12:29:00                  \n",
      " case_due_date        | 2020-09-26 00:42:00                  \n",
      " case_late            | false                                \n",
      " num_days_late        | -998.5087616000001                   \n",
      " case_closed          | true                                 \n",
      " dept_division        | Field Operations                     \n",
      " service_request_type | Stray Animal                         \n",
      " SLA_days             | 999.0                                \n",
      " case_status          | Closed                               \n",
      " source_id            | svcCRMLS                             \n",
      " request_address      | 2315  el paso st, san antonio, 78207 \n",
      " council_district     | 005                                  \n",
      " num_weeks_late       | -142.6441088                         \n",
      " zipcode              | 78207                                \n",
      " case_age             | 1313                                 \n",
      " days_to_closed       | 0                                    \n",
      " case_lifetime        | 0                                    \n",
      "only showing top 1 row\n",
      "\n"
     ]
    }
   ],
   "source": [
    "case.show(1, False, True)"
   ]
  },
  {
   "cell_type": "code",
   "execution_count": 34,
   "metadata": {
    "scrolled": true
   },
   "outputs": [
    {
     "name": "stdout",
     "output_type": "stream",
     "text": [
      "-RECORD 0------------------------------------------------------\n",
      " case_id              | 1013225646                             \n",
      " case_opened_date     | 2017-01-01 13:48:00                    \n",
      " case_closed_date     | null                                   \n",
      " case_due_date        | 2017-01-17 08:30:00                    \n",
      " case_late            | true                                   \n",
      " num_days_late        | 348.6458333                            \n",
      " case_closed          | false                                  \n",
      " dept_division        | Code Enforcement                       \n",
      " service_request_type | No Address Posted                      \n",
      " SLA_days             | 15.77859954                            \n",
      " case_status          | Open                                   \n",
      " source_id            | svcCRMSS                               \n",
      " request_address      | 7299  shadow ridge, san antonio, 78250 \n",
      " council_district     | 006                                    \n",
      " num_weeks_late       | 49.80654761428571                      \n",
      " zipcode              | 78250                                  \n",
      " case_age             | 1678                                   \n",
      " days_to_closed       | null                                   \n",
      " case_lifetime        | 1678                                   \n",
      "only showing top 1 row\n",
      "\n"
     ]
    }
   ],
   "source": [
    "case.filter(case.case_status == 'Open').orderBy(desc(case.case_age)).show(1, False, True)"
   ]
  },
  {
   "cell_type": "code",
   "execution_count": 35,
   "metadata": {},
   "outputs": [
    {
     "name": "stdout",
     "output_type": "stream",
     "text": [
      "-RECORD 0--------------------------------------------------------\n",
      " case_id              | 1013896575                               \n",
      " case_opened_date     | 2017-09-22 08:27:00                      \n",
      " case_closed_date     | null                                     \n",
      " case_due_date        | 2021-08-11 08:30:00                      \n",
      " case_late            | false                                    \n",
      " num_days_late        | -1318.354167                             \n",
      " case_closed          | false                                    \n",
      " dept_division        | Signals                                  \n",
      " service_request_type | Signal Timing Modification By Engineer   \n",
      " SLA_days             | 1419.00191                               \n",
      " case_status          | Open                                     \n",
      " source_id            | CRM_Listener                             \n",
      " request_address      | 4200  harry wurzbach, san antonio, 78209 \n",
      " council_district     | 010                                      \n",
      " num_weeks_late       | -188.33630957142856                      \n",
      " zipcode              | 78209                                    \n",
      " case_age             | 1414                                     \n",
      " days_to_closed       | null                                     \n",
      " case_lifetime        | 1414                                     \n",
      "only showing top 1 row\n",
      "\n"
     ]
    }
   ],
   "source": [
    "case.filter(case.case_status == 'Open').orderBy(desc(case.SLA_days)).show(1, False, True)"
   ]
  },
  {
   "cell_type": "markdown",
   "metadata": {},
   "source": [
    "### 2. How many Stray Animal cases are there?"
   ]
  },
  {
   "cell_type": "code",
   "execution_count": 36,
   "metadata": {},
   "outputs": [
    {
     "data": {
      "text/plain": [
       "26760"
      ]
     },
     "execution_count": 36,
     "metadata": {},
     "output_type": "execute_result"
    }
   ],
   "source": [
    "#total cases of Stray Animal\n",
    "case.filter(case.service_request_type == 'Stray Animal').count()"
   ]
  },
  {
   "cell_type": "code",
   "execution_count": 37,
   "metadata": {},
   "outputs": [
    {
     "data": {
      "text/plain": [
       "26745"
      ]
     },
     "execution_count": 37,
     "metadata": {},
     "output_type": "execute_result"
    }
   ],
   "source": [
    "# open cases of Stray Animal\n",
    "case.filter(case.service_request_type == 'Stray Animal').where(case.case_closed).count()"
   ]
  },
  {
   "cell_type": "code",
   "execution_count": 38,
   "metadata": {},
   "outputs": [
    {
     "data": {
      "text/plain": [
       "15"
      ]
     },
     "execution_count": 38,
     "metadata": {},
     "output_type": "execute_result"
    }
   ],
   "source": [
    "# closed cases of Stray Animal\n",
    "case.filter(case.service_request_type == 'Stray Animal').where( case.case_closed == False).count()"
   ]
  },
  {
   "cell_type": "markdown",
   "metadata": {},
   "source": [
    "### 3. How many service requests that are assigned to the Field Operations department (dept_division) are not classified as \"Officer Standby\" request type (service_request_type)?"
   ]
  },
  {
   "cell_type": "code",
   "execution_count": 54,
   "metadata": {},
   "outputs": [
    {
     "data": {
      "text/plain": [
       "113902"
      ]
     },
     "execution_count": 54,
     "metadata": {},
     "output_type": "execute_result"
    }
   ],
   "source": [
    "case.filter(case.dept_division == \"Field Operations\")\\\n",
    ".where(case.service_request_type != 'Officer Standby').count()"
   ]
  },
  {
   "cell_type": "code",
   "execution_count": 53,
   "metadata": {},
   "outputs": [
    {
     "ename": "AnalysisException",
     "evalue": "cannot resolve '`service_request_type != \"Officer Standby\"`' given input columns: [SLA_days, case_age, case_closed, case_closed_date, case_closed_year, case_due_date, case_id, case_late, case_lifetime, case_opened_date, case_status, council_district, days_to_closed, dept_division, num_days_late, num_hours_late, num_weeks_late, request_address, service_request_type, source_id, zipcode];\n'Filter EXP('service_request_type != \"Officer Standby\")\n+- Filter (dept_division#23 = Field Operations department)\n   +- Project [case_id#16, case_opened_date#389, case_closed_date#404, case_due_date#505, case_late#346, num_days_late#21, case_closed#331, dept_division#23, service_request_type#24, SLA_days#25, case_status#26, source_id#27, request_address#520, council_district#1115, num_weeks_late#535, zipcode#579, case_age#682, days_to_closed#700, case_lifetime#719, case_closed_year#1135, (num_days_late#21 * cast(24 as double)) AS num_hours_late#1614]\n      +- Project [case_id#16, case_opened_date#389, case_closed_date#404, case_due_date#505, case_late#346, num_days_late#21, case_closed#331, dept_division#23, service_request_type#24, SLA_days#25, case_status#26, source_id#27, request_address#520, council_district#1115, num_weeks_late#535, zipcode#579, case_age#682, days_to_closed#700, case_lifetime#719, year(cast(case_closed_date#404 as date)) AS case_closed_year#1135]\n         +- Project [case_id#16, case_opened_date#389, case_closed_date#404, case_due_date#505, case_late#346, num_days_late#21, case_closed#331, dept_division#23, service_request_type#24, SLA_days#25, case_status#26, source_id#27, request_address#520, cast(council_district#563 as string) AS council_district#1115, num_weeks_late#535, zipcode#579, case_age#682, days_to_closed#700, case_lifetime#719]\n            +- Project [case_id#16, case_opened_date#389, case_closed_date#404, case_due_date#505, case_late#346, num_days_late#21, case_closed#331, dept_division#23, service_request_type#24, SLA_days#25, case_status#26, source_id#27, request_address#520, council_district#563, num_weeks_late#535, zipcode#579, case_age#682, days_to_closed#700, CASE WHEN NOT case_closed#331 THEN case_age#682 ELSE days_to_closed#700 END AS case_lifetime#719]\n               +- Project [case_id#16, case_opened_date#389, case_closed_date#404, case_due_date#505, case_late#346, num_days_late#21, case_closed#331, dept_division#23, service_request_type#24, SLA_days#25, case_status#26, source_id#27, request_address#520, council_district#563, num_weeks_late#535, zipcode#579, case_age#682, datediff(cast(case_closed_date#404 as date), cast(case_opened_date#389 as date)) AS days_to_closed#700]\n                  +- Project [case_id#16, case_opened_date#389, case_closed_date#404, case_due_date#505, case_late#346, num_days_late#21, case_closed#331, dept_division#23, service_request_type#24, SLA_days#25, case_status#26, source_id#27, request_address#520, council_district#563, num_weeks_late#535, zipcode#579, datediff(cast(current_timestamp() as date), cast(case_opened_date#389 as date)) AS case_age#682]\n                     +- Project [case_id#16, case_opened_date#389, case_closed_date#404, case_due_date#505, case_late#346, num_days_late#21, case_closed#331, dept_division#23, service_request_type#24, SLA_days#25, case_status#26, source_id#27, request_address#520, council_district#563, num_weeks_late#535, regexp_extract(request_address#520, (\\d+$), 1) AS zipcode#579]\n                        +- Project [case_id#16, case_opened_date#389, case_closed_date#404, case_due_date#505, case_late#346, num_days_late#21, case_closed#331, dept_division#23, service_request_type#24, SLA_days#25, case_status#26, source_id#27, request_address#520, format_string(%03d, cast(council_district#374 as int)) AS council_district#563, num_weeks_late#535]\n                           +- Project [case_id#16, case_opened_date#389, case_closed_date#404, case_due_date#505, case_late#346, num_days_late#21, case_closed#331, dept_division#23, service_request_type#24, SLA_days#25, case_status#26, source_id#27, request_address#520, council_district#374, (num_days_late#21 / cast(7 as double)) AS num_weeks_late#535]\n                              +- Project [case_id#16, case_opened_date#389, case_closed_date#404, case_due_date#505, case_late#346, num_days_late#21, case_closed#331, dept_division#23, service_request_type#24, SLA_days#25, case_status#26, source_id#27, trim(lower(request_address#28), None) AS request_address#520, council_district#374]\n                                 +- Project [case_id#16, case_opened_date#389, case_closed_date#404, SLA_due_date#419 AS case_due_date#505, case_late#346, num_days_late#21, case_closed#331, dept_division#23, service_request_type#24, SLA_days#25, case_status#26, source_id#27, request_address#28, council_district#374]\n                                    +- Project [case_id#16, case_opened_date#389, case_closed_date#404, to_timestamp('SLA_due_date, Some(M/d/yy H:mm)) AS SLA_due_date#419, case_late#346, num_days_late#21, case_closed#331, dept_division#23, service_request_type#24, SLA_days#25, case_status#26, source_id#27, request_address#28, council_district#374]\n                                       +- Project [case_id#16, case_opened_date#389, to_timestamp('case_closed_date, Some(M/d/yy H:mm)) AS case_closed_date#404, SLA_due_date#19, case_late#346, num_days_late#21, case_closed#331, dept_division#23, service_request_type#24, SLA_days#25, case_status#26, source_id#27, request_address#28, council_district#374]\n                                          +- Project [case_id#16, to_timestamp('case_opened_date, Some(M/d/yy H:mm)) AS case_opened_date#389, case_closed_date#18, SLA_due_date#19, case_late#346, num_days_late#21, case_closed#331, dept_division#23, service_request_type#24, SLA_days#25, case_status#26, source_id#27, request_address#28, council_district#374]\n                                             +- Project [case_id#16, case_opened_date#17, case_closed_date#18, SLA_due_date#19, case_late#346, num_days_late#21, case_closed#331, dept_division#23, service_request_type#24, SLA_days#25, case_status#26, source_id#27, request_address#28, cast(council_district#29 as string) AS council_district#374]\n                                                +- Project [case_id#16, case_opened_date#17, case_closed_date#18, SLA_due_date#19, (case_late#20 = YES) AS case_late#346, num_days_late#21, case_closed#331, dept_division#23, service_request_type#24, SLA_days#25, case_status#26, source_id#27, request_address#28, council_district#29]\n                                                   +- Project [case_id#16, case_opened_date#17, case_closed_date#18, SLA_due_date#19, case_late#20, num_days_late#21, (case_closed#22 = YES) AS case_closed#331, dept_division#23, service_request_type#24, SLA_days#25, case_status#26, source_id#27, request_address#28, council_district#29]\n                                                      +- Relation[case_id#16,case_opened_date#17,case_closed_date#18,SLA_due_date#19,case_late#20,num_days_late#21,case_closed#22,dept_division#23,service_request_type#24,SLA_days#25,case_status#26,source_id#27,request_address#28,council_district#29] csv\n",
     "output_type": "error",
     "traceback": [
      "\u001b[0;31m---------------------------------------------------------------------------\u001b[0m",
      "\u001b[0;31mAnalysisException\u001b[0m                         Traceback (most recent call last)",
      "\u001b[0;32m<ipython-input-53-8ba480192d04>\u001b[0m in \u001b[0;36m<module>\u001b[0;34m\u001b[0m\n\u001b[0;32m----> 1\u001b[0;31m (case.filter(expr('dept_division == \"Field Operations department\"'))\\\n\u001b[0m\u001b[1;32m      2\u001b[0m .where(exp('service_request_type != \"Officer Standby\"'))).count()\n",
      "\u001b[0;32m/usr/local/anaconda3/lib/python3.8/site-packages/pyspark/sql/dataframe.py\u001b[0m in \u001b[0;36mfilter\u001b[0;34m(self, condition)\u001b[0m\n\u001b[1;32m   1715\u001b[0m             \u001b[0mjdf\u001b[0m \u001b[0;34m=\u001b[0m \u001b[0mself\u001b[0m\u001b[0;34m.\u001b[0m\u001b[0m_jdf\u001b[0m\u001b[0;34m.\u001b[0m\u001b[0mfilter\u001b[0m\u001b[0;34m(\u001b[0m\u001b[0mcondition\u001b[0m\u001b[0;34m)\u001b[0m\u001b[0;34m\u001b[0m\u001b[0;34m\u001b[0m\u001b[0m\n\u001b[1;32m   1716\u001b[0m         \u001b[0;32melif\u001b[0m \u001b[0misinstance\u001b[0m\u001b[0;34m(\u001b[0m\u001b[0mcondition\u001b[0m\u001b[0;34m,\u001b[0m \u001b[0mColumn\u001b[0m\u001b[0;34m)\u001b[0m\u001b[0;34m:\u001b[0m\u001b[0;34m\u001b[0m\u001b[0;34m\u001b[0m\u001b[0m\n\u001b[0;32m-> 1717\u001b[0;31m             \u001b[0mjdf\u001b[0m \u001b[0;34m=\u001b[0m \u001b[0mself\u001b[0m\u001b[0;34m.\u001b[0m\u001b[0m_jdf\u001b[0m\u001b[0;34m.\u001b[0m\u001b[0mfilter\u001b[0m\u001b[0;34m(\u001b[0m\u001b[0mcondition\u001b[0m\u001b[0;34m.\u001b[0m\u001b[0m_jc\u001b[0m\u001b[0;34m)\u001b[0m\u001b[0;34m\u001b[0m\u001b[0;34m\u001b[0m\u001b[0m\n\u001b[0m\u001b[1;32m   1718\u001b[0m         \u001b[0;32melse\u001b[0m\u001b[0;34m:\u001b[0m\u001b[0;34m\u001b[0m\u001b[0;34m\u001b[0m\u001b[0m\n\u001b[1;32m   1719\u001b[0m             \u001b[0;32mraise\u001b[0m \u001b[0mTypeError\u001b[0m\u001b[0;34m(\u001b[0m\u001b[0;34m\"condition should be string or Column\"\u001b[0m\u001b[0;34m)\u001b[0m\u001b[0;34m\u001b[0m\u001b[0;34m\u001b[0m\u001b[0m\n",
      "\u001b[0;32m/usr/local/anaconda3/lib/python3.8/site-packages/py4j/java_gateway.py\u001b[0m in \u001b[0;36m__call__\u001b[0;34m(self, *args)\u001b[0m\n\u001b[1;32m   1302\u001b[0m \u001b[0;34m\u001b[0m\u001b[0m\n\u001b[1;32m   1303\u001b[0m         \u001b[0manswer\u001b[0m \u001b[0;34m=\u001b[0m \u001b[0mself\u001b[0m\u001b[0;34m.\u001b[0m\u001b[0mgateway_client\u001b[0m\u001b[0;34m.\u001b[0m\u001b[0msend_command\u001b[0m\u001b[0;34m(\u001b[0m\u001b[0mcommand\u001b[0m\u001b[0;34m)\u001b[0m\u001b[0;34m\u001b[0m\u001b[0;34m\u001b[0m\u001b[0m\n\u001b[0;32m-> 1304\u001b[0;31m         return_value = get_return_value(\n\u001b[0m\u001b[1;32m   1305\u001b[0m             answer, self.gateway_client, self.target_id, self.name)\n\u001b[1;32m   1306\u001b[0m \u001b[0;34m\u001b[0m\u001b[0m\n",
      "\u001b[0;32m/usr/local/anaconda3/lib/python3.8/site-packages/pyspark/sql/utils.py\u001b[0m in \u001b[0;36mdeco\u001b[0;34m(*a, **kw)\u001b[0m\n\u001b[1;32m    115\u001b[0m                 \u001b[0;31m# Hide where the exception came from that shows a non-Pythonic\u001b[0m\u001b[0;34m\u001b[0m\u001b[0;34m\u001b[0m\u001b[0;34m\u001b[0m\u001b[0m\n\u001b[1;32m    116\u001b[0m                 \u001b[0;31m# JVM exception message.\u001b[0m\u001b[0;34m\u001b[0m\u001b[0;34m\u001b[0m\u001b[0;34m\u001b[0m\u001b[0m\n\u001b[0;32m--> 117\u001b[0;31m                 \u001b[0;32mraise\u001b[0m \u001b[0mconverted\u001b[0m \u001b[0;32mfrom\u001b[0m \u001b[0;32mNone\u001b[0m\u001b[0;34m\u001b[0m\u001b[0;34m\u001b[0m\u001b[0m\n\u001b[0m\u001b[1;32m    118\u001b[0m             \u001b[0;32melse\u001b[0m\u001b[0;34m:\u001b[0m\u001b[0;34m\u001b[0m\u001b[0;34m\u001b[0m\u001b[0m\n\u001b[1;32m    119\u001b[0m                 \u001b[0;32mraise\u001b[0m\u001b[0;34m\u001b[0m\u001b[0;34m\u001b[0m\u001b[0m\n",
      "\u001b[0;31mAnalysisException\u001b[0m: cannot resolve '`service_request_type != \"Officer Standby\"`' given input columns: [SLA_days, case_age, case_closed, case_closed_date, case_closed_year, case_due_date, case_id, case_late, case_lifetime, case_opened_date, case_status, council_district, days_to_closed, dept_division, num_days_late, num_hours_late, num_weeks_late, request_address, service_request_type, source_id, zipcode];\n'Filter EXP('service_request_type != \"Officer Standby\")\n+- Filter (dept_division#23 = Field Operations department)\n   +- Project [case_id#16, case_opened_date#389, case_closed_date#404, case_due_date#505, case_late#346, num_days_late#21, case_closed#331, dept_division#23, service_request_type#24, SLA_days#25, case_status#26, source_id#27, request_address#520, council_district#1115, num_weeks_late#535, zipcode#579, case_age#682, days_to_closed#700, case_lifetime#719, case_closed_year#1135, (num_days_late#21 * cast(24 as double)) AS num_hours_late#1614]\n      +- Project [case_id#16, case_opened_date#389, case_closed_date#404, case_due_date#505, case_late#346, num_days_late#21, case_closed#331, dept_division#23, service_request_type#24, SLA_days#25, case_status#26, source_id#27, request_address#520, council_district#1115, num_weeks_late#535, zipcode#579, case_age#682, days_to_closed#700, case_lifetime#719, year(cast(case_closed_date#404 as date)) AS case_closed_year#1135]\n         +- Project [case_id#16, case_opened_date#389, case_closed_date#404, case_due_date#505, case_late#346, num_days_late#21, case_closed#331, dept_division#23, service_request_type#24, SLA_days#25, case_status#26, source_id#27, request_address#520, cast(council_district#563 as string) AS council_district#1115, num_weeks_late#535, zipcode#579, case_age#682, days_to_closed#700, case_lifetime#719]\n            +- Project [case_id#16, case_opened_date#389, case_closed_date#404, case_due_date#505, case_late#346, num_days_late#21, case_closed#331, dept_division#23, service_request_type#24, SLA_days#25, case_status#26, source_id#27, request_address#520, council_district#563, num_weeks_late#535, zipcode#579, case_age#682, days_to_closed#700, CASE WHEN NOT case_closed#331 THEN case_age#682 ELSE days_to_closed#700 END AS case_lifetime#719]\n               +- Project [case_id#16, case_opened_date#389, case_closed_date#404, case_due_date#505, case_late#346, num_days_late#21, case_closed#331, dept_division#23, service_request_type#24, SLA_days#25, case_status#26, source_id#27, request_address#520, council_district#563, num_weeks_late#535, zipcode#579, case_age#682, datediff(cast(case_closed_date#404 as date), cast(case_opened_date#389 as date)) AS days_to_closed#700]\n                  +- Project [case_id#16, case_opened_date#389, case_closed_date#404, case_due_date#505, case_late#346, num_days_late#21, case_closed#331, dept_division#23, service_request_type#24, SLA_days#25, case_status#26, source_id#27, request_address#520, council_district#563, num_weeks_late#535, zipcode#579, datediff(cast(current_timestamp() as date), cast(case_opened_date#389 as date)) AS case_age#682]\n                     +- Project [case_id#16, case_opened_date#389, case_closed_date#404, case_due_date#505, case_late#346, num_days_late#21, case_closed#331, dept_division#23, service_request_type#24, SLA_days#25, case_status#26, source_id#27, request_address#520, council_district#563, num_weeks_late#535, regexp_extract(request_address#520, (\\d+$), 1) AS zipcode#579]\n                        +- Project [case_id#16, case_opened_date#389, case_closed_date#404, case_due_date#505, case_late#346, num_days_late#21, case_closed#331, dept_division#23, service_request_type#24, SLA_days#25, case_status#26, source_id#27, request_address#520, format_string(%03d, cast(council_district#374 as int)) AS council_district#563, num_weeks_late#535]\n                           +- Project [case_id#16, case_opened_date#389, case_closed_date#404, case_due_date#505, case_late#346, num_days_late#21, case_closed#331, dept_division#23, service_request_type#24, SLA_days#25, case_status#26, source_id#27, request_address#520, council_district#374, (num_days_late#21 / cast(7 as double)) AS num_weeks_late#535]\n                              +- Project [case_id#16, case_opened_date#389, case_closed_date#404, case_due_date#505, case_late#346, num_days_late#21, case_closed#331, dept_division#23, service_request_type#24, SLA_days#25, case_status#26, source_id#27, trim(lower(request_address#28), None) AS request_address#520, council_district#374]\n                                 +- Project [case_id#16, case_opened_date#389, case_closed_date#404, SLA_due_date#419 AS case_due_date#505, case_late#346, num_days_late#21, case_closed#331, dept_division#23, service_request_type#24, SLA_days#25, case_status#26, source_id#27, request_address#28, council_district#374]\n                                    +- Project [case_id#16, case_opened_date#389, case_closed_date#404, to_timestamp('SLA_due_date, Some(M/d/yy H:mm)) AS SLA_due_date#419, case_late#346, num_days_late#21, case_closed#331, dept_division#23, service_request_type#24, SLA_days#25, case_status#26, source_id#27, request_address#28, council_district#374]\n                                       +- Project [case_id#16, case_opened_date#389, to_timestamp('case_closed_date, Some(M/d/yy H:mm)) AS case_closed_date#404, SLA_due_date#19, case_late#346, num_days_late#21, case_closed#331, dept_division#23, service_request_type#24, SLA_days#25, case_status#26, source_id#27, request_address#28, council_district#374]\n                                          +- Project [case_id#16, to_timestamp('case_opened_date, Some(M/d/yy H:mm)) AS case_opened_date#389, case_closed_date#18, SLA_due_date#19, case_late#346, num_days_late#21, case_closed#331, dept_division#23, service_request_type#24, SLA_days#25, case_status#26, source_id#27, request_address#28, council_district#374]\n                                             +- Project [case_id#16, case_opened_date#17, case_closed_date#18, SLA_due_date#19, case_late#346, num_days_late#21, case_closed#331, dept_division#23, service_request_type#24, SLA_days#25, case_status#26, source_id#27, request_address#28, cast(council_district#29 as string) AS council_district#374]\n                                                +- Project [case_id#16, case_opened_date#17, case_closed_date#18, SLA_due_date#19, (case_late#20 = YES) AS case_late#346, num_days_late#21, case_closed#331, dept_division#23, service_request_type#24, SLA_days#25, case_status#26, source_id#27, request_address#28, council_district#29]\n                                                   +- Project [case_id#16, case_opened_date#17, case_closed_date#18, SLA_due_date#19, case_late#20, num_days_late#21, (case_closed#22 = YES) AS case_closed#331, dept_division#23, service_request_type#24, SLA_days#25, case_status#26, source_id#27, request_address#28, council_district#29]\n                                                      +- Relation[case_id#16,case_opened_date#17,case_closed_date#18,SLA_due_date#19,case_late#20,num_days_late#21,case_closed#22,dept_division#23,service_request_type#24,SLA_days#25,case_status#26,source_id#27,request_address#28,council_district#29] csv\n"
     ]
    }
   ],
   "source": [
    "# (case.filter(expr('dept_division == \"Field Operations\"'))\\\n",
    "# .where(exp('service_request_type != \"Officer Standby\"'))).count()"
   ]
  },
  {
   "cell_type": "markdown",
   "metadata": {},
   "source": [
    "### 4. Convert the council_district column to a string column."
   ]
  },
  {
   "cell_type": "code",
   "execution_count": 40,
   "metadata": {},
   "outputs": [],
   "source": [
    "# council_district as a string instead of int\n",
    "case = case.withColumn('council_district', col('council_district').cast('string'))"
   ]
  },
  {
   "cell_type": "markdown",
   "metadata": {},
   "source": [
    "### 5. Extract the year from the case_closed_date column."
   ]
  },
  {
   "cell_type": "code",
   "execution_count": 41,
   "metadata": {
    "scrolled": true
   },
   "outputs": [],
   "source": [
    "case = case.withColumn(\"case_closed_year\", year(\"case_closed_date\"))"
   ]
  },
  {
   "cell_type": "code",
   "execution_count": 42,
   "metadata": {},
   "outputs": [
    {
     "name": "stdout",
     "output_type": "stream",
     "text": [
      "-RECORD 0----------------------------------------------------\n",
      " case_id              | 1014127332                           \n",
      " case_opened_date     | 2018-01-01 00:42:00                  \n",
      " case_closed_date     | 2018-01-01 12:29:00                  \n",
      " case_due_date        | 2020-09-26 00:42:00                  \n",
      " case_late            | false                                \n",
      " num_days_late        | -998.5087616000001                   \n",
      " case_closed          | true                                 \n",
      " dept_division        | Field Operations                     \n",
      " service_request_type | Stray Animal                         \n",
      " SLA_days             | 999.0                                \n",
      " case_status          | Closed                               \n",
      " source_id            | svcCRMLS                             \n",
      " request_address      | 2315  el paso st, san antonio, 78207 \n",
      " council_district     | 005                                  \n",
      " num_weeks_late       | -142.6441088                         \n",
      " zipcode              | 78207                                \n",
      " case_age             | 1313                                 \n",
      " days_to_closed       | 0                                    \n",
      " case_lifetime        | 0                                    \n",
      " case_closed_year     | 2018                                 \n",
      "-RECORD 1----------------------------------------------------\n",
      " case_id              | 1014127333                           \n",
      " case_opened_date     | 2018-01-01 00:46:00                  \n",
      " case_closed_date     | 2018-01-03 08:11:00                  \n",
      " case_due_date        | 2018-01-05 08:30:00                  \n",
      " case_late            | false                                \n",
      " num_days_late        | -2.0126041669999997                  \n",
      " case_closed          | true                                 \n",
      " dept_division        | Storm Water                          \n",
      " service_request_type | Removal Of Obstruction               \n",
      " SLA_days             | 4.322222222                          \n",
      " case_status          | Closed                               \n",
      " source_id            | svcCRMSS                             \n",
      " request_address      | 2215  goliad rd, san antonio, 78223  \n",
      " council_district     | 003                                  \n",
      " num_weeks_late       | -0.28751488099999994                 \n",
      " zipcode              | 78223                                \n",
      " case_age             | 1313                                 \n",
      " days_to_closed       | 2                                    \n",
      " case_lifetime        | 2                                    \n",
      " case_closed_year     | 2018                                 \n",
      "only showing top 2 rows\n",
      "\n"
     ]
    }
   ],
   "source": [
    "case.show(2, False, True)"
   ]
  },
  {
   "cell_type": "markdown",
   "metadata": {},
   "source": [
    "### 6. Convert num_days_late from days to hours in new columns num_hours_late."
   ]
  },
  {
   "cell_type": "code",
   "execution_count": 46,
   "metadata": {
    "scrolled": true
   },
   "outputs": [
    {
     "name": "stdout",
     "output_type": "stream",
     "text": [
      "-RECORD 0----------------------------------------------------\n",
      " case_id              | 1014127332                           \n",
      " case_opened_date     | 2018-01-01 00:42:00                  \n",
      " case_closed_date     | 2018-01-01 12:29:00                  \n",
      " case_due_date        | 2020-09-26 00:42:00                  \n",
      " case_late            | false                                \n",
      " num_days_late        | -998.5087616000001                   \n",
      " case_closed          | true                                 \n",
      " dept_division        | Field Operations                     \n",
      " service_request_type | Stray Animal                         \n",
      " SLA_days             | 999.0                                \n",
      " case_status          | Closed                               \n",
      " source_id            | svcCRMLS                             \n",
      " request_address      | 2315  el paso st, san antonio, 78207 \n",
      " council_district     | 005                                  \n",
      " num_weeks_late       | -142.6441088                         \n",
      " zipcode              | 78207                                \n",
      " case_age             | 1313                                 \n",
      " days_to_closed       | 0                                    \n",
      " case_lifetime        | 0                                    \n",
      " case_closed_year     | 2018                                 \n",
      " num_hours_late       | -23964.2102784                       \n",
      "only showing top 1 row\n",
      "\n"
     ]
    }
   ],
   "source": [
    "case.withColumn('num_hours_late', case.num_days_late * 24).show(1, False, True)"
   ]
  },
  {
   "cell_type": "code",
   "execution_count": 47,
   "metadata": {},
   "outputs": [],
   "source": [
    "case = case.withColumn('num_hours_late', case.num_days_late * 24)"
   ]
  },
  {
   "cell_type": "markdown",
   "metadata": {},
   "source": [
    "### 7. Join the case data with the source and department data."
   ]
  },
  {
   "cell_type": "code",
   "execution_count": 49,
   "metadata": {
    "scrolled": true
   },
   "outputs": [
    {
     "name": "stdout",
     "output_type": "stream",
     "text": [
      "+---------------+--------------------+----------------------+-------------------+\n",
      "|  dept_division|           dept_name|standardized_dept_name|dept_subject_to_SLA|\n",
      "+---------------+--------------------+----------------------+-------------------+\n",
      "|311 Call Center|    Customer Service|      Customer Service|               true|\n",
      "|          Brush|Solid Waste Manag...|           Solid Waste|               true|\n",
      "|Clean and Green|Parks and Recreation|    Parks & Recreation|               true|\n",
      "+---------------+--------------------+----------------------+-------------------+\n",
      "only showing top 3 rows\n",
      "\n"
     ]
    }
   ],
   "source": [
    "dept.show(3)"
   ]
  },
  {
   "cell_type": "code",
   "execution_count": 55,
   "metadata": {},
   "outputs": [
    {
     "name": "stdout",
     "output_type": "stream",
     "text": [
      "-RECORD 0----------------------------------------------------\n",
      " case_id              | 1014127332                           \n",
      " case_opened_date     | 2018-01-01 00:42:00                  \n",
      " case_closed_date     | 2018-01-01 12:29:00                  \n",
      " case_due_date        | 2020-09-26 00:42:00                  \n",
      " case_late            | false                                \n",
      " num_days_late        | -998.5087616000001                   \n",
      " case_closed          | true                                 \n",
      " dept_division        | Field Operations                     \n",
      " service_request_type | Stray Animal                         \n",
      " SLA_days             | 999.0                                \n",
      " case_status          | Closed                               \n",
      " source_id            | svcCRMLS                             \n",
      " request_address      | 2315  el paso st, san antonio, 78207 \n",
      " council_district     | 005                                  \n",
      " num_weeks_late       | -142.6441088                         \n",
      " zipcode              | 78207                                \n",
      " case_age             | 1313                                 \n",
      " days_to_closed       | 0                                    \n",
      " case_lifetime        | 0                                    \n",
      " case_closed_year     | 2018                                 \n",
      " num_hours_late       | -23964.2102784                       \n",
      "only showing top 1 row\n",
      "\n"
     ]
    }
   ],
   "source": [
    "case.show(1, False, True)"
   ]
  },
  {
   "cell_type": "code",
   "execution_count": 57,
   "metadata": {},
   "outputs": [],
   "source": [
    "df = (\n",
    "    case\n",
    "    # left join on dept_division\n",
    "    .join(dept, \"dept_division\", \"left\")\n",
    "    # drop all the columns except for standardized name, as it has much fewer unique values\n",
    "    .drop(dept.dept_division)\n",
    "    .drop(dept.dept_name)\n",
    "    .withColumnRenamed(\"standardized_dept_name\", \"department\")\n",
    ")\n",
    "\n"
   ]
  },
  {
   "cell_type": "code",
   "execution_count": 58,
   "metadata": {},
   "outputs": [
    {
     "name": "stdout",
     "output_type": "stream",
     "text": [
      "-RECORD 0----------------------------------------------------\n",
      " dept_division        | Field Operations                     \n",
      " case_id              | 1014127332                           \n",
      " case_opened_date     | 2018-01-01 00:42:00                  \n",
      " case_closed_date     | 2018-01-01 12:29:00                  \n",
      " case_due_date        | 2020-09-26 00:42:00                  \n",
      " case_late            | false                                \n",
      " num_days_late        | -998.5087616000001                   \n",
      " case_closed          | true                                 \n",
      " service_request_type | Stray Animal                         \n",
      " SLA_days             | 999.0                                \n",
      " case_status          | Closed                               \n",
      " source_id            | svcCRMLS                             \n",
      " request_address      | 2315  el paso st, san antonio, 78207 \n",
      " council_district     | 005                                  \n",
      " num_weeks_late       | -142.6441088                         \n",
      " zipcode              | 78207                                \n",
      " case_age             | 1313                                 \n",
      " days_to_closed       | 0                                    \n",
      " case_lifetime        | 0                                    \n",
      " case_closed_year     | 2018                                 \n",
      " num_hours_late       | -23964.2102784                       \n",
      " department           | Animal Care Services                 \n",
      " dept_subject_to_SLA  | true                                 \n",
      "-RECORD 1----------------------------------------------------\n",
      " dept_division        | Storm Water                          \n",
      " case_id              | 1014127333                           \n",
      " case_opened_date     | 2018-01-01 00:46:00                  \n",
      " case_closed_date     | 2018-01-03 08:11:00                  \n",
      " case_due_date        | 2018-01-05 08:30:00                  \n",
      " case_late            | false                                \n",
      " num_days_late        | -2.0126041669999997                  \n",
      " case_closed          | true                                 \n",
      " service_request_type | Removal Of Obstruction               \n",
      " SLA_days             | 4.322222222                          \n",
      " case_status          | Closed                               \n",
      " source_id            | svcCRMSS                             \n",
      " request_address      | 2215  goliad rd, san antonio, 78223  \n",
      " council_district     | 003                                  \n",
      " num_weeks_late       | -0.28751488099999994                 \n",
      " zipcode              | 78223                                \n",
      " case_age             | 1313                                 \n",
      " days_to_closed       | 2                                    \n",
      " case_lifetime        | 2                                    \n",
      " case_closed_year     | 2018                                 \n",
      " num_hours_late       | -48.302500007999996                  \n",
      " department           | Trans & Cap Improvements             \n",
      " dept_subject_to_SLA  | true                                 \n",
      "only showing top 2 rows\n",
      "\n"
     ]
    }
   ],
   "source": [
    "df.show(2, False, True)"
   ]
  },
  {
   "cell_type": "markdown",
   "metadata": {},
   "source": [
    "### 8. Are there any cases that do not have a request source?"
   ]
  },
  {
   "cell_type": "code",
   "execution_count": 124,
   "metadata": {
    "scrolled": false
   },
   "outputs": [
    {
     "name": "stdout",
     "output_type": "stream",
     "text": [
      "(0 rows)\n",
      "\n"
     ]
    }
   ],
   "source": [
    "# missing values \n",
    "df.filter(\"source_id is null\").show(5,False, True)"
   ]
  },
  {
   "cell_type": "code",
   "execution_count": 122,
   "metadata": {},
   "outputs": [
    {
     "name": "stdout",
     "output_type": "stream",
     "text": [
      "(0 rows)\n",
      "\n"
     ]
    }
   ],
   "source": [
    "#other way\n",
    "df.where(df.source_id.isNull()).show(3, False, True)"
   ]
  },
  {
   "cell_type": "code",
   "execution_count": 118,
   "metadata": {
    "scrolled": false
   },
   "outputs": [
    {
     "data": {
      "text/plain": [
       "Column<'(source_id IS NULL)'>"
      ]
     },
     "execution_count": 118,
     "metadata": {},
     "output_type": "execute_result"
    }
   ],
   "source": [
    "df.source_id.isNull()"
   ]
  },
  {
   "cell_type": "code",
   "execution_count": 96,
   "metadata": {
    "scrolled": false
   },
   "outputs": [
    {
     "name": "stdout",
     "output_type": "stream",
     "text": [
      "+--------------------+\n",
      "|service_request_type|\n",
      "+--------------------+\n",
      "+--------------------+\n",
      "\n"
     ]
    }
   ],
   "source": [
    "df.select(\"service_request_type\").filter(\"service_request_type is null\").show()"
   ]
  },
  {
   "cell_type": "markdown",
   "metadata": {},
   "source": [
    "### 9. What are the top 10 service request types in terms of number of requests?"
   ]
  },
  {
   "cell_type": "code",
   "execution_count": 61,
   "metadata": {
    "scrolled": true
   },
   "outputs": [
    {
     "name": "stdout",
     "output_type": "stream",
     "text": [
      "+--------------------------------------+-----+\n",
      "|service_request_type                  |count|\n",
      "+--------------------------------------+-----+\n",
      "|Minimum Housing-Owner Occupied        |8543 |\n",
      "|Tree Removal                          |298  |\n",
      "|Service Information                   |160  |\n",
      "|Sign Maintenance                      |82   |\n",
      "|Park Building Maint Invest            |48   |\n",
      "|Brush Property Damage                 |184  |\n",
      "|Graffiti: Private Property (Corridors)|8525 |\n",
      "|Traffic Sign Graffiti                 |2123 |\n",
      "|License Renewal Invoice               |1349 |\n",
      "|Used/Scrap Tire Facility Registration |19   |\n",
      "|Guardrail- New Request                |100  |\n",
      "|Markings Installation SMO (NEW)       |8    |\n",
      "|CCO_Request for Research/Information_1|2    |\n",
      "|Sewer Line Broken                     |1107 |\n",
      "|Zoning: Multi-Family In Single        |735  |\n",
      "|Engineering Investigation             |489  |\n",
      "|Zoning: Setbacks                      |809  |\n",
      "|Traffic Sign Faded                    |2122 |\n",
      "|Permits, Fences                       |1137 |\n",
      "|Certificates of Occupancy             |1571 |\n",
      "+--------------------------------------+-----+\n",
      "only showing top 20 rows\n",
      "\n"
     ]
    }
   ],
   "source": [
    "df.groupBy(\"service_request_type\").count().show(truncate= False)"
   ]
  },
  {
   "cell_type": "code",
   "execution_count": 65,
   "metadata": {},
   "outputs": [
    {
     "name": "stdout",
     "output_type": "stream",
     "text": [
      "+--------------------------------+-----+\n",
      "|service_request_type            |count|\n",
      "+--------------------------------+-----+\n",
      "|No Pickup                       |86855|\n",
      "|Overgrown Yard/Trash            |65895|\n",
      "|Bandit Signs                    |32910|\n",
      "|Damaged Cart                    |30338|\n",
      "|Front Or Side Yard Parking      |28794|\n",
      "|Stray Animal                    |26760|\n",
      "|Aggressive Animal(Non-Critical) |24882|\n",
      "|Cart Exchange Request           |22024|\n",
      "|Junk Vehicle On Private Property|21473|\n",
      "|Pot Hole Repair                 |20616|\n",
      "+--------------------------------+-----+\n",
      "only showing top 10 rows\n",
      "\n"
     ]
    }
   ],
   "source": [
    "df.groupBy(\"service_request_type\").count().orderBy(desc(\"count\")).show(10, truncate= False)"
   ]
  },
  {
   "cell_type": "markdown",
   "metadata": {},
   "source": [
    "### 10. What are the top 10 service request types in terms of average days late?"
   ]
  },
  {
   "cell_type": "code",
   "execution_count": 129,
   "metadata": {
    "scrolled": false
   },
   "outputs": [
    {
     "name": "stdout",
     "output_type": "stream",
     "text": [
      "+--------------------------------------+------------------+\n",
      "|service_request_type                  |avg(num_days_late)|\n",
      "+--------------------------------------+------------------+\n",
      "|Zoning: Junk Yards                    |175.9563621042095 |\n",
      "|Labeling for Used Mattress            |162.43032902285717|\n",
      "|Record Keeping of Used Mattresses     |153.99724039428568|\n",
      "|Signage Requied for Sale of Used Mattr|151.63868055333333|\n",
      "|Storage of Used Mattress              |142.112556415     |\n",
      "|Zoning: Recycle Yard                  |135.92851612479797|\n",
      "|Donation Container Enforcement        |131.75610506358706|\n",
      "|License Requied Used Mattress Sales   |128.79828704142858|\n",
      "|Traffic Signal Graffiti               |77.90021217000002 |\n",
      "|Complaint                             |72.51790932659713 |\n",
      "+--------------------------------------+------------------+\n",
      "only showing top 10 rows\n",
      "\n"
     ]
    }
   ],
   "source": [
    "df.groupBy(\"service_request_type\").mean(\"num_days_late\").orderBy(desc('avg(num_days_late)')).show(10, truncate= False)"
   ]
  },
  {
   "cell_type": "code",
   "execution_count": 130,
   "metadata": {
    "scrolled": true
   },
   "outputs": [
    {
     "name": "stdout",
     "output_type": "stream",
     "text": [
      "+--------------------------------------+-------------------+\n",
      "|service_request_type                  |avg(num_days_late) |\n",
      "+--------------------------------------+-------------------+\n",
      "|CCO_Request for Research/Information_1|null               |\n",
      "|Request for Research/Information      |null               |\n",
      "|Engineering Design                    |-1399.1272335      |\n",
      "|Signal Timing Modification By Engineer|-1247.0797799732143|\n",
      "|Stray Animal                          |-998.804572616083  |\n",
      "|Major Park Improvement Install        |-280.2546235360405 |\n",
      "|Sidewalk Cost Sharing Program         |-184.87626063647144|\n",
      "|Multi Tenant Exterior                 |-135.71588128047625|\n",
      "|CPS Energy Towers                     |-129.84778717829747|\n",
      "|CPS Energy Wood Poles                 |-129.30905202721226|\n",
      "+--------------------------------------+-------------------+\n",
      "only showing top 10 rows\n",
      "\n"
     ]
    }
   ],
   "source": [
    "df.groupBy(\"service_request_type\").mean(\"num_days_late\").orderBy('avg(num_days_late)').show(10, truncate= False)"
   ]
  },
  {
   "cell_type": "code",
   "execution_count": 133,
   "metadata": {},
   "outputs": [
    {
     "name": "stdout",
     "output_type": "stream",
     "text": [
      "-RECORD 0-------------------------------------------------------\n",
      " dept_division        | District 2                              \n",
      " case_id              | 1014206419                              \n",
      " case_opened_date     | 2018-01-30 16:54:00                     \n",
      " case_closed_date     | null                                    \n",
      " case_due_date        | null                                    \n",
      " case_late            | false                                   \n",
      " num_days_late        | null                                    \n",
      " case_closed          | false                                   \n",
      " service_request_type | Request for Research/Information        \n",
      " SLA_days             | null                                    \n",
      " case_status          | Open                                    \n",
      " source_id            | 139868                                  \n",
      " request_address      | 5118  village trail, san antonio, 78218 \n",
      " council_district     | 002                                     \n",
      " num_weeks_late       | null                                    \n",
      " zipcode              | 78218                                   \n",
      " case_age             | 1284                                    \n",
      " days_to_closed       | null                                    \n",
      " case_lifetime        | 1284                                    \n",
      " case_closed_year     | null                                    \n",
      " num_hours_late       | null                                    \n",
      " department           | City Council                            \n",
      " dept_subject_to_SLA  | false                                   \n",
      "-RECORD 1-------------------------------------------------------\n",
      " dept_division        | District 1                              \n",
      " case_id              | 1014263058                              \n",
      " case_opened_date     | 2018-02-21 14:21:00                     \n",
      " case_closed_date     | null                                    \n",
      " case_due_date        | null                                    \n",
      " case_late            | false                                   \n",
      " num_days_late        | null                                    \n",
      " case_closed          | false                                   \n",
      " service_request_type | Request for Research/Information        \n",
      " SLA_days             | null                                    \n",
      " case_status          | Open                                    \n",
      " source_id            | FC24472                                 \n",
      " request_address      | kendall st and st marys n               \n",
      " council_district     | 001                                     \n",
      " num_weeks_late       | null                                    \n",
      " zipcode              |                                         \n",
      " case_age             | 1262                                    \n",
      " days_to_closed       | null                                    \n",
      " case_lifetime        | 1262                                    \n",
      " case_closed_year     | null                                    \n",
      " num_hours_late       | null                                    \n",
      " department           | City Council                            \n",
      " dept_subject_to_SLA  | false                                   \n",
      "-RECORD 2-------------------------------------------------------\n",
      " dept_division        | District 2                              \n",
      " case_id              | 1014330430                              \n",
      " case_opened_date     | 2018-03-15 16:10:00                     \n",
      " case_closed_date     | null                                    \n",
      " case_due_date        | null                                    \n",
      " case_late            | false                                   \n",
      " num_days_late        | null                                    \n",
      " case_closed          | false                                   \n",
      " service_request_type | Request for Research/Information        \n",
      " SLA_days             | null                                    \n",
      " case_status          | Open                                    \n",
      " source_id            | RG26608                                 \n",
      " request_address      | austin hwy and harry wurzbach           \n",
      " council_district     | 010                                     \n",
      " num_weeks_late       | null                                    \n",
      " zipcode              |                                         \n",
      " case_age             | 1240                                    \n",
      " days_to_closed       | null                                    \n",
      " case_lifetime        | 1240                                    \n",
      " case_closed_year     | null                                    \n",
      " num_hours_late       | null                                    \n",
      " department           | City Council                            \n",
      " dept_subject_to_SLA  | false                                   \n",
      "-RECORD 3-------------------------------------------------------\n",
      " dept_division        | District 1                              \n",
      " case_id              | 1014351173                              \n",
      " case_opened_date     | 2018-03-22 12:06:00                     \n",
      " case_closed_date     | 2018-04-11 14:33:00                     \n",
      " case_due_date        | null                                    \n",
      " case_late            | false                                   \n",
      " num_days_late        | null                                    \n",
      " case_closed          | true                                    \n",
      " service_request_type | Request for Research/Information        \n",
      " SLA_days             | null                                    \n",
      " case_status          | Closed                                  \n",
      " source_id            | 140508                                  \n",
      " request_address      | broadway and greenbrier                 \n",
      " council_district     | 001                                     \n",
      " num_weeks_late       | null                                    \n",
      " zipcode              |                                         \n",
      " case_age             | 1233                                    \n",
      " days_to_closed       | 20                                      \n",
      " case_lifetime        | 20                                      \n",
      " case_closed_year     | 2018                                    \n",
      " num_hours_late       | null                                    \n",
      " department           | City Council                            \n",
      " dept_subject_to_SLA  | false                                   \n",
      "-RECORD 4-------------------------------------------------------\n",
      " dept_division        | District 6                              \n",
      " case_id              | 1014365560                              \n",
      " case_opened_date     | 2018-03-27 10:53:00                     \n",
      " case_closed_date     | null                                    \n",
      " case_due_date        | null                                    \n",
      " case_late            | false                                   \n",
      " num_days_late        | null                                    \n",
      " case_closed          | false                                   \n",
      " service_request_type | Request for Research/Information        \n",
      " SLA_days             | null                                    \n",
      " case_status          | Open                                    \n",
      " source_id            | 140508                                  \n",
      " request_address      | 5103  colton creek, san antonio, 78251  \n",
      " council_district     | 006                                     \n",
      " num_weeks_late       | null                                    \n",
      " zipcode              | 78251                                   \n",
      " case_age             | 1228                                    \n",
      " days_to_closed       | null                                    \n",
      " case_lifetime        | 1228                                    \n",
      " case_closed_year     | null                                    \n",
      " num_hours_late       | null                                    \n",
      " department           | City Council                            \n",
      " dept_subject_to_SLA  | false                                   \n",
      "-RECORD 5-------------------------------------------------------\n",
      " dept_division        | District 3                              \n",
      " case_id              | 1014393735                              \n",
      " case_opened_date     | 2018-04-04 16:31:00                     \n",
      " case_closed_date     | null                                    \n",
      " case_due_date        | null                                    \n",
      " case_late            | false                                   \n",
      " num_days_late        | null                                    \n",
      " case_closed          | false                                   \n",
      " service_request_type | Request for Research/Information        \n",
      " SLA_days             | null                                    \n",
      " case_status          | Open                                    \n",
      " source_id            | np26458                                 \n",
      " request_address      | offer and southcross e                  \n",
      " council_district     | 003                                     \n",
      " num_weeks_late       | null                                    \n",
      " zipcode              |                                         \n",
      " case_age             | 1220                                    \n",
      " days_to_closed       | null                                    \n",
      " case_lifetime        | 1220                                    \n",
      " case_closed_year     | null                                    \n",
      " num_hours_late       | null                                    \n",
      " department           | City Council                            \n",
      " dept_subject_to_SLA  | false                                   \n",
      "-RECORD 6-------------------------------------------------------\n",
      " dept_division        | District 8                              \n",
      " case_id              | 1014397247                              \n",
      " case_opened_date     | 2018-04-05 14:59:00                     \n",
      " case_closed_date     | null                                    \n",
      " case_due_date        | null                                    \n",
      " case_late            | false                                   \n",
      " num_days_late        | null                                    \n",
      " case_closed          | false                                   \n",
      " service_request_type | Request for Research/Information        \n",
      " SLA_days             | null                                    \n",
      " case_status          | Open                                    \n",
      " source_id            | 140508                                  \n",
      " request_address      | huebner rd and vance jackson            \n",
      " council_district     | 008                                     \n",
      " num_weeks_late       | null                                    \n",
      " zipcode              |                                         \n",
      " case_age             | 1219                                    \n",
      " days_to_closed       | null                                    \n",
      " case_lifetime        | 1219                                    \n",
      " case_closed_year     | null                                    \n",
      " num_hours_late       | null                                    \n",
      " department           | City Council                            \n",
      " dept_subject_to_SLA  | false                                   \n",
      "-RECORD 7-------------------------------------------------------\n",
      " dept_division        | District 8                              \n",
      " case_id              | 1014433728                              \n",
      " case_opened_date     | 2018-04-17 15:20:00                     \n",
      " case_closed_date     | null                                    \n",
      " case_due_date        | null                                    \n",
      " case_late            | false                                   \n",
      " num_days_late        | null                                    \n",
      " case_closed          | false                                   \n",
      " service_request_type | Request for Research/Information        \n",
      " SLA_days             | null                                    \n",
      " case_status          | Open                                    \n",
      " source_id            | 119868                                  \n",
      " request_address      | 13727  hunters moss, san antonio, 78230 \n",
      " council_district     | 008                                     \n",
      " num_weeks_late       | null                                    \n",
      " zipcode              | 78230                                   \n",
      " case_age             | 1207                                    \n",
      " days_to_closed       | null                                    \n",
      " case_lifetime        | 1207                                    \n",
      " case_closed_year     | null                                    \n",
      " num_hours_late       | null                                    \n",
      " department           | City Council                            \n",
      " dept_subject_to_SLA  | false                                   \n",
      "-RECORD 8-------------------------------------------------------\n",
      " dept_division        | District 3                              \n",
      " case_id              | 1014437272                              \n",
      " case_opened_date     | 2018-04-18 14:37:00                     \n",
      " case_closed_date     | null                                    \n",
      " case_due_date        | null                                    \n",
      " case_late            | false                                   \n",
      " num_days_late        | null                                    \n",
      " case_closed          | false                                   \n",
      " service_request_type | Request for Research/Information        \n",
      " SLA_days             | null                                    \n",
      " case_status          | Open                                    \n",
      " source_id            | np26458                                 \n",
      " request_address      | 500  hansford st, san antonio, 78210    \n",
      " council_district     | 003                                     \n",
      " num_weeks_late       | null                                    \n",
      " zipcode              | 78210                                   \n",
      " case_age             | 1206                                    \n",
      " days_to_closed       | null                                    \n",
      " case_lifetime        | 1206                                    \n",
      " case_closed_year     | null                                    \n",
      " num_hours_late       | null                                    \n",
      " department           | City Council                            \n",
      " dept_subject_to_SLA  | false                                   \n",
      "-RECORD 9-------------------------------------------------------\n",
      " dept_division        | District 9                              \n",
      " case_id              | 1014443709                              \n",
      " case_opened_date     | 2018-04-20 11:29:00                     \n",
      " case_closed_date     | null                                    \n",
      " case_due_date        | null                                    \n",
      " case_late            | false                                   \n",
      " num_days_late        | null                                    \n",
      " case_closed          | false                                   \n",
      " service_request_type | Request for Research/Information        \n",
      " SLA_days             | null                                    \n",
      " case_status          | Open                                    \n",
      " source_id            | 142989                                  \n",
      " request_address      | babcock rd and beverly mae e            \n",
      " council_district     | 008                                     \n",
      " num_weeks_late       | null                                    \n",
      " zipcode              |                                         \n",
      " case_age             | 1204                                    \n",
      " days_to_closed       | null                                    \n",
      " case_lifetime        | 1204                                    \n",
      " case_closed_year     | null                                    \n",
      " num_hours_late       | null                                    \n",
      " department           | City Council                            \n",
      " dept_subject_to_SLA  | false                                   \n",
      "only showing top 10 rows\n",
      "\n"
     ]
    }
   ],
   "source": [
    "df.where(df.service_request_type == 'Request for Research/Information').show(10, False, True)"
   ]
  },
  {
   "cell_type": "markdown",
   "metadata": {},
   "source": [
    "### 11. Does number of days late depend on department?"
   ]
  },
  {
   "cell_type": "code",
   "execution_count": 75,
   "metadata": {
    "scrolled": true
   },
   "outputs": [
    {
     "name": "stdout",
     "output_type": "stream",
     "text": [
      "+--------------------+-------------------+\n",
      "|          department| avg(num_days_late)|\n",
      "+--------------------+-------------------+\n",
      "|         Solid Waste| -2.193864424022545|\n",
      "|Animal Care Services|-226.16549770717506|\n",
      "|Trans & Cap Impro...|-20.509793501785314|\n",
      "|  Parks & Recreation| -5.283345998745901|\n",
      "|    Customer Service|  59.49019459221518|\n",
      "|        Metro Health| -4.904223205386017|\n",
      "|        City Council|               null|\n",
      "|DSD/Code Enforcement| -38.32346772537388|\n",
      "+--------------------+-------------------+\n",
      "\n"
     ]
    }
   ],
   "source": [
    "df.groupBy(\"department\").mean(\"num_days_late\").show(20)"
   ]
  },
  {
   "cell_type": "code",
   "execution_count": 76,
   "metadata": {
    "scrolled": false
   },
   "outputs": [
    {
     "name": "stdout",
     "output_type": "stream",
     "text": [
      "+--------------------+------+\n",
      "|          department| count|\n",
      "+--------------------+------+\n",
      "|         Solid Waste|279270|\n",
      "|Animal Care Services|116915|\n",
      "|Trans & Cap Impro...| 96193|\n",
      "|  Parks & Recreation| 19907|\n",
      "|    Customer Service|  2849|\n",
      "|        Metro Health|  5163|\n",
      "|        City Council|    33|\n",
      "|DSD/Code Enforcement|321374|\n",
      "+--------------------+------+\n",
      "\n"
     ]
    }
   ],
   "source": [
    "df.groupBy(\"department\").count().show(20)"
   ]
  },
  {
   "cell_type": "code",
   "execution_count": 79,
   "metadata": {},
   "outputs": [
    {
     "name": "stdout",
     "output_type": "stream",
     "text": [
      "-RECORD 0----------------------------------------------------\n",
      " dept_division        | Field Operations                     \n",
      " case_id              | 1014127332                           \n",
      " case_opened_date     | 2018-01-01 00:42:00                  \n",
      " case_closed_date     | 2018-01-01 12:29:00                  \n",
      " case_due_date        | 2020-09-26 00:42:00                  \n",
      " case_late            | false                                \n",
      " num_days_late        | -998.5087616000001                   \n",
      " case_closed          | true                                 \n",
      " service_request_type | Stray Animal                         \n",
      " SLA_days             | 999.0                                \n",
      " case_status          | Closed                               \n",
      " source_id            | svcCRMLS                             \n",
      " request_address      | 2315  el paso st, san antonio, 78207 \n",
      " council_district     | 005                                  \n",
      " num_weeks_late       | -142.6441088                         \n",
      " zipcode              | 78207                                \n",
      " case_age             | 1313                                 \n",
      " days_to_closed       | 0                                    \n",
      " case_lifetime        | 0                                    \n",
      " case_closed_year     | 2018                                 \n",
      " num_hours_late       | -23964.2102784                       \n",
      " department           | Animal Care Services                 \n",
      " dept_subject_to_SLA  | true                                 \n",
      "only showing top 1 row\n",
      "\n"
     ]
    }
   ],
   "source": [
    "df.show(1, False, True)"
   ]
  },
  {
   "cell_type": "code",
   "execution_count": 83,
   "metadata": {
    "scrolled": false
   },
   "outputs": [],
   "source": [
    "#df.filter(df.deparment == \"City Council\").show(5,True, False)"
   ]
  },
  {
   "cell_type": "code",
   "execution_count": 134,
   "metadata": {},
   "outputs": [
    {
     "data": {
      "text/plain": [
       "113902"
      ]
     },
     "execution_count": 134,
     "metadata": {},
     "output_type": "execute_result"
    }
   ],
   "source": [
    "case.filter(case.dept_division == \"Field Operations\")\\\n",
    ".where(case.service_request_type != 'Officer Standby').count()"
   ]
  },
  {
   "cell_type": "markdown",
   "metadata": {},
   "source": [
    "### 12. How do number of days late depend on department and request type?"
   ]
  },
  {
   "cell_type": "code",
   "execution_count": 84,
   "metadata": {},
   "outputs": [
    {
     "name": "stdout",
     "output_type": "stream",
     "text": [
      "+------------------------+----------------------------------------+-------------------+\n",
      "|department              |service_request_type                    |avg(num_days_late) |\n",
      "+------------------------+----------------------------------------+-------------------+\n",
      "|Trans & Cap Improvements|Flashing Beacon New Request             |-68.19004095633333 |\n",
      "|Solid Waste             |Request for Commercial Service          |4.081734210910448  |\n",
      "|DSD/Code Enforcement    |Graffiti: Commercial (Occupied)         |-58.870344428275864|\n",
      "|DSD/Code Enforcement    |DSDB Ordered/Hold Harmless/Regular: ASEC|-22.5688841082     |\n",
      "|Metro Health            |Public Right of Way                     |-1.1180635370092933|\n",
      "|Parks & Recreation      |Amenity Park Improvement                |10.114974371919642 |\n",
      "|Trans & Cap Improvements|Speed Limit Sign                        |-12.105217054218754|\n",
      "|Parks & Recreation      |Pools                                   |-1.8421989853587784|\n",
      "|DSD/Code Enforcement    |Emergency: Main and Accessory Structures|22.253811300629632 |\n",
      "|Parks & Recreation      |Brush/Debris Collection                 |-0.6697609354827592|\n",
      "|DSD/Code Enforcement    |Storage of Used Mattress                |142.112556415      |\n",
      "|Trans & Cap Improvements|School Flashers Maintenance             |-2.6795104509828973|\n",
      "|Solid Waste             |Lost/Stolen Cart                        |-3.5164075157893917|\n",
      "|Parks & Recreation      |Playgrounds                             |-6.624961567266345 |\n",
      "|Trans & Cap Improvements|Left-Turn Signal New Request            |-54.179095879629465|\n",
      "|DSD/Code Enforcement    |\"Vacant Lot-City (48\"\")\"                |-42.632767744083644|\n",
      "|Trans & Cap Improvements|Parking Issue                           |-15.160798689836735|\n",
      "|DSD/Code Enforcement    |Temporary Obstruction                   |-119.75801638405595|\n",
      "|Parks & Recreation      |Parks Mowing                            |-0.6971105664434387|\n",
      "|Trans & Cap Improvements|Street Sweeping                         |-5.483145616518577 |\n",
      "|Trans & Cap Improvements|Pavement Marking Investigation          |-5.463416295033283 |\n",
      "|Trans & Cap Improvements|Street Debris                           |-1.568141246684455 |\n",
      "|DSD/Code Enforcement    |Zoning Business in Resident Area        |-111.76685019425403|\n",
      "|DSD/Code Enforcement    |Wasting Water (General)                 |-46.766600529      |\n",
      "|DSD/Code Enforcement    |Vacant Lot-County (1000)                |-43.014040637777775|\n",
      "|Trans & Cap Improvements|Traffic Signal Graffiti                 |77.90021217000002  |\n",
      "|Trans & Cap Improvements|Tree Fallen                             |-1.5045559297190112|\n",
      "|Trans & Cap Improvements|Guard Rail/Guard Post Damage            |-34.37809052415518 |\n",
      "|DSD/Code Enforcement    |Vacant Lot: Within 1000 School/Day Care |-38.781242284166666|\n",
      "|Metro Health            |Working without a License               |-5.18475736529697  |\n",
      "|Solid Waste             |3rd Call Bagged Leaves with Fee         |-3.152896412       |\n",
      "|Trans & Cap Improvements|Accident Problem Investigation          |-22.97103045993122 |\n",
      "|DSD/Code Enforcement    |Historical Building (No Permits)        |31.567148565454545 |\n",
      "|Trans & Cap Improvements|Signal Timing Modification              |-80.20183653341978 |\n",
      "|Parks & Recreation      |Heating and Air Conditioning            |-5.772702066403019 |\n",
      "|Metro Health            |License Renewal Invoice                 |-1.4331440641527042|\n",
      "|Parks & Recreation      |Outdoor Athletic Court/Field Maint      |-2.9914267367299265|\n",
      "|Solid Waste             |Cart PickUp                             |-3.5646788248981265|\n",
      "|DSD/Code Enforcement    |Dang Premises/Secure Only               |-39.85677104811111 |\n",
      "|Parks & Recreation      |Electrical                              |11.750504897402118 |\n",
      "|Trans & Cap Improvements|Tree- Visual Obstruction                |-2.6284523917296423|\n",
      "|Parks & Recreation      |Reservation Assistance                  |66.03116319        |\n",
      "|DSD/Code Enforcement    |Record Keeping of Used Mattresses       |153.99724039428568 |\n",
      "|Trans & Cap Improvements|Street/Drainage Problem Investigation   |-36.94975357746611 |\n",
      "|Parks & Recreation      |Fence/Gate Repair                       |3.8644623839083327 |\n",
      "|Solid Waste             |Recycle Container removed from Service  |-1.7602091906666668|\n",
      "|DSD/Code Enforcement    |DSDB Ordered/Hold Harmless/Regular: Main|-12.388873814519892|\n",
      "|DSD/Code Enforcement    |Dang Premises/Cut/Clean Only            |-39.6620474370628  |\n",
      "|DSD/Code Enforcement    |Graffiti: Vacant Lots                   |-69.07114005       |\n",
      "|Solid Waste             |Brush Property Damage                   |-4.931723907978261 |\n",
      "+------------------------+----------------------------------------+-------------------+\n",
      "only showing top 50 rows\n",
      "\n"
     ]
    }
   ],
   "source": [
    "df.groupBy(\"department\", \"service_request_type\").mean(\"num_days_late\").show(50, truncate= False)"
   ]
  },
  {
   "cell_type": "code",
   "execution_count": null,
   "metadata": {},
   "outputs": [],
   "source": []
  }
 ],
 "metadata": {
  "kernelspec": {
   "display_name": "Python 3",
   "language": "python",
   "name": "python3"
  },
  "language_info": {
   "codemirror_mode": {
    "name": "ipython",
    "version": 3
   },
   "file_extension": ".py",
   "mimetype": "text/x-python",
   "name": "python",
   "nbconvert_exporter": "python",
   "pygments_lexer": "ipython3",
   "version": "3.8.5"
  }
 },
 "nbformat": 4,
 "nbformat_minor": 4
}
